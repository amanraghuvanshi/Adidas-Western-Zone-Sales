{
  "cells": [
    {
      "cell_type": "markdown",
      "metadata": {
        "id": "UH6XCru8OWAP"
      },
      "source": [
        "#**Adidas Sales Analysis ⚽**\n",
        "\n",
        "**Requirements**\n",
        "1. **Plotly**"
      ]
    },
    {
      "cell_type": "markdown",
      "metadata": {
        "id": "tu1O_8ceVAPo"
      },
      "source": [
        "<hr>\n",
        "\n",
        "#**Business problems that can be solved using this dataset:**\n",
        "* **Sales Performance Analysis: Which products are excelling in sales, and which are underperforming?**\n",
        "* **Regional Market Analysis: Which stores are experiencing strong sales, and which ones are lagging?**\n",
        "* **Profit Margin Analysis: Does the profit margin significantly impact sales?**\n",
        "* **Efficiency of Sales Methods: Which sales method is more effective - in-store or online?**\n",
        "* **Price Optimization: Is there a specific price range that achieves better sales than others?**\n",
        "* **Product Portfolio Optimization I: Determine which products are most profitable, segmented by location.**\n",
        "* **Market Expansion Opportunities: Assess the best and worst performing stores based on their locations.**\n",
        "* **Time Series Analysis: Investigate whether there has been a consistent sales trend over time or any noticeable monthly trends.**\n",
        "* **Predictive Sales Analysis: Develop a forecast for monthly sales.**\n",
        "\n",
        "<hr>"
      ]
    },
    {
      "cell_type": "code",
      "execution_count": 1,
      "metadata": {
        "colab": {
          "base_uri": "https://localhost:8080/"
        },
        "id": "0Y95O10ySG2W",
        "outputId": "650e1837-6672-4677-f620-3b61bdc0b15a"
      },
      "outputs": [
        {
          "name": "stdout",
          "output_type": "stream",
          "text": [
            "Requirement already satisfied: xlrd in c:\\users\\aman raghuvanshi\\appdata\\local\\programs\\python\\python311\\lib\\site-packages (2.0.1)\n"
          ]
        },
        {
          "name": "stderr",
          "output_type": "stream",
          "text": [
            "\n",
            "[notice] A new release of pip is available: 23.3.2 -> 24.0\n",
            "[notice] To update, run: python.exe -m pip install --upgrade pip\n"
          ]
        }
      ],
      "source": [
        "!pip install xlrd"
      ]
    },
    {
      "cell_type": "code",
      "execution_count": 2,
      "metadata": {
        "colab": {
          "base_uri": "https://localhost:8080/"
        },
        "id": "jy17PJmWPPQU",
        "outputId": "84ce19b6-d0a4-4499-ca56-5a9ffeb4ef6f"
      },
      "outputs": [
        {
          "name": "stdout",
          "output_type": "stream",
          "text": [
            "Requirement already satisfied: datatable in c:\\users\\aman raghuvanshi\\appdata\\local\\programs\\python\\python311\\lib\\site-packages (1.1.0)\n"
          ]
        },
        {
          "name": "stderr",
          "output_type": "stream",
          "text": [
            "\n",
            "[notice] A new release of pip is available: 23.3.2 -> 24.0\n",
            "[notice] To update, run: python.exe -m pip install --upgrade pip\n"
          ]
        }
      ],
      "source": [
        "!pip install datatable"
      ]
    },
    {
      "cell_type": "code",
      "execution_count": 3,
      "metadata": {
        "colab": {
          "base_uri": "https://localhost:8080/"
        },
        "id": "uLWANizPPULb",
        "outputId": "a062bf21-757a-401d-c129-ef7719552d92"
      },
      "outputs": [
        {
          "name": "stdout",
          "output_type": "stream",
          "text": [
            "Requirement already satisfied: dask in c:\\users\\aman raghuvanshi\\appdata\\local\\programs\\python\\python311\\lib\\site-packages (2024.1.1)\n",
            "Requirement already satisfied: click>=8.1 in c:\\users\\aman raghuvanshi\\appdata\\local\\programs\\python\\python311\\lib\\site-packages (from dask) (8.1.7)\n",
            "Requirement already satisfied: cloudpickle>=1.5.0 in c:\\users\\aman raghuvanshi\\appdata\\local\\programs\\python\\python311\\lib\\site-packages (from dask) (3.0.0)\n",
            "Requirement already satisfied: fsspec>=2021.09.0 in c:\\users\\aman raghuvanshi\\appdata\\local\\programs\\python\\python311\\lib\\site-packages (from dask) (2024.2.0)\n",
            "Requirement already satisfied: packaging>=20.0 in c:\\users\\aman raghuvanshi\\appdata\\local\\programs\\python\\python311\\lib\\site-packages (from dask) (23.2)\n",
            "Requirement already satisfied: partd>=1.2.0 in c:\\users\\aman raghuvanshi\\appdata\\local\\programs\\python\\python311\\lib\\site-packages (from dask) (1.4.1)\n",
            "Requirement already satisfied: pyyaml>=5.3.1 in c:\\users\\aman raghuvanshi\\appdata\\local\\programs\\python\\python311\\lib\\site-packages (from dask) (6.0.1)\n",
            "Requirement already satisfied: toolz>=0.10.0 in c:\\users\\aman raghuvanshi\\appdata\\local\\programs\\python\\python311\\lib\\site-packages (from dask) (0.12.0)\n",
            "Requirement already satisfied: importlib-metadata>=4.13.0 in c:\\users\\aman raghuvanshi\\appdata\\local\\programs\\python\\python311\\lib\\site-packages (from dask) (6.8.0)\n",
            "Requirement already satisfied: colorama in c:\\users\\aman raghuvanshi\\appdata\\local\\programs\\python\\python311\\lib\\site-packages (from click>=8.1->dask) (0.4.6)\n",
            "Requirement already satisfied: zipp>=0.5 in c:\\users\\aman raghuvanshi\\appdata\\local\\programs\\python\\python311\\lib\\site-packages (from importlib-metadata>=4.13.0->dask) (3.17.0)\n",
            "Requirement already satisfied: locket in c:\\users\\aman raghuvanshi\\appdata\\local\\programs\\python\\python311\\lib\\site-packages (from partd>=1.2.0->dask) (1.0.0)\n"
          ]
        },
        {
          "name": "stderr",
          "output_type": "stream",
          "text": [
            "\n",
            "[notice] A new release of pip is available: 23.3.2 -> 24.0\n",
            "[notice] To update, run: python.exe -m pip install --upgrade pip\n"
          ]
        }
      ],
      "source": [
        "!pip install dask"
      ]
    },
    {
      "cell_type": "code",
      "execution_count": 4,
      "metadata": {},
      "outputs": [
        {
          "name": "stdout",
          "output_type": "stream",
          "text": [
            "Requirement already satisfied: seaborn in c:\\users\\aman raghuvanshi\\appdata\\local\\programs\\python\\python311\\lib\\site-packages (0.13.2)\n",
            "Requirement already satisfied: numpy!=1.24.0,>=1.20 in c:\\users\\aman raghuvanshi\\appdata\\local\\programs\\python\\python311\\lib\\site-packages (from seaborn) (1.26.2)\n",
            "Requirement already satisfied: pandas>=1.2 in c:\\users\\aman raghuvanshi\\appdata\\local\\programs\\python\\python311\\lib\\site-packages (from seaborn) (2.1.3)\n",
            "Requirement already satisfied: matplotlib!=3.6.1,>=3.4 in c:\\users\\aman raghuvanshi\\appdata\\local\\programs\\python\\python311\\lib\\site-packages (from seaborn) (3.8.2)\n",
            "Requirement already satisfied: contourpy>=1.0.1 in c:\\users\\aman raghuvanshi\\appdata\\local\\programs\\python\\python311\\lib\\site-packages (from matplotlib!=3.6.1,>=3.4->seaborn) (1.2.0)\n",
            "Requirement already satisfied: cycler>=0.10 in c:\\users\\aman raghuvanshi\\appdata\\local\\programs\\python\\python311\\lib\\site-packages (from matplotlib!=3.6.1,>=3.4->seaborn) (0.12.1)\n",
            "Requirement already satisfied: fonttools>=4.22.0 in c:\\users\\aman raghuvanshi\\appdata\\local\\programs\\python\\python311\\lib\\site-packages (from matplotlib!=3.6.1,>=3.4->seaborn) (4.47.0)\n",
            "Requirement already satisfied: kiwisolver>=1.3.1 in c:\\users\\aman raghuvanshi\\appdata\\local\\programs\\python\\python311\\lib\\site-packages (from matplotlib!=3.6.1,>=3.4->seaborn) (1.4.5)\n",
            "Requirement already satisfied: packaging>=20.0 in c:\\users\\aman raghuvanshi\\appdata\\local\\programs\\python\\python311\\lib\\site-packages (from matplotlib!=3.6.1,>=3.4->seaborn) (23.2)\n",
            "Requirement already satisfied: pillow>=8 in c:\\users\\aman raghuvanshi\\appdata\\local\\programs\\python\\python311\\lib\\site-packages (from matplotlib!=3.6.1,>=3.4->seaborn) (10.1.0)\n",
            "Requirement already satisfied: pyparsing>=2.3.1 in c:\\users\\aman raghuvanshi\\appdata\\local\\programs\\python\\python311\\lib\\site-packages (from matplotlib!=3.6.1,>=3.4->seaborn) (3.1.1)\n",
            "Requirement already satisfied: python-dateutil>=2.7 in c:\\users\\aman raghuvanshi\\appdata\\local\\programs\\python\\python311\\lib\\site-packages (from matplotlib!=3.6.1,>=3.4->seaborn) (2.8.2)\n",
            "Requirement already satisfied: pytz>=2020.1 in c:\\users\\aman raghuvanshi\\appdata\\local\\programs\\python\\python311\\lib\\site-packages (from pandas>=1.2->seaborn) (2023.3.post1)\n",
            "Requirement already satisfied: tzdata>=2022.1 in c:\\users\\aman raghuvanshi\\appdata\\local\\programs\\python\\python311\\lib\\site-packages (from pandas>=1.2->seaborn) (2023.3)\n",
            "Requirement already satisfied: six>=1.5 in c:\\users\\aman raghuvanshi\\appdata\\local\\programs\\python\\python311\\lib\\site-packages (from python-dateutil>=2.7->matplotlib!=3.6.1,>=3.4->seaborn) (1.16.0)\n"
          ]
        },
        {
          "name": "stderr",
          "output_type": "stream",
          "text": [
            "\n",
            "[notice] A new release of pip is available: 23.3.2 -> 24.0\n",
            "[notice] To update, run: python.exe -m pip install --upgrade pip\n",
            "\n",
            "[notice] A new release of pip is available: 23.3.2 -> 24.0\n",
            "[notice] To update, run: python.exe -m pip install --upgrade pip\n"
          ]
        },
        {
          "name": "stdout",
          "output_type": "stream",
          "text": [
            "Requirement already satisfied: statsmodels in c:\\users\\aman raghuvanshi\\appdata\\local\\programs\\python\\python311\\lib\\site-packages (0.14.1)\n",
            "Requirement already satisfied: numpy<2,>=1.18 in c:\\users\\aman raghuvanshi\\appdata\\local\\programs\\python\\python311\\lib\\site-packages (from statsmodels) (1.26.2)\n",
            "Requirement already satisfied: scipy!=1.9.2,>=1.4 in c:\\users\\aman raghuvanshi\\appdata\\local\\programs\\python\\python311\\lib\\site-packages (from statsmodels) (1.11.4)\n",
            "Requirement already satisfied: pandas!=2.1.0,>=1.0 in c:\\users\\aman raghuvanshi\\appdata\\local\\programs\\python\\python311\\lib\\site-packages (from statsmodels) (2.1.3)\n",
            "Requirement already satisfied: patsy>=0.5.4 in c:\\users\\aman raghuvanshi\\appdata\\local\\programs\\python\\python311\\lib\\site-packages (from statsmodels) (0.5.6)\n",
            "Requirement already satisfied: packaging>=21.3 in c:\\users\\aman raghuvanshi\\appdata\\local\\programs\\python\\python311\\lib\\site-packages (from statsmodels) (23.2)\n",
            "Requirement already satisfied: python-dateutil>=2.8.2 in c:\\users\\aman raghuvanshi\\appdata\\local\\programs\\python\\python311\\lib\\site-packages (from pandas!=2.1.0,>=1.0->statsmodels) (2.8.2)\n",
            "Requirement already satisfied: pytz>=2020.1 in c:\\users\\aman raghuvanshi\\appdata\\local\\programs\\python\\python311\\lib\\site-packages (from pandas!=2.1.0,>=1.0->statsmodels) (2023.3.post1)\n",
            "Requirement already satisfied: tzdata>=2022.1 in c:\\users\\aman raghuvanshi\\appdata\\local\\programs\\python\\python311\\lib\\site-packages (from pandas!=2.1.0,>=1.0->statsmodels) (2023.3)\n",
            "Requirement already satisfied: six in c:\\users\\aman raghuvanshi\\appdata\\local\\programs\\python\\python311\\lib\\site-packages (from patsy>=0.5.4->statsmodels) (1.16.0)\n"
          ]
        }
      ],
      "source": [
        "!pip install seaborn\n",
        "!pip install statsmodels"
      ]
    },
    {
      "cell_type": "markdown",
      "metadata": {
        "id": "v-dG0IjIPe-l"
      },
      "source": [
        "<hr>\n",
        "\n",
        "#**Step 1: Importing Libraries**\n",
        "\n",
        "<hr>"
      ]
    },
    {
      "cell_type": "code",
      "execution_count": 5,
      "metadata": {
        "colab": {
          "base_uri": "https://localhost:8080/",
          "height": 17
        },
        "id": "-KZtdSBSOZvl",
        "outputId": "cc04382c-60b2-4c56-f90d-f231f2f5ded1"
      },
      "outputs": [
        {
          "data": {
            "text/html": [
              "<style type='text/css'>\n",
              ".datatable table.frame { margin-bottom: 0; }\n",
              ".datatable table.frame thead { border-bottom: none; }\n",
              ".datatable table.frame tr.coltypes td {  color: #FFFFFF;  line-height: 6px;  padding: 0 0.5em;}\n",
              ".datatable .bool    { background: #DDDD99; }\n",
              ".datatable .object  { background: #565656; }\n",
              ".datatable .int     { background: #5D9E5D; }\n",
              ".datatable .float   { background: #4040CC; }\n",
              ".datatable .str     { background: #CC4040; }\n",
              ".datatable .time    { background: #40CC40; }\n",
              ".datatable .row_index {  background: var(--jp-border-color3);  border-right: 1px solid var(--jp-border-color0);  color: var(--jp-ui-font-color3);  font-size: 9px;}\n",
              ".datatable .frame tbody td { text-align: left; }\n",
              ".datatable .frame tr.coltypes .row_index {  background: var(--jp-border-color0);}\n",
              ".datatable th:nth-child(2) { padding-left: 12px; }\n",
              ".datatable .hellipsis {  color: var(--jp-cell-editor-border-color);}\n",
              ".datatable .vellipsis {  background: var(--jp-layout-color0);  color: var(--jp-cell-editor-border-color);}\n",
              ".datatable .na {  color: var(--jp-cell-editor-border-color);  font-size: 80%;}\n",
              ".datatable .sp {  opacity: 0.25;}\n",
              ".datatable .footer { font-size: 9px; }\n",
              ".datatable .frame_dimensions {  background: var(--jp-border-color3);  border-top: 1px solid var(--jp-border-color0);  color: var(--jp-ui-font-color3);  display: inline-block;  opacity: 0.6;  padding: 1px 10px 1px 5px;}\n",
              "</style>\n"
            ],
            "text/plain": [
              "<IPython.core.display.HTML object>"
            ]
          },
          "metadata": {},
          "output_type": "display_data"
        }
      ],
      "source": [
        "import numpy as np\n",
        "import pandas as pd\n",
        "import seaborn as sns\n",
        "import datatable as dt  # for a better data uploading\n",
        "import plotly.express as px\n",
        "import matplotlib.pyplot as plt\n",
        "import plotly.graph_objects as go\n",
        "from dask import dataframe as dd  # for better data uploading\n",
        "from statsmodels.tsa.arima.model import ARIMA\n",
        "from statsmodels.tsa.seasonal import seasonal_decompose"
      ]
    },
    {
      "cell_type": "markdown",
      "metadata": {
        "id": "f7dWWKGjPjve"
      },
      "source": [
        "<hr>\n",
        "\n",
        "#**Step 2: Data Loading**\n",
        "\n",
        "<hr>"
      ]
    },
    {
      "cell_type": "markdown",
      "metadata": {
        "id": "jmyvQeRhRNhX"
      },
      "source": [
        "**Data Loading using datatable**"
      ]
    },
    {
      "cell_type": "code",
      "execution_count": 6,
      "metadata": {
        "colab": {
          "base_uri": "https://localhost:8080/"
        },
        "id": "Ye-N6Gl3R73c",
        "outputId": "b1174750-c82c-44b3-e6a5-e18c7443a67b"
      },
      "outputs": [],
      "source": [
        "import datatable as dt\n",
        "file_loc = 'D:/Python Programming/Training/AdidasAnalysis/Adidas_US_Sales.csv'\n",
        "dt_df = dt.fread(file_loc)"
      ]
    },
    {
      "cell_type": "code",
      "execution_count": 7,
      "metadata": {
        "colab": {
          "base_uri": "https://localhost:8080/",
          "height": 1000
        },
        "id": "KCN6NinNT5z3",
        "outputId": "70472b76-20e4-4559-8ab1-2960acfe178a"
      },
      "outputs": [
        {
          "data": {
            "text/html": [
              "<div class='datatable'>\n",
              "  <table class='frame'>\n",
              "  <thead>\n",
              "    <tr class='colnames'><td class='row_index'></td><th>Retailer</th><th>Retailer ID</th><th>Invoice Date</th><th>Region</th><th>State</th><th>City</th><th>Product</th><th>Price per Unit</th><th>Units Sold</th><th>Total Sales</th><th>Operating Profit</th><th>Operating Margin</th><th>Sales Method</th></tr>\n",
              "    <tr class='coltypes'><td class='row_index'></td><td class='str' title='str32'>&#x25AA;&#x25AA;&#x25AA;&#x25AA;</td><td class='int' title='int32'>&#x25AA;&#x25AA;&#x25AA;&#x25AA;</td><td class='str' title='str32'>&#x25AA;&#x25AA;&#x25AA;&#x25AA;</td><td class='str' title='str32'>&#x25AA;&#x25AA;&#x25AA;&#x25AA;</td><td class='str' title='str32'>&#x25AA;&#x25AA;&#x25AA;&#x25AA;</td><td class='str' title='str32'>&#x25AA;&#x25AA;&#x25AA;&#x25AA;</td><td class='str' title='str32'>&#x25AA;&#x25AA;&#x25AA;&#x25AA;</td><td class='str' title='str32'>&#x25AA;&#x25AA;&#x25AA;&#x25AA;</td><td class='int' title='int32'>&#x25AA;&#x25AA;&#x25AA;&#x25AA;</td><td class='str' title='str32'>&#x25AA;&#x25AA;&#x25AA;&#x25AA;</td><td class='str' title='str32'>&#x25AA;&#x25AA;&#x25AA;&#x25AA;</td><td class='str' title='str32'>&#x25AA;&#x25AA;&#x25AA;&#x25AA;</td><td class='str' title='str32'>&#x25AA;&#x25AA;&#x25AA;&#x25AA;</td></tr>\n",
              "  </thead>\n",
              "  <tbody>\n",
              "    <tr><td class='row_index'>0</td><td>Foot Locker</td><td>1185732</td><td>01-01-2020</td><td>Northeast</td><td>New York</td><td>New York</td><td>Men's Street Footwear</td><td>$50.00</td><td>1200</td><td>$6,00,000 </td><td>$3,00,000 </td><td>50%</td><td>In-store</td></tr>\n",
              "    <tr><td class='row_index'>1</td><td>Foot Locker</td><td>1185732</td><td>02-01-2020</td><td>Northeast</td><td>New York</td><td>New York</td><td>Men's Athletic Footwear</td><td>$50.00</td><td>1000</td><td>$5,00,000 </td><td>$1,50,000 </td><td>30%</td><td>In-store</td></tr>\n",
              "    <tr><td class='row_index'>2</td><td>Foot Locker</td><td>1185732</td><td>03-01-2020</td><td>Northeast</td><td>New York</td><td>New York</td><td>Women's Street Footwear</td><td>$40.00</td><td>1000</td><td>$4,00,000 </td><td>$1,40,000 </td><td>35%</td><td>In-store</td></tr>\n",
              "    <tr><td class='row_index'>3</td><td>Foot Locker</td><td>1185732</td><td>04-01-2020</td><td>Northeast</td><td>New York</td><td>New York</td><td>Women's Athletic Footwear</td><td>$45.00</td><td>850</td><td>$3,82,500 </td><td>$1,33,875 </td><td>35%</td><td>In-store</td></tr>\n",
              "    <tr><td class='row_index'>4</td><td>Foot Locker</td><td>1185732</td><td>05-01-2020</td><td>Northeast</td><td>New York</td><td>New York</td><td>Men's Apparel</td><td>$60.00</td><td>900</td><td>$5,40,000 </td><td>$1,62,000 </td><td>30%</td><td>In-store</td></tr>\n",
              "    <tr><td class='row_index'>5</td><td>Foot Locker</td><td>1185732</td><td>06-01-2020</td><td>Northeast</td><td>New York</td><td>New York</td><td>Women's Apparel</td><td>$50.00</td><td>1000</td><td>$5,00,000 </td><td>$1,25,000 </td><td>25%</td><td>In-store</td></tr>\n",
              "    <tr><td class='row_index'>6</td><td>Foot Locker</td><td>1185732</td><td>07-01-2020</td><td>Northeast</td><td>New York</td><td>New York</td><td>Men's Street Footwear</td><td>$50.00</td><td>1250</td><td>$6,25,000 </td><td>$3,12,500 </td><td>50%</td><td>In-store</td></tr>\n",
              "    <tr><td class='row_index'>7</td><td>Foot Locker</td><td>1185732</td><td>08-01-2020</td><td>Northeast</td><td>New York</td><td>New York</td><td>Men's Athletic Footwear</td><td>$50.00</td><td>900</td><td>$4,50,000 </td><td>$1,35,000 </td><td>30%</td><td>Outlet</td></tr>\n",
              "    <tr><td class='row_index'>8</td><td>Foot Locker</td><td>1185732</td><td>21-01-2020</td><td>Northeast</td><td>New York</td><td>New York</td><td>Women's Street Footwear</td><td>$40.00</td><td>950</td><td>$3,80,000 </td><td>$1,33,000 </td><td>35%</td><td>Outlet</td></tr>\n",
              "    <tr><td class='row_index'>9</td><td>Foot Locker</td><td>1185732</td><td>22-01-2020</td><td>Northeast</td><td>New York</td><td>New York</td><td>Women's Athletic Footwear</td><td>$45.00</td><td>825</td><td>$3,71,250 </td><td>$1,29,938 </td><td>35%</td><td>Outlet</td></tr>\n",
              "    <tr><td class='row_index'>10</td><td>Foot Locker</td><td>1185732</td><td>23-01-2020</td><td>Northeast</td><td>New York</td><td>New York</td><td>Men's Apparel</td><td>$60.00</td><td>900</td><td>$5,40,000 </td><td>$1,62,000 </td><td>30%</td><td>Outlet</td></tr>\n",
              "    <tr><td class='row_index'>11</td><td>Foot Locker</td><td>1185732</td><td>24-01-2020</td><td>Northeast</td><td>New York</td><td>New York</td><td>Women's Apparel</td><td>$50.00</td><td>1000</td><td>$5,00,000 </td><td>$1,25,000 </td><td>25%</td><td>Outlet</td></tr>\n",
              "    <tr><td class='row_index'>12</td><td>Foot Locker</td><td>1185732</td><td>25-01-2020</td><td>Northeast</td><td>New York</td><td>New York</td><td>Men's Street Footwear</td><td>$50.00</td><td>1220</td><td>$6,10,000 </td><td>$3,05,000 </td><td>50%</td><td>Outlet</td></tr>\n",
              "    <tr><td class='row_index'>13</td><td>Foot Locker</td><td>1185732</td><td>26-01-2020</td><td>Northeast</td><td>New York</td><td>New York</td><td>Men's Athletic Footwear</td><td>$50.00</td><td>925</td><td>$4,62,500 </td><td>$1,38,750 </td><td>30%</td><td>Outlet</td></tr>\n",
              "    <tr><td class='row_index'>14</td><td>Foot Locker</td><td>1185732</td><td>27-01-2020</td><td>Northeast</td><td>New York</td><td>New York</td><td>Women's Street Footwear</td><td>$40.00</td><td>950</td><td>$3,80,000 </td><td>$1,33,000 </td><td>35%</td><td>Outlet</td></tr>\n",
              "    <tr><td class='row_index'>&#x22EE;</td><td class='hellipsis'>&#x22EE;</td><td class='hellipsis'>&#x22EE;</td><td class='hellipsis'>&#x22EE;</td><td class='hellipsis'>&#x22EE;</td><td class='hellipsis'>&#x22EE;</td><td class='hellipsis'>&#x22EE;</td><td class='hellipsis'>&#x22EE;</td><td class='hellipsis'>&#x22EE;</td><td class='hellipsis'>&#x22EE;</td><td class='hellipsis'>&#x22EE;</td><td class='hellipsis'>&#x22EE;</td><td class='hellipsis'>&#x22EE;</td><td class='hellipsis'>&#x22EE;</td></tr>\n",
              "    <tr><td class='row_index'>9643</td><td>Foot Locker</td><td>1185732</td><td>24-01-2021</td><td>Northeast</td><td>New Hampshire</td><td>Manchester</td><td>Men's Apparel</td><td>$50.00</td><td>64</td><td>$3,200 </td><td>$896</td><td>28%</td><td>Outlet</td></tr>\n",
              "    <tr><td class='row_index'>9644</td><td>Foot Locker</td><td>1185732</td><td>24-01-2021</td><td>Northeast</td><td>New Hampshire</td><td>Manchester</td><td>Women's Apparel</td><td>$41.00</td><td>105</td><td>$4,305 </td><td>$1,378 </td><td>32%</td><td>Outlet</td></tr>\n",
              "    <tr><td class='row_index'>9645</td><td>Foot Locker</td><td>1185732</td><td>22-02-2021</td><td>Northeast</td><td>New Hampshire</td><td>Manchester</td><td>Men's Street Footwear</td><td>$41.00</td><td>184</td><td>$7,544 </td><td>$2,791 </td><td>37%</td><td>Outlet</td></tr>\n",
              "    <tr><td class='row_index'>9646</td><td>Foot Locker</td><td>1185732</td><td>22-02-2021</td><td>Northeast</td><td>New Hampshire</td><td>Manchester</td><td>Men's Athletic Footwear</td><td>$42.00</td><td>70</td><td>$2,940 </td><td>$1,235 </td><td>42%</td><td>Outlet</td></tr>\n",
              "    <tr><td class='row_index'>9647</td><td>Foot Locker</td><td>1185732</td><td>22-02-2021</td><td>Northeast</td><td>New Hampshire</td><td>Manchester</td><td>Women's Street Footwear</td><td>$29.00</td><td>83</td><td>$2,407 </td><td>$650</td><td>27%</td><td>Outlet</td></tr>\n",
              "  </tbody>\n",
              "  </table>\n",
              "  <div class='footer'>\n",
              "    <div class='frame_dimensions'>9648 rows &times; 13 columns</div>\n",
              "  </div>\n",
              "</div>\n"
            ],
            "text/plain": [
              "<Frame#20a95a84b10 9648x13>"
            ]
          },
          "execution_count": 7,
          "metadata": {},
          "output_type": "execute_result"
        }
      ],
      "source": [
        "dt_df"
      ]
    },
    {
      "cell_type": "markdown",
      "metadata": {
        "id": "yRKcmftvUsWa"
      },
      "source": [
        "Here we are using the datatable for the analysis, since it's faster than normal pandas"
      ]
    },
    {
      "cell_type": "code",
      "execution_count": 8,
      "metadata": {
        "colab": {
          "base_uri": "https://localhost:8080/",
          "height": 653
        },
        "id": "tEScdhPzUAde",
        "outputId": "2e4a80e2-9ff9-4189-cf7b-d04453dd2599"
      },
      "outputs": [
        {
          "data": {
            "text/html": [
              "<div class='datatable'>\n",
              "  <table class='frame'>\n",
              "  <thead>\n",
              "    <tr class='colnames'><td class='row_index'></td><th>Retailer</th><th>Retailer ID</th><th>Invoice Date</th><th>Region</th><th>State</th><th>City</th><th>Product</th><th>Price per Unit</th><th>Units Sold</th><th>Total Sales</th><th>Operating Profit</th><th>Operating Margin</th><th>Sales Method</th></tr>\n",
              "    <tr class='coltypes'><td class='row_index'></td><td class='str' title='str32'>&#x25AA;&#x25AA;&#x25AA;&#x25AA;</td><td class='int' title='int32'>&#x25AA;&#x25AA;&#x25AA;&#x25AA;</td><td class='str' title='str32'>&#x25AA;&#x25AA;&#x25AA;&#x25AA;</td><td class='str' title='str32'>&#x25AA;&#x25AA;&#x25AA;&#x25AA;</td><td class='str' title='str32'>&#x25AA;&#x25AA;&#x25AA;&#x25AA;</td><td class='str' title='str32'>&#x25AA;&#x25AA;&#x25AA;&#x25AA;</td><td class='str' title='str32'>&#x25AA;&#x25AA;&#x25AA;&#x25AA;</td><td class='str' title='str32'>&#x25AA;&#x25AA;&#x25AA;&#x25AA;</td><td class='int' title='int32'>&#x25AA;&#x25AA;&#x25AA;&#x25AA;</td><td class='str' title='str32'>&#x25AA;&#x25AA;&#x25AA;&#x25AA;</td><td class='str' title='str32'>&#x25AA;&#x25AA;&#x25AA;&#x25AA;</td><td class='str' title='str32'>&#x25AA;&#x25AA;&#x25AA;&#x25AA;</td><td class='str' title='str32'>&#x25AA;&#x25AA;&#x25AA;&#x25AA;</td></tr>\n",
              "  </thead>\n",
              "  <tbody>\n",
              "    <tr><td class='row_index'>0</td><td>Foot Locker</td><td>1185732</td><td>01-01-2020</td><td>Northeast</td><td>New York</td><td>New York</td><td>Men's Street Footwear</td><td>$50.00</td><td>1200</td><td>$6,00,000 </td><td>$3,00,000 </td><td>50%</td><td>In-store</td></tr>\n",
              "    <tr><td class='row_index'>1</td><td>Foot Locker</td><td>1185732</td><td>02-01-2020</td><td>Northeast</td><td>New York</td><td>New York</td><td>Men's Athletic Footwear</td><td>$50.00</td><td>1000</td><td>$5,00,000 </td><td>$1,50,000 </td><td>30%</td><td>In-store</td></tr>\n",
              "    <tr><td class='row_index'>2</td><td>Foot Locker</td><td>1185732</td><td>03-01-2020</td><td>Northeast</td><td>New York</td><td>New York</td><td>Women's Street Footwear</td><td>$40.00</td><td>1000</td><td>$4,00,000 </td><td>$1,40,000 </td><td>35%</td><td>In-store</td></tr>\n",
              "    <tr><td class='row_index'>3</td><td>Foot Locker</td><td>1185732</td><td>04-01-2020</td><td>Northeast</td><td>New York</td><td>New York</td><td>Women's Athletic Footwear</td><td>$45.00</td><td>850</td><td>$3,82,500 </td><td>$1,33,875 </td><td>35%</td><td>In-store</td></tr>\n",
              "    <tr><td class='row_index'>4</td><td>Foot Locker</td><td>1185732</td><td>05-01-2020</td><td>Northeast</td><td>New York</td><td>New York</td><td>Men's Apparel</td><td>$60.00</td><td>900</td><td>$5,40,000 </td><td>$1,62,000 </td><td>30%</td><td>In-store</td></tr>\n",
              "    <tr><td class='row_index'>5</td><td>Foot Locker</td><td>1185732</td><td>06-01-2020</td><td>Northeast</td><td>New York</td><td>New York</td><td>Women's Apparel</td><td>$50.00</td><td>1000</td><td>$5,00,000 </td><td>$1,25,000 </td><td>25%</td><td>In-store</td></tr>\n",
              "    <tr><td class='row_index'>6</td><td>Foot Locker</td><td>1185732</td><td>07-01-2020</td><td>Northeast</td><td>New York</td><td>New York</td><td>Men's Street Footwear</td><td>$50.00</td><td>1250</td><td>$6,25,000 </td><td>$3,12,500 </td><td>50%</td><td>In-store</td></tr>\n",
              "    <tr><td class='row_index'>7</td><td>Foot Locker</td><td>1185732</td><td>08-01-2020</td><td>Northeast</td><td>New York</td><td>New York</td><td>Men's Athletic Footwear</td><td>$50.00</td><td>900</td><td>$4,50,000 </td><td>$1,35,000 </td><td>30%</td><td>Outlet</td></tr>\n",
              "    <tr><td class='row_index'>8</td><td>Foot Locker</td><td>1185732</td><td>21-01-2020</td><td>Northeast</td><td>New York</td><td>New York</td><td>Women's Street Footwear</td><td>$40.00</td><td>950</td><td>$3,80,000 </td><td>$1,33,000 </td><td>35%</td><td>Outlet</td></tr>\n",
              "    <tr><td class='row_index'>9</td><td>Foot Locker</td><td>1185732</td><td>22-01-2020</td><td>Northeast</td><td>New York</td><td>New York</td><td>Women's Athletic Footwear</td><td>$45.00</td><td>825</td><td>$3,71,250 </td><td>$1,29,938 </td><td>35%</td><td>Outlet</td></tr>\n",
              "  </tbody>\n",
              "  </table>\n",
              "  <div class='footer'>\n",
              "    <div class='frame_dimensions'>10 rows &times; 13 columns</div>\n",
              "  </div>\n",
              "</div>\n"
            ],
            "text/plain": [
              "<Frame#20a95a84ea0 10x13>"
            ]
          },
          "execution_count": 8,
          "metadata": {},
          "output_type": "execute_result"
        }
      ],
      "source": [
        "dt_df.head()"
      ]
    },
    {
      "cell_type": "code",
      "execution_count": 9,
      "metadata": {
        "id": "AvZ3yEWnV1wJ"
      },
      "outputs": [],
      "source": [
        "# converting the datatable into pandas DataFrame\n",
        "df = dt_df.to_pandas()"
      ]
    },
    {
      "cell_type": "code",
      "execution_count": 10,
      "metadata": {
        "colab": {
          "base_uri": "https://localhost:8080/"
        },
        "id": "iybHriVnUzB2",
        "outputId": "256ae0af-4a8e-409e-8d76-cb1b95a264a8"
      },
      "outputs": [
        {
          "data": {
            "text/plain": [
              "(9648, 13)"
            ]
          },
          "execution_count": 10,
          "metadata": {},
          "output_type": "execute_result"
        }
      ],
      "source": [
        "df.shape"
      ]
    },
    {
      "cell_type": "markdown",
      "metadata": {
        "id": "aBaPMY3lVfc6"
      },
      "source": [
        "<hr>\n",
        "\n",
        "#**Step 3: Exploratory Data Analysis**\n",
        "\n",
        "<hr>"
      ]
    },
    {
      "cell_type": "code",
      "execution_count": 11,
      "metadata": {
        "colab": {
          "base_uri": "https://localhost:8080/"
        },
        "id": "7IyKWj0kU1eZ",
        "outputId": "2be2f3d8-097a-45d2-ac98-86424686dd62"
      },
      "outputs": [
        {
          "data": {
            "text/plain": [
              "(9648, 13)"
            ]
          },
          "execution_count": 11,
          "metadata": {},
          "output_type": "execute_result"
        }
      ],
      "source": [
        "df.shape"
      ]
    },
    {
      "cell_type": "markdown",
      "metadata": {
        "id": "wDu16_k_Vl-T"
      },
      "source": [
        "In total we are having 9648 sales records, with distribution across the 13 different columns"
      ]
    },
    {
      "cell_type": "markdown",
      "metadata": {
        "id": "23A5jkcBWfU8"
      },
      "source": [
        "<hr>\n",
        "\n",
        "**Data Description**"
      ]
    },
    {
      "cell_type": "code",
      "execution_count": 12,
      "metadata": {
        "colab": {
          "base_uri": "https://localhost:8080/"
        },
        "id": "Ku_p5SgjVlP5",
        "outputId": "2d8c99e2-f646-4df1-d6e7-cab2c7563ece"
      },
      "outputs": [
        {
          "name": "stdout",
          "output_type": "stream",
          "text": [
            "<class 'pandas.core.frame.DataFrame'>\n",
            "RangeIndex: 9648 entries, 0 to 9647\n",
            "Data columns (total 13 columns):\n",
            " #   Column            Non-Null Count  Dtype \n",
            "---  ------            --------------  ----- \n",
            " 0   Retailer          9648 non-null   object\n",
            " 1   Retailer ID       9648 non-null   int32 \n",
            " 2   Invoice Date      9648 non-null   object\n",
            " 3   Region            9648 non-null   object\n",
            " 4   State             9648 non-null   object\n",
            " 5   City              9648 non-null   object\n",
            " 6   Product           9648 non-null   object\n",
            " 7   Price per Unit    9648 non-null   object\n",
            " 8   Units Sold        9648 non-null   int32 \n",
            " 9   Total Sales       9648 non-null   object\n",
            " 10  Operating Profit  9648 non-null   object\n",
            " 11  Operating Margin  9648 non-null   object\n",
            " 12  Sales Method      9648 non-null   object\n",
            "dtypes: int32(2), object(11)\n",
            "memory usage: 904.6+ KB\n"
          ]
        }
      ],
      "source": [
        "df.info()"
      ]
    },
    {
      "cell_type": "markdown",
      "metadata": {
        "id": "C39HjqeoWP_T"
      },
      "source": [
        "Insights:\n",
        "1. Invoice Data is in the format of object, we can change it to the datetime object for better clarity\n",
        "\n",
        "<hr>"
      ]
    },
    {
      "cell_type": "markdown",
      "metadata": {
        "id": "KRC9fhu-WJRn"
      },
      "source": [
        "<hr>\n",
        "\n",
        "**A check for the null values**"
      ]
    },
    {
      "cell_type": "code",
      "execution_count": 13,
      "metadata": {
        "colab": {
          "base_uri": "https://localhost:8080/"
        },
        "id": "yuX0qQ-AVu0Y",
        "outputId": "4213e042-6c4d-4bc0-9dba-496831c633bf"
      },
      "outputs": [
        {
          "data": {
            "text/plain": [
              "Retailer            0\n",
              "Retailer ID         0\n",
              "Invoice Date        0\n",
              "Region              0\n",
              "State               0\n",
              "City                0\n",
              "Product             0\n",
              "Price per Unit      0\n",
              "Units Sold          0\n",
              "Total Sales         0\n",
              "Operating Profit    0\n",
              "Operating Margin    0\n",
              "Sales Method        0\n",
              "dtype: int64"
            ]
          },
          "execution_count": 13,
          "metadata": {},
          "output_type": "execute_result"
        }
      ],
      "source": [
        "df.isnull().sum()"
      ]
    },
    {
      "cell_type": "markdown",
      "metadata": {
        "id": "7iH_cLrtWYWF"
      },
      "source": [
        "No null values detected\n",
        "\n",
        "<hr>"
      ]
    },
    {
      "cell_type": "markdown",
      "metadata": {
        "id": "vOkudfDNWsDR"
      },
      "source": [
        "<hr>\n",
        "\n",
        "#**Step 4: Data Inspection Phase**\n"
      ]
    },
    {
      "cell_type": "code",
      "execution_count": 14,
      "metadata": {
        "colab": {
          "base_uri": "https://localhost:8080/",
          "height": 417
        },
        "id": "noq71VJaWMyi",
        "outputId": "00593774-877f-4bca-a9ac-7cf71a80a42b"
      },
      "outputs": [
        {
          "data": {
            "text/html": [
              "<div>\n",
              "<style scoped>\n",
              "    .dataframe tbody tr th:only-of-type {\n",
              "        vertical-align: middle;\n",
              "    }\n",
              "\n",
              "    .dataframe tbody tr th {\n",
              "        vertical-align: top;\n",
              "    }\n",
              "\n",
              "    .dataframe thead th {\n",
              "        text-align: right;\n",
              "    }\n",
              "</style>\n",
              "<table border=\"1\" class=\"dataframe\">\n",
              "  <thead>\n",
              "    <tr style=\"text-align: right;\">\n",
              "      <th></th>\n",
              "      <th>Retailer</th>\n",
              "      <th>Retailer ID</th>\n",
              "      <th>Invoice Date</th>\n",
              "      <th>Region</th>\n",
              "      <th>State</th>\n",
              "      <th>City</th>\n",
              "      <th>Product</th>\n",
              "      <th>Price per Unit</th>\n",
              "      <th>Units Sold</th>\n",
              "      <th>Total Sales</th>\n",
              "      <th>Operating Profit</th>\n",
              "      <th>Operating Margin</th>\n",
              "      <th>Sales Method</th>\n",
              "    </tr>\n",
              "  </thead>\n",
              "  <tbody>\n",
              "    <tr>\n",
              "      <th>0</th>\n",
              "      <td>Foot Locker</td>\n",
              "      <td>1185732</td>\n",
              "      <td>01-01-2020</td>\n",
              "      <td>Northeast</td>\n",
              "      <td>New York</td>\n",
              "      <td>New York</td>\n",
              "      <td>Men's Street Footwear</td>\n",
              "      <td>$50.00</td>\n",
              "      <td>1200</td>\n",
              "      <td>$6,00,000</td>\n",
              "      <td>$3,00,000</td>\n",
              "      <td>50%</td>\n",
              "      <td>In-store</td>\n",
              "    </tr>\n",
              "    <tr>\n",
              "      <th>1</th>\n",
              "      <td>Foot Locker</td>\n",
              "      <td>1185732</td>\n",
              "      <td>02-01-2020</td>\n",
              "      <td>Northeast</td>\n",
              "      <td>New York</td>\n",
              "      <td>New York</td>\n",
              "      <td>Men's Athletic Footwear</td>\n",
              "      <td>$50.00</td>\n",
              "      <td>1000</td>\n",
              "      <td>$5,00,000</td>\n",
              "      <td>$1,50,000</td>\n",
              "      <td>30%</td>\n",
              "      <td>In-store</td>\n",
              "    </tr>\n",
              "    <tr>\n",
              "      <th>2</th>\n",
              "      <td>Foot Locker</td>\n",
              "      <td>1185732</td>\n",
              "      <td>03-01-2020</td>\n",
              "      <td>Northeast</td>\n",
              "      <td>New York</td>\n",
              "      <td>New York</td>\n",
              "      <td>Women's Street Footwear</td>\n",
              "      <td>$40.00</td>\n",
              "      <td>1000</td>\n",
              "      <td>$4,00,000</td>\n",
              "      <td>$1,40,000</td>\n",
              "      <td>35%</td>\n",
              "      <td>In-store</td>\n",
              "    </tr>\n",
              "    <tr>\n",
              "      <th>3</th>\n",
              "      <td>Foot Locker</td>\n",
              "      <td>1185732</td>\n",
              "      <td>04-01-2020</td>\n",
              "      <td>Northeast</td>\n",
              "      <td>New York</td>\n",
              "      <td>New York</td>\n",
              "      <td>Women's Athletic Footwear</td>\n",
              "      <td>$45.00</td>\n",
              "      <td>850</td>\n",
              "      <td>$3,82,500</td>\n",
              "      <td>$1,33,875</td>\n",
              "      <td>35%</td>\n",
              "      <td>In-store</td>\n",
              "    </tr>\n",
              "    <tr>\n",
              "      <th>4</th>\n",
              "      <td>Foot Locker</td>\n",
              "      <td>1185732</td>\n",
              "      <td>05-01-2020</td>\n",
              "      <td>Northeast</td>\n",
              "      <td>New York</td>\n",
              "      <td>New York</td>\n",
              "      <td>Men's Apparel</td>\n",
              "      <td>$60.00</td>\n",
              "      <td>900</td>\n",
              "      <td>$5,40,000</td>\n",
              "      <td>$1,62,000</td>\n",
              "      <td>30%</td>\n",
              "      <td>In-store</td>\n",
              "    </tr>\n",
              "  </tbody>\n",
              "</table>\n",
              "</div>"
            ],
            "text/plain": [
              "      Retailer  Retailer ID Invoice Date     Region     State      City  \\\n",
              "0  Foot Locker      1185732   01-01-2020  Northeast  New York  New York   \n",
              "1  Foot Locker      1185732   02-01-2020  Northeast  New York  New York   \n",
              "2  Foot Locker      1185732   03-01-2020  Northeast  New York  New York   \n",
              "3  Foot Locker      1185732   04-01-2020  Northeast  New York  New York   \n",
              "4  Foot Locker      1185732   05-01-2020  Northeast  New York  New York   \n",
              "\n",
              "                     Product Price per Unit  Units Sold Total Sales  \\\n",
              "0      Men's Street Footwear         $50.00        1200  $6,00,000    \n",
              "1    Men's Athletic Footwear         $50.00        1000  $5,00,000    \n",
              "2    Women's Street Footwear         $40.00        1000  $4,00,000    \n",
              "3  Women's Athletic Footwear         $45.00         850  $3,82,500    \n",
              "4              Men's Apparel         $60.00         900  $5,40,000    \n",
              "\n",
              "  Operating Profit Operating Margin Sales Method  \n",
              "0       $3,00,000               50%     In-store  \n",
              "1       $1,50,000               30%     In-store  \n",
              "2       $1,40,000               35%     In-store  \n",
              "3       $1,33,875               35%     In-store  \n",
              "4       $1,62,000               30%     In-store  "
            ]
          },
          "execution_count": 14,
          "metadata": {},
          "output_type": "execute_result"
        }
      ],
      "source": [
        "df.head()"
      ]
    },
    {
      "cell_type": "code",
      "execution_count": 15,
      "metadata": {
        "colab": {
          "base_uri": "https://localhost:8080/",
          "height": 399
        },
        "id": "-_j7XUYVWzd7",
        "outputId": "7b04571d-8fa1-49c8-dec7-8121a671085f"
      },
      "outputs": [
        {
          "data": {
            "text/html": [
              "<div>\n",
              "<style scoped>\n",
              "    .dataframe tbody tr th:only-of-type {\n",
              "        vertical-align: middle;\n",
              "    }\n",
              "\n",
              "    .dataframe tbody tr th {\n",
              "        vertical-align: top;\n",
              "    }\n",
              "\n",
              "    .dataframe thead th {\n",
              "        text-align: right;\n",
              "    }\n",
              "</style>\n",
              "<table border=\"1\" class=\"dataframe\">\n",
              "  <thead>\n",
              "    <tr style=\"text-align: right;\">\n",
              "      <th></th>\n",
              "      <th>Retailer</th>\n",
              "      <th>Retailer ID</th>\n",
              "      <th>Invoice Date</th>\n",
              "      <th>Region</th>\n",
              "      <th>State</th>\n",
              "      <th>City</th>\n",
              "      <th>Product</th>\n",
              "      <th>Price per Unit</th>\n",
              "      <th>Units Sold</th>\n",
              "      <th>Total Sales</th>\n",
              "      <th>Operating Profit</th>\n",
              "      <th>Operating Margin</th>\n",
              "      <th>Sales Method</th>\n",
              "    </tr>\n",
              "  </thead>\n",
              "  <tbody>\n",
              "    <tr>\n",
              "      <th>9643</th>\n",
              "      <td>Foot Locker</td>\n",
              "      <td>1185732</td>\n",
              "      <td>24-01-2021</td>\n",
              "      <td>Northeast</td>\n",
              "      <td>New Hampshire</td>\n",
              "      <td>Manchester</td>\n",
              "      <td>Men's Apparel</td>\n",
              "      <td>$50.00</td>\n",
              "      <td>64</td>\n",
              "      <td>$3,200</td>\n",
              "      <td>$896</td>\n",
              "      <td>28%</td>\n",
              "      <td>Outlet</td>\n",
              "    </tr>\n",
              "    <tr>\n",
              "      <th>9644</th>\n",
              "      <td>Foot Locker</td>\n",
              "      <td>1185732</td>\n",
              "      <td>24-01-2021</td>\n",
              "      <td>Northeast</td>\n",
              "      <td>New Hampshire</td>\n",
              "      <td>Manchester</td>\n",
              "      <td>Women's Apparel</td>\n",
              "      <td>$41.00</td>\n",
              "      <td>105</td>\n",
              "      <td>$4,305</td>\n",
              "      <td>$1,378</td>\n",
              "      <td>32%</td>\n",
              "      <td>Outlet</td>\n",
              "    </tr>\n",
              "    <tr>\n",
              "      <th>9645</th>\n",
              "      <td>Foot Locker</td>\n",
              "      <td>1185732</td>\n",
              "      <td>22-02-2021</td>\n",
              "      <td>Northeast</td>\n",
              "      <td>New Hampshire</td>\n",
              "      <td>Manchester</td>\n",
              "      <td>Men's Street Footwear</td>\n",
              "      <td>$41.00</td>\n",
              "      <td>184</td>\n",
              "      <td>$7,544</td>\n",
              "      <td>$2,791</td>\n",
              "      <td>37%</td>\n",
              "      <td>Outlet</td>\n",
              "    </tr>\n",
              "    <tr>\n",
              "      <th>9646</th>\n",
              "      <td>Foot Locker</td>\n",
              "      <td>1185732</td>\n",
              "      <td>22-02-2021</td>\n",
              "      <td>Northeast</td>\n",
              "      <td>New Hampshire</td>\n",
              "      <td>Manchester</td>\n",
              "      <td>Men's Athletic Footwear</td>\n",
              "      <td>$42.00</td>\n",
              "      <td>70</td>\n",
              "      <td>$2,940</td>\n",
              "      <td>$1,235</td>\n",
              "      <td>42%</td>\n",
              "      <td>Outlet</td>\n",
              "    </tr>\n",
              "    <tr>\n",
              "      <th>9647</th>\n",
              "      <td>Foot Locker</td>\n",
              "      <td>1185732</td>\n",
              "      <td>22-02-2021</td>\n",
              "      <td>Northeast</td>\n",
              "      <td>New Hampshire</td>\n",
              "      <td>Manchester</td>\n",
              "      <td>Women's Street Footwear</td>\n",
              "      <td>$29.00</td>\n",
              "      <td>83</td>\n",
              "      <td>$2,407</td>\n",
              "      <td>$650</td>\n",
              "      <td>27%</td>\n",
              "      <td>Outlet</td>\n",
              "    </tr>\n",
              "  </tbody>\n",
              "</table>\n",
              "</div>"
            ],
            "text/plain": [
              "         Retailer  Retailer ID Invoice Date     Region          State  \\\n",
              "9643  Foot Locker      1185732   24-01-2021  Northeast  New Hampshire   \n",
              "9644  Foot Locker      1185732   24-01-2021  Northeast  New Hampshire   \n",
              "9645  Foot Locker      1185732   22-02-2021  Northeast  New Hampshire   \n",
              "9646  Foot Locker      1185732   22-02-2021  Northeast  New Hampshire   \n",
              "9647  Foot Locker      1185732   22-02-2021  Northeast  New Hampshire   \n",
              "\n",
              "            City                  Product Price per Unit  Units Sold  \\\n",
              "9643  Manchester            Men's Apparel         $50.00          64   \n",
              "9644  Manchester          Women's Apparel         $41.00         105   \n",
              "9645  Manchester    Men's Street Footwear         $41.00         184   \n",
              "9646  Manchester  Men's Athletic Footwear         $42.00          70   \n",
              "9647  Manchester  Women's Street Footwear         $29.00          83   \n",
              "\n",
              "     Total Sales Operating Profit Operating Margin Sales Method  \n",
              "9643     $3,200              $896              28%       Outlet  \n",
              "9644     $4,305           $1,378               32%       Outlet  \n",
              "9645     $7,544           $2,791               37%       Outlet  \n",
              "9646     $2,940           $1,235               42%       Outlet  \n",
              "9647     $2,407              $650              27%       Outlet  "
            ]
          },
          "execution_count": 15,
          "metadata": {},
          "output_type": "execute_result"
        }
      ],
      "source": [
        "df.tail()"
      ]
    },
    {
      "cell_type": "markdown",
      "metadata": {
        "id": "3WB41b8NW4Nt"
      },
      "source": [
        "Insights:\n",
        "1. Retailer, Region, State, City, Product, Sales Method are having the ordinal category values\n",
        "\n",
        "2. Retailer ID can be the unique value column\n",
        "\n",
        "3. Operating Margin can be useful\n",
        "\n",
        "4. There are some characters in the numerical values, so we need to seperate them as well\n",
        "\n",
        "<hr>"
      ]
    },
    {
      "cell_type": "markdown",
      "metadata": {
        "id": "bfOvpUmXXbKB"
      },
      "source": [
        "<hr>\n",
        "\n",
        "**Working with the insights**"
      ]
    },
    {
      "cell_type": "code",
      "execution_count": 16,
      "metadata": {
        "id": "MPH7HpkNW3ng"
      },
      "outputs": [],
      "source": [
        "# seperating the extra characters from the numerical columns\n",
        "\n",
        "df['Total Sales'] = df['Total Sales'].astype(str).str.replace(r'[$, ]', '', regex=True).astype(float)\n",
        "df['Units Sold'] = df['Units Sold'].astype(str).str.replace(r'[$, ]', '', regex=True).astype(float)\n",
        "df['Operating Profit'] = df['Operating Profit'].astype(str).str.replace(r'[$, ]', '', regex=True).astype(float)\n",
        "df['Operating Margin'] = df['Operating Margin'].astype(str).str.replace(r'[%, ]', '', regex=True).astype(float)"
      ]
    },
    {
      "cell_type": "code",
      "execution_count": 17,
      "metadata": {
        "colab": {
          "base_uri": "https://localhost:8080/",
          "height": 417
        },
        "id": "t1mMJv9vYQct",
        "outputId": "515ff104-e661-4e44-fcd0-7b9ea3a15fd1"
      },
      "outputs": [
        {
          "data": {
            "text/html": [
              "<div>\n",
              "<style scoped>\n",
              "    .dataframe tbody tr th:only-of-type {\n",
              "        vertical-align: middle;\n",
              "    }\n",
              "\n",
              "    .dataframe tbody tr th {\n",
              "        vertical-align: top;\n",
              "    }\n",
              "\n",
              "    .dataframe thead th {\n",
              "        text-align: right;\n",
              "    }\n",
              "</style>\n",
              "<table border=\"1\" class=\"dataframe\">\n",
              "  <thead>\n",
              "    <tr style=\"text-align: right;\">\n",
              "      <th></th>\n",
              "      <th>Retailer</th>\n",
              "      <th>Retailer ID</th>\n",
              "      <th>Invoice Date</th>\n",
              "      <th>Region</th>\n",
              "      <th>State</th>\n",
              "      <th>City</th>\n",
              "      <th>Product</th>\n",
              "      <th>Price per Unit</th>\n",
              "      <th>Units Sold</th>\n",
              "      <th>Total Sales</th>\n",
              "      <th>Operating Profit</th>\n",
              "      <th>Operating Margin</th>\n",
              "      <th>Sales Method</th>\n",
              "    </tr>\n",
              "  </thead>\n",
              "  <tbody>\n",
              "    <tr>\n",
              "      <th>0</th>\n",
              "      <td>Foot Locker</td>\n",
              "      <td>1185732</td>\n",
              "      <td>01-01-2020</td>\n",
              "      <td>Northeast</td>\n",
              "      <td>New York</td>\n",
              "      <td>New York</td>\n",
              "      <td>Men's Street Footwear</td>\n",
              "      <td>$50.00</td>\n",
              "      <td>1200.0</td>\n",
              "      <td>600000.0</td>\n",
              "      <td>300000.0</td>\n",
              "      <td>50.0</td>\n",
              "      <td>In-store</td>\n",
              "    </tr>\n",
              "    <tr>\n",
              "      <th>1</th>\n",
              "      <td>Foot Locker</td>\n",
              "      <td>1185732</td>\n",
              "      <td>02-01-2020</td>\n",
              "      <td>Northeast</td>\n",
              "      <td>New York</td>\n",
              "      <td>New York</td>\n",
              "      <td>Men's Athletic Footwear</td>\n",
              "      <td>$50.00</td>\n",
              "      <td>1000.0</td>\n",
              "      <td>500000.0</td>\n",
              "      <td>150000.0</td>\n",
              "      <td>30.0</td>\n",
              "      <td>In-store</td>\n",
              "    </tr>\n",
              "    <tr>\n",
              "      <th>2</th>\n",
              "      <td>Foot Locker</td>\n",
              "      <td>1185732</td>\n",
              "      <td>03-01-2020</td>\n",
              "      <td>Northeast</td>\n",
              "      <td>New York</td>\n",
              "      <td>New York</td>\n",
              "      <td>Women's Street Footwear</td>\n",
              "      <td>$40.00</td>\n",
              "      <td>1000.0</td>\n",
              "      <td>400000.0</td>\n",
              "      <td>140000.0</td>\n",
              "      <td>35.0</td>\n",
              "      <td>In-store</td>\n",
              "    </tr>\n",
              "    <tr>\n",
              "      <th>3</th>\n",
              "      <td>Foot Locker</td>\n",
              "      <td>1185732</td>\n",
              "      <td>04-01-2020</td>\n",
              "      <td>Northeast</td>\n",
              "      <td>New York</td>\n",
              "      <td>New York</td>\n",
              "      <td>Women's Athletic Footwear</td>\n",
              "      <td>$45.00</td>\n",
              "      <td>850.0</td>\n",
              "      <td>382500.0</td>\n",
              "      <td>133875.0</td>\n",
              "      <td>35.0</td>\n",
              "      <td>In-store</td>\n",
              "    </tr>\n",
              "    <tr>\n",
              "      <th>4</th>\n",
              "      <td>Foot Locker</td>\n",
              "      <td>1185732</td>\n",
              "      <td>05-01-2020</td>\n",
              "      <td>Northeast</td>\n",
              "      <td>New York</td>\n",
              "      <td>New York</td>\n",
              "      <td>Men's Apparel</td>\n",
              "      <td>$60.00</td>\n",
              "      <td>900.0</td>\n",
              "      <td>540000.0</td>\n",
              "      <td>162000.0</td>\n",
              "      <td>30.0</td>\n",
              "      <td>In-store</td>\n",
              "    </tr>\n",
              "  </tbody>\n",
              "</table>\n",
              "</div>"
            ],
            "text/plain": [
              "      Retailer  Retailer ID Invoice Date     Region     State      City  \\\n",
              "0  Foot Locker      1185732   01-01-2020  Northeast  New York  New York   \n",
              "1  Foot Locker      1185732   02-01-2020  Northeast  New York  New York   \n",
              "2  Foot Locker      1185732   03-01-2020  Northeast  New York  New York   \n",
              "3  Foot Locker      1185732   04-01-2020  Northeast  New York  New York   \n",
              "4  Foot Locker      1185732   05-01-2020  Northeast  New York  New York   \n",
              "\n",
              "                     Product Price per Unit  Units Sold  Total Sales  \\\n",
              "0      Men's Street Footwear         $50.00      1200.0     600000.0   \n",
              "1    Men's Athletic Footwear         $50.00      1000.0     500000.0   \n",
              "2    Women's Street Footwear         $40.00      1000.0     400000.0   \n",
              "3  Women's Athletic Footwear         $45.00       850.0     382500.0   \n",
              "4              Men's Apparel         $60.00       900.0     540000.0   \n",
              "\n",
              "   Operating Profit  Operating Margin Sales Method  \n",
              "0          300000.0              50.0     In-store  \n",
              "1          150000.0              30.0     In-store  \n",
              "2          140000.0              35.0     In-store  \n",
              "3          133875.0              35.0     In-store  \n",
              "4          162000.0              30.0     In-store  "
            ]
          },
          "execution_count": 17,
          "metadata": {},
          "output_type": "execute_result"
        }
      ],
      "source": [
        "df.head()"
      ]
    },
    {
      "cell_type": "code",
      "execution_count": 18,
      "metadata": {
        "colab": {
          "base_uri": "https://localhost:8080/"
        },
        "id": "Yv2o2nFrYXvj",
        "outputId": "55812c5f-3271-424d-8b2a-448a1559dfd7"
      },
      "outputs": [],
      "source": [
        "# converting the date to datetime object\n",
        "df['Invoice Date'] = pd.to_datetime(df['Invoice Date'], format='%d-%m-%Y')\n",
        "\n"
      ]
    },
    {
      "cell_type": "code",
      "execution_count": 19,
      "metadata": {
        "colab": {
          "base_uri": "https://localhost:8080/",
          "height": 417
        },
        "id": "RMUGU2fyYwdW",
        "outputId": "27d40a06-0e93-4c3c-d396-1af0b7bbebf0"
      },
      "outputs": [
        {
          "data": {
            "text/html": [
              "<div>\n",
              "<style scoped>\n",
              "    .dataframe tbody tr th:only-of-type {\n",
              "        vertical-align: middle;\n",
              "    }\n",
              "\n",
              "    .dataframe tbody tr th {\n",
              "        vertical-align: top;\n",
              "    }\n",
              "\n",
              "    .dataframe thead th {\n",
              "        text-align: right;\n",
              "    }\n",
              "</style>\n",
              "<table border=\"1\" class=\"dataframe\">\n",
              "  <thead>\n",
              "    <tr style=\"text-align: right;\">\n",
              "      <th></th>\n",
              "      <th>Retailer</th>\n",
              "      <th>Retailer ID</th>\n",
              "      <th>Invoice Date</th>\n",
              "      <th>Region</th>\n",
              "      <th>State</th>\n",
              "      <th>City</th>\n",
              "      <th>Product</th>\n",
              "      <th>Price per Unit</th>\n",
              "      <th>Units Sold</th>\n",
              "      <th>Total Sales</th>\n",
              "      <th>Operating Profit</th>\n",
              "      <th>Operating Margin</th>\n",
              "      <th>Sales Method</th>\n",
              "    </tr>\n",
              "  </thead>\n",
              "  <tbody>\n",
              "    <tr>\n",
              "      <th>0</th>\n",
              "      <td>Foot Locker</td>\n",
              "      <td>1185732</td>\n",
              "      <td>2020-01-01</td>\n",
              "      <td>Northeast</td>\n",
              "      <td>New York</td>\n",
              "      <td>New York</td>\n",
              "      <td>Men's Street Footwear</td>\n",
              "      <td>$50.00</td>\n",
              "      <td>1200.0</td>\n",
              "      <td>600000.0</td>\n",
              "      <td>300000.0</td>\n",
              "      <td>50.0</td>\n",
              "      <td>In-store</td>\n",
              "    </tr>\n",
              "    <tr>\n",
              "      <th>1</th>\n",
              "      <td>Foot Locker</td>\n",
              "      <td>1185732</td>\n",
              "      <td>2020-01-02</td>\n",
              "      <td>Northeast</td>\n",
              "      <td>New York</td>\n",
              "      <td>New York</td>\n",
              "      <td>Men's Athletic Footwear</td>\n",
              "      <td>$50.00</td>\n",
              "      <td>1000.0</td>\n",
              "      <td>500000.0</td>\n",
              "      <td>150000.0</td>\n",
              "      <td>30.0</td>\n",
              "      <td>In-store</td>\n",
              "    </tr>\n",
              "    <tr>\n",
              "      <th>2</th>\n",
              "      <td>Foot Locker</td>\n",
              "      <td>1185732</td>\n",
              "      <td>2020-01-03</td>\n",
              "      <td>Northeast</td>\n",
              "      <td>New York</td>\n",
              "      <td>New York</td>\n",
              "      <td>Women's Street Footwear</td>\n",
              "      <td>$40.00</td>\n",
              "      <td>1000.0</td>\n",
              "      <td>400000.0</td>\n",
              "      <td>140000.0</td>\n",
              "      <td>35.0</td>\n",
              "      <td>In-store</td>\n",
              "    </tr>\n",
              "    <tr>\n",
              "      <th>3</th>\n",
              "      <td>Foot Locker</td>\n",
              "      <td>1185732</td>\n",
              "      <td>2020-01-04</td>\n",
              "      <td>Northeast</td>\n",
              "      <td>New York</td>\n",
              "      <td>New York</td>\n",
              "      <td>Women's Athletic Footwear</td>\n",
              "      <td>$45.00</td>\n",
              "      <td>850.0</td>\n",
              "      <td>382500.0</td>\n",
              "      <td>133875.0</td>\n",
              "      <td>35.0</td>\n",
              "      <td>In-store</td>\n",
              "    </tr>\n",
              "    <tr>\n",
              "      <th>4</th>\n",
              "      <td>Foot Locker</td>\n",
              "      <td>1185732</td>\n",
              "      <td>2020-01-05</td>\n",
              "      <td>Northeast</td>\n",
              "      <td>New York</td>\n",
              "      <td>New York</td>\n",
              "      <td>Men's Apparel</td>\n",
              "      <td>$60.00</td>\n",
              "      <td>900.0</td>\n",
              "      <td>540000.0</td>\n",
              "      <td>162000.0</td>\n",
              "      <td>30.0</td>\n",
              "      <td>In-store</td>\n",
              "    </tr>\n",
              "  </tbody>\n",
              "</table>\n",
              "</div>"
            ],
            "text/plain": [
              "      Retailer  Retailer ID Invoice Date     Region     State      City  \\\n",
              "0  Foot Locker      1185732   2020-01-01  Northeast  New York  New York   \n",
              "1  Foot Locker      1185732   2020-01-02  Northeast  New York  New York   \n",
              "2  Foot Locker      1185732   2020-01-03  Northeast  New York  New York   \n",
              "3  Foot Locker      1185732   2020-01-04  Northeast  New York  New York   \n",
              "4  Foot Locker      1185732   2020-01-05  Northeast  New York  New York   \n",
              "\n",
              "                     Product Price per Unit  Units Sold  Total Sales  \\\n",
              "0      Men's Street Footwear         $50.00      1200.0     600000.0   \n",
              "1    Men's Athletic Footwear         $50.00      1000.0     500000.0   \n",
              "2    Women's Street Footwear         $40.00      1000.0     400000.0   \n",
              "3  Women's Athletic Footwear         $45.00       850.0     382500.0   \n",
              "4              Men's Apparel         $60.00       900.0     540000.0   \n",
              "\n",
              "   Operating Profit  Operating Margin Sales Method  \n",
              "0          300000.0              50.0     In-store  \n",
              "1          150000.0              30.0     In-store  \n",
              "2          140000.0              35.0     In-store  \n",
              "3          133875.0              35.0     In-store  \n",
              "4          162000.0              30.0     In-store  "
            ]
          },
          "execution_count": 19,
          "metadata": {},
          "output_type": "execute_result"
        }
      ],
      "source": [
        "df.head()"
      ]
    },
    {
      "cell_type": "code",
      "execution_count": 20,
      "metadata": {
        "colab": {
          "base_uri": "https://localhost:8080/"
        },
        "id": "FzIfC-5KYyCn",
        "outputId": "a8468106-be69-499a-a6c1-762b54efc4a4"
      },
      "outputs": [
        {
          "name": "stdout",
          "output_type": "stream",
          "text": [
            "<class 'pandas.core.frame.DataFrame'>\n",
            "RangeIndex: 9648 entries, 0 to 9647\n",
            "Data columns (total 13 columns):\n",
            " #   Column            Non-Null Count  Dtype         \n",
            "---  ------            --------------  -----         \n",
            " 0   Retailer          9648 non-null   object        \n",
            " 1   Retailer ID       9648 non-null   int32         \n",
            " 2   Invoice Date      9648 non-null   datetime64[ns]\n",
            " 3   Region            9648 non-null   object        \n",
            " 4   State             9648 non-null   object        \n",
            " 5   City              9648 non-null   object        \n",
            " 6   Product           9648 non-null   object        \n",
            " 7   Price per Unit    9648 non-null   object        \n",
            " 8   Units Sold        9648 non-null   float64       \n",
            " 9   Total Sales       9648 non-null   float64       \n",
            " 10  Operating Profit  9648 non-null   float64       \n",
            " 11  Operating Margin  9648 non-null   float64       \n",
            " 12  Sales Method      9648 non-null   object        \n",
            "dtypes: datetime64[ns](1), float64(4), int32(1), object(7)\n",
            "memory usage: 942.3+ KB\n"
          ]
        }
      ],
      "source": [
        "df.info()"
      ]
    },
    {
      "cell_type": "markdown",
      "metadata": {
        "id": "8YszYfOKY2G1"
      },
      "source": [
        "<hr>\n",
        "\n",
        "# **Sales Performance Analysis**\n",
        "\n",
        "**Which product are excelling in sales, and which are underperforming?**"
      ]
    },
    {
      "cell_type": "code",
      "execution_count": 21,
      "metadata": {
        "colab": {
          "base_uri": "https://localhost:8080/"
        },
        "id": "wUuVcCDHYzkC",
        "outputId": "4a28cb78-e6b1-47db-f696-63c87bc5b94a"
      },
      "outputs": [
        {
          "name": "stdout",
          "output_type": "stream",
          "text": [
            "The total Revenue: 899902125.0\n"
          ]
        }
      ],
      "source": [
        "# finding the total revenue\n",
        "total_revenue = df['Total Sales'].sum()\n",
        "print(f'The total Revenue: {total_revenue}')"
      ]
    },
    {
      "cell_type": "code",
      "execution_count": 22,
      "metadata": {
        "colab": {
          "base_uri": "https://localhost:8080/",
          "height": 255
        },
        "id": "KyoMoZFFZJxI",
        "outputId": "756097ab-e750-427d-aac5-d985fc7d4c34"
      },
      "outputs": [
        {
          "name": "stdout",
          "output_type": "stream",
          "text": [
            "The top performing Products in the dataset\n"
          ]
        },
        {
          "data": {
            "text/html": [
              "<div>\n",
              "<style scoped>\n",
              "    .dataframe tbody tr th:only-of-type {\n",
              "        vertical-align: middle;\n",
              "    }\n",
              "\n",
              "    .dataframe tbody tr th {\n",
              "        vertical-align: top;\n",
              "    }\n",
              "\n",
              "    .dataframe thead th {\n",
              "        text-align: right;\n",
              "    }\n",
              "</style>\n",
              "<table border=\"1\" class=\"dataframe\">\n",
              "  <thead>\n",
              "    <tr style=\"text-align: right;\">\n",
              "      <th></th>\n",
              "      <th>Product</th>\n",
              "      <th>Total Sales</th>\n",
              "      <th>Units Sold</th>\n",
              "    </tr>\n",
              "  </thead>\n",
              "  <tbody>\n",
              "    <tr>\n",
              "      <th>2</th>\n",
              "      <td>Men's Street Footwear</td>\n",
              "      <td>208826244.0</td>\n",
              "      <td>593320.0</td>\n",
              "    </tr>\n",
              "    <tr>\n",
              "      <th>3</th>\n",
              "      <td>Women's Apparel</td>\n",
              "      <td>179038860.0</td>\n",
              "      <td>433827.0</td>\n",
              "    </tr>\n",
              "    <tr>\n",
              "      <th>1</th>\n",
              "      <td>Men's Athletic Footwear</td>\n",
              "      <td>153673680.0</td>\n",
              "      <td>435526.0</td>\n",
              "    </tr>\n",
              "    <tr>\n",
              "      <th>5</th>\n",
              "      <td>Women's Street Footwear</td>\n",
              "      <td>128002813.0</td>\n",
              "      <td>392269.0</td>\n",
              "    </tr>\n",
              "    <tr>\n",
              "      <th>0</th>\n",
              "      <td>Men's Apparel</td>\n",
              "      <td>123728632.0</td>\n",
              "      <td>306683.0</td>\n",
              "    </tr>\n",
              "    <tr>\n",
              "      <th>4</th>\n",
              "      <td>Women's Athletic Footwear</td>\n",
              "      <td>106631896.0</td>\n",
              "      <td>317236.0</td>\n",
              "    </tr>\n",
              "  </tbody>\n",
              "</table>\n",
              "</div>"
            ],
            "text/plain": [
              "                     Product  Total Sales  Units Sold\n",
              "2      Men's Street Footwear  208826244.0    593320.0\n",
              "3            Women's Apparel  179038860.0    433827.0\n",
              "1    Men's Athletic Footwear  153673680.0    435526.0\n",
              "5    Women's Street Footwear  128002813.0    392269.0\n",
              "0              Men's Apparel  123728632.0    306683.0\n",
              "4  Women's Athletic Footwear  106631896.0    317236.0"
            ]
          },
          "execution_count": 22,
          "metadata": {},
          "output_type": "execute_result"
        }
      ],
      "source": [
        "# Aggregating the total sales and units sold for each product\n",
        "prod_sales = df.groupby('Product').agg({'Total Sales':'sum', 'Units Sold':'sum'}).reset_index()\n",
        "# sorting product by the total values by decreasing to find the top prod\n",
        "top_prod = prod_sales.sort_values(by='Total Sales', ascending = False)\n",
        "# results\n",
        "print('The top performing Products in the dataset')\n",
        "top_prod"
      ]
    },
    {
      "cell_type": "markdown",
      "metadata": {
        "id": "AgbcIihVaRG0"
      },
      "source": [
        "Insights:\n",
        "\n",
        "* The **Men's Street Footwear** are the most selling item in the entire dataset, with total sales value of 208826244"
      ]
    },
    {
      "cell_type": "code",
      "execution_count": 23,
      "metadata": {
        "colab": {
          "base_uri": "https://localhost:8080/",
          "height": 255
        },
        "id": "3Nsh8HDEZ1jD",
        "outputId": "02b42f9b-f9e9-41e8-a972-e398c9260fb6"
      },
      "outputs": [
        {
          "name": "stdout",
          "output_type": "stream",
          "text": [
            "Least Performed\n"
          ]
        },
        {
          "data": {
            "text/html": [
              "<div>\n",
              "<style scoped>\n",
              "    .dataframe tbody tr th:only-of-type {\n",
              "        vertical-align: middle;\n",
              "    }\n",
              "\n",
              "    .dataframe tbody tr th {\n",
              "        vertical-align: top;\n",
              "    }\n",
              "\n",
              "    .dataframe thead th {\n",
              "        text-align: right;\n",
              "    }\n",
              "</style>\n",
              "<table border=\"1\" class=\"dataframe\">\n",
              "  <thead>\n",
              "    <tr style=\"text-align: right;\">\n",
              "      <th></th>\n",
              "      <th>Product</th>\n",
              "      <th>Total Sales</th>\n",
              "      <th>Units Sold</th>\n",
              "    </tr>\n",
              "  </thead>\n",
              "  <tbody>\n",
              "    <tr>\n",
              "      <th>4</th>\n",
              "      <td>Women's Athletic Footwear</td>\n",
              "      <td>106631896.0</td>\n",
              "      <td>317236.0</td>\n",
              "    </tr>\n",
              "    <tr>\n",
              "      <th>0</th>\n",
              "      <td>Men's Apparel</td>\n",
              "      <td>123728632.0</td>\n",
              "      <td>306683.0</td>\n",
              "    </tr>\n",
              "    <tr>\n",
              "      <th>5</th>\n",
              "      <td>Women's Street Footwear</td>\n",
              "      <td>128002813.0</td>\n",
              "      <td>392269.0</td>\n",
              "    </tr>\n",
              "    <tr>\n",
              "      <th>1</th>\n",
              "      <td>Men's Athletic Footwear</td>\n",
              "      <td>153673680.0</td>\n",
              "      <td>435526.0</td>\n",
              "    </tr>\n",
              "    <tr>\n",
              "      <th>3</th>\n",
              "      <td>Women's Apparel</td>\n",
              "      <td>179038860.0</td>\n",
              "      <td>433827.0</td>\n",
              "    </tr>\n",
              "    <tr>\n",
              "      <th>2</th>\n",
              "      <td>Men's Street Footwear</td>\n",
              "      <td>208826244.0</td>\n",
              "      <td>593320.0</td>\n",
              "    </tr>\n",
              "  </tbody>\n",
              "</table>\n",
              "</div>"
            ],
            "text/plain": [
              "                     Product  Total Sales  Units Sold\n",
              "4  Women's Athletic Footwear  106631896.0    317236.0\n",
              "0              Men's Apparel  123728632.0    306683.0\n",
              "5    Women's Street Footwear  128002813.0    392269.0\n",
              "1    Men's Athletic Footwear  153673680.0    435526.0\n",
              "3            Women's Apparel  179038860.0    433827.0\n",
              "2      Men's Street Footwear  208826244.0    593320.0"
            ]
          },
          "execution_count": 23,
          "metadata": {},
          "output_type": "execute_result"
        }
      ],
      "source": [
        "# reversing the list to find the least performing product\n",
        "least_prod = prod_sales.sort_values(by = 'Total Sales')\n",
        "print('Least Performed')\n",
        "least_prod"
      ]
    },
    {
      "cell_type": "markdown",
      "metadata": {
        "id": "UKqmT5HPatSh"
      },
      "source": [
        "Insights:\n",
        "\n",
        "* From here we can clearly see that the **Women's Athletic Footwear** is the one which having the lowest sales in all, with values of 106631896\n",
        "\n",
        "<hr>"
      ]
    },
    {
      "cell_type": "markdown",
      "metadata": {
        "id": "wTrEQ6MjrZui"
      },
      "source": [
        "<hr>\n",
        "\n",
        "# **Regional Market Analysis**\n",
        "\n",
        "**Which stores are experiencing strong sales, and which ones are lagging**"
      ]
    },
    {
      "cell_type": "code",
      "execution_count": 24,
      "metadata": {
        "colab": {
          "base_uri": "https://localhost:8080/",
          "height": 417
        },
        "id": "1-N1ftn2aqY0",
        "outputId": "0642393a-e696-444f-973f-ca7cdd99fe54"
      },
      "outputs": [
        {
          "data": {
            "text/html": [
              "<div>\n",
              "<style scoped>\n",
              "    .dataframe tbody tr th:only-of-type {\n",
              "        vertical-align: middle;\n",
              "    }\n",
              "\n",
              "    .dataframe tbody tr th {\n",
              "        vertical-align: top;\n",
              "    }\n",
              "\n",
              "    .dataframe thead th {\n",
              "        text-align: right;\n",
              "    }\n",
              "</style>\n",
              "<table border=\"1\" class=\"dataframe\">\n",
              "  <thead>\n",
              "    <tr style=\"text-align: right;\">\n",
              "      <th></th>\n",
              "      <th>Retailer</th>\n",
              "      <th>Retailer ID</th>\n",
              "      <th>Invoice Date</th>\n",
              "      <th>Region</th>\n",
              "      <th>State</th>\n",
              "      <th>City</th>\n",
              "      <th>Product</th>\n",
              "      <th>Price per Unit</th>\n",
              "      <th>Units Sold</th>\n",
              "      <th>Total Sales</th>\n",
              "      <th>Operating Profit</th>\n",
              "      <th>Operating Margin</th>\n",
              "      <th>Sales Method</th>\n",
              "    </tr>\n",
              "  </thead>\n",
              "  <tbody>\n",
              "    <tr>\n",
              "      <th>0</th>\n",
              "      <td>Foot Locker</td>\n",
              "      <td>1185732</td>\n",
              "      <td>2020-01-01</td>\n",
              "      <td>Northeast</td>\n",
              "      <td>New York</td>\n",
              "      <td>New York</td>\n",
              "      <td>Men's Street Footwear</td>\n",
              "      <td>$50.00</td>\n",
              "      <td>1200.0</td>\n",
              "      <td>600000.0</td>\n",
              "      <td>300000.0</td>\n",
              "      <td>50.0</td>\n",
              "      <td>In-store</td>\n",
              "    </tr>\n",
              "    <tr>\n",
              "      <th>1</th>\n",
              "      <td>Foot Locker</td>\n",
              "      <td>1185732</td>\n",
              "      <td>2020-01-02</td>\n",
              "      <td>Northeast</td>\n",
              "      <td>New York</td>\n",
              "      <td>New York</td>\n",
              "      <td>Men's Athletic Footwear</td>\n",
              "      <td>$50.00</td>\n",
              "      <td>1000.0</td>\n",
              "      <td>500000.0</td>\n",
              "      <td>150000.0</td>\n",
              "      <td>30.0</td>\n",
              "      <td>In-store</td>\n",
              "    </tr>\n",
              "    <tr>\n",
              "      <th>2</th>\n",
              "      <td>Foot Locker</td>\n",
              "      <td>1185732</td>\n",
              "      <td>2020-01-03</td>\n",
              "      <td>Northeast</td>\n",
              "      <td>New York</td>\n",
              "      <td>New York</td>\n",
              "      <td>Women's Street Footwear</td>\n",
              "      <td>$40.00</td>\n",
              "      <td>1000.0</td>\n",
              "      <td>400000.0</td>\n",
              "      <td>140000.0</td>\n",
              "      <td>35.0</td>\n",
              "      <td>In-store</td>\n",
              "    </tr>\n",
              "    <tr>\n",
              "      <th>3</th>\n",
              "      <td>Foot Locker</td>\n",
              "      <td>1185732</td>\n",
              "      <td>2020-01-04</td>\n",
              "      <td>Northeast</td>\n",
              "      <td>New York</td>\n",
              "      <td>New York</td>\n",
              "      <td>Women's Athletic Footwear</td>\n",
              "      <td>$45.00</td>\n",
              "      <td>850.0</td>\n",
              "      <td>382500.0</td>\n",
              "      <td>133875.0</td>\n",
              "      <td>35.0</td>\n",
              "      <td>In-store</td>\n",
              "    </tr>\n",
              "    <tr>\n",
              "      <th>4</th>\n",
              "      <td>Foot Locker</td>\n",
              "      <td>1185732</td>\n",
              "      <td>2020-01-05</td>\n",
              "      <td>Northeast</td>\n",
              "      <td>New York</td>\n",
              "      <td>New York</td>\n",
              "      <td>Men's Apparel</td>\n",
              "      <td>$60.00</td>\n",
              "      <td>900.0</td>\n",
              "      <td>540000.0</td>\n",
              "      <td>162000.0</td>\n",
              "      <td>30.0</td>\n",
              "      <td>In-store</td>\n",
              "    </tr>\n",
              "  </tbody>\n",
              "</table>\n",
              "</div>"
            ],
            "text/plain": [
              "      Retailer  Retailer ID Invoice Date     Region     State      City  \\\n",
              "0  Foot Locker      1185732   2020-01-01  Northeast  New York  New York   \n",
              "1  Foot Locker      1185732   2020-01-02  Northeast  New York  New York   \n",
              "2  Foot Locker      1185732   2020-01-03  Northeast  New York  New York   \n",
              "3  Foot Locker      1185732   2020-01-04  Northeast  New York  New York   \n",
              "4  Foot Locker      1185732   2020-01-05  Northeast  New York  New York   \n",
              "\n",
              "                     Product Price per Unit  Units Sold  Total Sales  \\\n",
              "0      Men's Street Footwear         $50.00      1200.0     600000.0   \n",
              "1    Men's Athletic Footwear         $50.00      1000.0     500000.0   \n",
              "2    Women's Street Footwear         $40.00      1000.0     400000.0   \n",
              "3  Women's Athletic Footwear         $45.00       850.0     382500.0   \n",
              "4              Men's Apparel         $60.00       900.0     540000.0   \n",
              "\n",
              "   Operating Profit  Operating Margin Sales Method  \n",
              "0          300000.0              50.0     In-store  \n",
              "1          150000.0              30.0     In-store  \n",
              "2          140000.0              35.0     In-store  \n",
              "3          133875.0              35.0     In-store  \n",
              "4          162000.0              30.0     In-store  "
            ]
          },
          "execution_count": 24,
          "metadata": {},
          "output_type": "execute_result"
        }
      ],
      "source": [
        "df.head()"
      ]
    },
    {
      "cell_type": "markdown",
      "metadata": {
        "id": "lYTa2LPLrzQr"
      },
      "source": [
        "For this we need to work with the cities to find out the best and the worst performing stores"
      ]
    },
    {
      "cell_type": "code",
      "execution_count": 25,
      "metadata": {
        "colab": {
          "base_uri": "https://localhost:8080/"
        },
        "id": "MPzp3FcyrjOW",
        "outputId": "e26603bf-a57b-46fa-b200-03b8c09a5abc"
      },
      "outputs": [
        {
          "name": "stdout",
          "output_type": "stream",
          "text": [
            "The unique cities: ['New York' 'Houston' 'San Francisco' 'Los Angeles' 'Chicago' 'Dallas'\n",
            " 'Philadelphia' 'Las Vegas' 'Denver' 'Seattle' 'Miami' 'Minneapolis'\n",
            " 'Billings' 'Knoxville' 'Omaha' 'Birmingham' 'Portland' 'Anchorage'\n",
            " 'Honolulu' 'Orlando' 'Albany' 'Cheyenne' 'Richmond' 'Detroit' 'St. Louis'\n",
            " 'Salt Lake City' 'New Orleans' 'Boise' 'Phoenix' 'Albuquerque' 'Atlanta'\n",
            " 'Charleston' 'Charlotte' 'Columbus' 'Louisville' 'Jackson' 'Little Rock'\n",
            " 'Oklahoma City' 'Wichita' 'Sioux Falls' 'Fargo' 'Des Moines' 'Milwaukee'\n",
            " 'Indianapolis' 'Baltimore' 'Wilmington' 'Newark' 'Hartford' 'Providence'\n",
            " 'Boston' 'Burlington' 'Manchester']\n"
          ]
        }
      ],
      "source": [
        "# cities that are unique\n",
        "unique_cities = df['City'].unique()\n",
        "print(f'The unique cities: {unique_cities}')"
      ]
    },
    {
      "cell_type": "code",
      "execution_count": 26,
      "metadata": {
        "colab": {
          "base_uri": "https://localhost:8080/"
        },
        "id": "8RO1zh0zr8m1",
        "outputId": "32bf0462-f6ce-4896-a3de-7aae5d703a26"
      },
      "outputs": [
        {
          "name": "stdout",
          "output_type": "stream",
          "text": [
            "The total number of unique cities: 52\n"
          ]
        }
      ],
      "source": [
        "# how many are there\n",
        "noOfCities = df['City'].nunique()\n",
        "print(f'The total number of unique cities: {noOfCities}')"
      ]
    },
    {
      "cell_type": "code",
      "execution_count": 27,
      "metadata": {
        "id": "ixDvgur9sTGD"
      },
      "outputs": [],
      "source": [
        "# grouping the cities and retailers and summing up the units sold\n",
        "unitsCities = df.groupby(['City', 'Retailer'])['Units Sold'].sum().reset_index()\n",
        "\n",
        "# sorting the results withing the city to find the top and worst store\n",
        "sortedDf = unitsCities.sort_values(by = ['City', 'Units Sold'], ascending = [True, False])\n",
        "\n",
        "# getting the performers\n",
        "topStore = sortedDf.groupby('City').head(1)\n",
        "\n",
        "# worst\n",
        "leastStore = sortedDf.groupby('City').tail(1)"
      ]
    },
    {
      "cell_type": "code",
      "execution_count": 28,
      "metadata": {
        "colab": {
          "base_uri": "https://localhost:8080/",
          "height": 223
        },
        "id": "En6uyENysn_R",
        "outputId": "9ec566c9-290f-44b7-e408-ef7e64e21a05"
      },
      "outputs": [
        {
          "name": "stdout",
          "output_type": "stream",
          "text": [
            "Top Performing Store in Each City\n"
          ]
        },
        {
          "data": {
            "text/html": [
              "<div>\n",
              "<style scoped>\n",
              "    .dataframe tbody tr th:only-of-type {\n",
              "        vertical-align: middle;\n",
              "    }\n",
              "\n",
              "    .dataframe tbody tr th {\n",
              "        vertical-align: top;\n",
              "    }\n",
              "\n",
              "    .dataframe thead th {\n",
              "        text-align: right;\n",
              "    }\n",
              "</style>\n",
              "<table border=\"1\" class=\"dataframe\">\n",
              "  <thead>\n",
              "    <tr style=\"text-align: right;\">\n",
              "      <th></th>\n",
              "      <th>City</th>\n",
              "      <th>Retailer</th>\n",
              "      <th>Units Sold</th>\n",
              "    </tr>\n",
              "  </thead>\n",
              "  <tbody>\n",
              "    <tr>\n",
              "      <th>1</th>\n",
              "      <td>Albany</td>\n",
              "      <td>West Gear</td>\n",
              "      <td>47133.0</td>\n",
              "    </tr>\n",
              "    <tr>\n",
              "      <th>2</th>\n",
              "      <td>Albuquerque</td>\n",
              "      <td>Kohl's</td>\n",
              "      <td>43752.0</td>\n",
              "    </tr>\n",
              "    <tr>\n",
              "      <th>4</th>\n",
              "      <td>Anchorage</td>\n",
              "      <td>Amazon</td>\n",
              "      <td>26749.0</td>\n",
              "    </tr>\n",
              "    <tr>\n",
              "      <th>7</th>\n",
              "      <td>Atlanta</td>\n",
              "      <td>Sports Direct</td>\n",
              "      <td>41414.0</td>\n",
              "    </tr>\n",
              "    <tr>\n",
              "      <th>8</th>\n",
              "      <td>Baltimore</td>\n",
              "      <td>Foot Locker</td>\n",
              "      <td>9322.0</td>\n",
              "    </tr>\n",
              "  </tbody>\n",
              "</table>\n",
              "</div>"
            ],
            "text/plain": [
              "          City       Retailer  Units Sold\n",
              "1       Albany      West Gear     47133.0\n",
              "2  Albuquerque         Kohl's     43752.0\n",
              "4    Anchorage         Amazon     26749.0\n",
              "7      Atlanta  Sports Direct     41414.0\n",
              "8    Baltimore    Foot Locker      9322.0"
            ]
          },
          "execution_count": 28,
          "metadata": {},
          "output_type": "execute_result"
        }
      ],
      "source": [
        "# results\n",
        "print('Top Performing Store in Each City')\n",
        "topStore.head()"
      ]
    },
    {
      "cell_type": "code",
      "execution_count": 29,
      "metadata": {
        "colab": {
          "base_uri": "https://localhost:8080/",
          "height": 223
        },
        "id": "aV36EYpZ2WIk",
        "outputId": "df2af091-5ce7-4f26-ddc7-70aae2ac7dff"
      },
      "outputs": [
        {
          "name": "stdout",
          "output_type": "stream",
          "text": [
            "Least Performing Store in city\n"
          ]
        },
        {
          "data": {
            "text/html": [
              "<div>\n",
              "<style scoped>\n",
              "    .dataframe tbody tr th:only-of-type {\n",
              "        vertical-align: middle;\n",
              "    }\n",
              "\n",
              "    .dataframe tbody tr th {\n",
              "        vertical-align: top;\n",
              "    }\n",
              "\n",
              "    .dataframe thead th {\n",
              "        text-align: right;\n",
              "    }\n",
              "</style>\n",
              "<table border=\"1\" class=\"dataframe\">\n",
              "  <thead>\n",
              "    <tr style=\"text-align: right;\">\n",
              "      <th></th>\n",
              "      <th>City</th>\n",
              "      <th>Retailer</th>\n",
              "      <th>Units Sold</th>\n",
              "    </tr>\n",
              "  </thead>\n",
              "  <tbody>\n",
              "    <tr>\n",
              "      <th>0</th>\n",
              "      <td>Albany</td>\n",
              "      <td>Kohl's</td>\n",
              "      <td>10053.0</td>\n",
              "    </tr>\n",
              "    <tr>\n",
              "      <th>3</th>\n",
              "      <td>Albuquerque</td>\n",
              "      <td>Sports Direct</td>\n",
              "      <td>8881.0</td>\n",
              "    </tr>\n",
              "    <tr>\n",
              "      <th>5</th>\n",
              "      <td>Anchorage</td>\n",
              "      <td>Foot Locker</td>\n",
              "      <td>4066.0</td>\n",
              "    </tr>\n",
              "    <tr>\n",
              "      <th>6</th>\n",
              "      <td>Atlanta</td>\n",
              "      <td>Foot Locker</td>\n",
              "      <td>14977.0</td>\n",
              "    </tr>\n",
              "    <tr>\n",
              "      <th>10</th>\n",
              "      <td>Baltimore</td>\n",
              "      <td>West Gear</td>\n",
              "      <td>5647.0</td>\n",
              "    </tr>\n",
              "  </tbody>\n",
              "</table>\n",
              "</div>"
            ],
            "text/plain": [
              "           City       Retailer  Units Sold\n",
              "0        Albany         Kohl's     10053.0\n",
              "3   Albuquerque  Sports Direct      8881.0\n",
              "5     Anchorage    Foot Locker      4066.0\n",
              "6       Atlanta    Foot Locker     14977.0\n",
              "10    Baltimore      West Gear      5647.0"
            ]
          },
          "execution_count": 29,
          "metadata": {},
          "output_type": "execute_result"
        }
      ],
      "source": [
        "# least performing cities\n",
        "print('Least Performing Store in city')\n",
        "leastStore.head()"
      ]
    },
    {
      "cell_type": "markdown",
      "metadata": {
        "id": "ey3XnxId2xaA"
      },
      "source": [
        "The list of all the store that are least performing in each city\n",
        "\n",
        "<hr>"
      ]
    },
    {
      "cell_type": "markdown",
      "metadata": {
        "id": "pzXwgWOM3AFn"
      },
      "source": [
        "<hr>\n",
        "\n",
        "# **Profit Margin Analysis**\n",
        "\n",
        "**Does the operating profit significantly impact sales**"
      ]
    },
    {
      "cell_type": "code",
      "execution_count": 30,
      "metadata": {
        "id": "OrPmlNKw3iCX"
      },
      "outputs": [],
      "source": [
        "def corrnFunc(val):\n",
        "  if val >=0.90:\n",
        "    return f'The value of correlation is {val}, that shows high correlation between both entities'\n",
        "  elif val >=0.70 and val<0.90:\n",
        "    return f'The values of correlation is {val}, that should a positive correlation that is not that bad'\n",
        "  else:\n",
        "    return 'Weak correlation'"
      ]
    },
    {
      "cell_type": "code",
      "execution_count": 31,
      "metadata": {
        "colab": {
          "base_uri": "https://localhost:8080/",
          "height": 53
        },
        "id": "Sr5pNuWj2gHU",
        "outputId": "add465ce-388f-41cc-afcc-37fdae27ee40"
      },
      "outputs": [
        {
          "data": {
            "text/plain": [
              "'The value of correlation is 0.9563074748281607, that shows high correlation between both entities'"
            ]
          },
          "execution_count": 31,
          "metadata": {},
          "output_type": "execute_result"
        }
      ],
      "source": [
        "# checking the correlation between Operating profit and total sales\n",
        "corrn = df['Operating Profit'].corr(df['Total Sales'])\n",
        "corrnFunc(corrn)"
      ]
    },
    {
      "cell_type": "code",
      "execution_count": 32,
      "metadata": {
        "colab": {
          "base_uri": "https://localhost:8080/",
          "height": 53
        },
        "id": "CdCfsrFX3Vk0",
        "outputId": "c2b7d3f0-1ece-42b3-ecb6-afb03e0f5a1b"
      },
      "outputs": [
        {
          "data": {
            "text/plain": [
              "'The values of correlation is 0.8923794236295572, that should a positive correlation that is not that bad'"
            ]
          },
          "execution_count": 32,
          "metadata": {},
          "output_type": "execute_result"
        }
      ],
      "source": [
        "# checking the correlation between Operating profit and Units Sold\n",
        "corrn = df['Operating Profit'].corr(df['Units Sold'])\n",
        "corrnFunc(corrn)"
      ]
    },
    {
      "cell_type": "markdown",
      "metadata": {
        "id": "u14K7hJC4Wc0"
      },
      "source": [
        "Insights:\n",
        "\n",
        "* The correlation for the both the comparison are high.\n",
        "\n",
        "* This indicates that if the total sales will go up then the Operating Profit will also go up.\n",
        "\n",
        "* **So the answer is Yes, the operating Profit does affect Units Sold in a positive way**\n",
        "\n",
        "<hr>"
      ]
    },
    {
      "cell_type": "markdown",
      "metadata": {
        "id": "7D2_aHxz4vbN"
      },
      "source": [
        "<hr>\n",
        "\n",
        "# **Efficiency of Sales Methods**\n",
        "\n",
        "**Which Sales method is more effective --> In-store or online**"
      ]
    },
    {
      "cell_type": "code",
      "execution_count": 33,
      "metadata": {
        "colab": {
          "base_uri": "https://localhost:8080/"
        },
        "id": "NmoADUD44O4B",
        "outputId": "dd50011d-8a25-4943-b0f5-9fa31646c306"
      },
      "outputs": [
        {
          "name": "stdout",
          "output_type": "stream",
          "text": [
            "The available sales methods: ['In-store' 'Outlet' 'Online']\n"
          ]
        }
      ],
      "source": [
        "# finding the unique cols in df\n",
        "salesMeth = df[\"Sales Method\"].unique()\n",
        "print(f'The available sales methods: {salesMeth}')"
      ]
    },
    {
      "cell_type": "code",
      "execution_count": 34,
      "metadata": {
        "colab": {
          "base_uri": "https://localhost:8080/"
        },
        "id": "Iysxmk-R5KwN",
        "outputId": "4ce70092-f211-45ee-f783-908c5a6602c8"
      },
      "outputs": [
        {
          "name": "stdout",
          "output_type": "stream",
          "text": [
            "Requirement already satisfied: us in c:\\users\\aman raghuvanshi\\appdata\\local\\programs\\python\\python311\\lib\\site-packages (3.1.1)\n",
            "Requirement already satisfied: jellyfish==0.11.2 in c:\\users\\aman raghuvanshi\\appdata\\local\\programs\\python\\python311\\lib\\site-packages (from us) (0.11.2)\n"
          ]
        },
        {
          "name": "stderr",
          "output_type": "stream",
          "text": [
            "\n",
            "[notice] A new release of pip is available: 23.3.2 -> 24.0\n",
            "[notice] To update, run: python.exe -m pip install --upgrade pip\n"
          ]
        }
      ],
      "source": [
        "# using plotly we will try to plot these all\n",
        "!pip install us"
      ]
    },
    {
      "cell_type": "code",
      "execution_count": 35,
      "metadata": {
        "id": "bmepglKF5Xds"
      },
      "outputs": [],
      "source": [
        "from us import states\n",
        "stateCol = df['State']\n",
        "\n",
        "# Getting the two letter short names of the state names\n",
        "stateName = []\n",
        "for x in stateCol:\n",
        "  try:\n",
        "    # finding the name for the states\n",
        "    name = states.lookup(x).abbr\n",
        "  except AttributeError:\n",
        "    # incase we are not able to find the same, we set the Name to Unknown / None\n",
        "    name = 'Unknown'\n",
        "  stateName.append(name)\n"
      ]
    },
    {
      "cell_type": "code",
      "execution_count": 36,
      "metadata": {
        "colab": {
          "base_uri": "https://localhost:8080/"
        },
        "id": "yIwX_NyN6AR_",
        "outputId": "b7589211-f7c0-4b6f-b209-16f8a6281c68"
      },
      "outputs": [
        {
          "data": {
            "text/plain": [
              "0    NY\n",
              "1    NY\n",
              "2    NY\n",
              "3    NY\n",
              "4    NY\n",
              "Name: State_ShortForm, dtype: object"
            ]
          },
          "execution_count": 36,
          "metadata": {},
          "output_type": "execute_result"
        }
      ],
      "source": [
        "# creating a new column having the shortforms\n",
        "df['State_ShortForm'] = stateName\n",
        "df['State_ShortForm'].head()"
      ]
    },
    {
      "cell_type": "code",
      "execution_count": 37,
      "metadata": {
        "colab": {
          "base_uri": "https://localhost:8080/"
        },
        "id": "kZSjAQ-P6KRn",
        "outputId": "225f8dbd-0a10-4b66-fc7e-abe3c3dc0e65"
      },
      "outputs": [
        {
          "data": {
            "text/plain": [
              "array(['NY', 'TX', 'CA', 'IL', 'PA', 'NV', 'CO', 'WA', 'FL', 'MN', 'MT',\n",
              "       'TN', 'NE', 'AL', 'ME', 'AK', 'HI', 'WY', 'VA', 'MI', 'MO', 'UT',\n",
              "       'OR', 'LA', 'ID', 'AZ', 'NM', 'GA', 'SC', 'NC', 'OH', 'KY', 'MS',\n",
              "       'AR', 'OK', 'KS', 'SD', 'ND', 'IA', 'WI', 'IN', 'WV', 'MD', 'DE',\n",
              "       'NJ', 'CT', 'RI', 'MA', 'VT', 'NH'], dtype=object)"
            ]
          },
          "execution_count": 37,
          "metadata": {},
          "output_type": "execute_result"
        }
      ],
      "source": [
        "df['State_ShortForm'].unique()"
      ]
    },
    {
      "cell_type": "code",
      "execution_count": 38,
      "metadata": {},
      "outputs": [
        {
          "name": "stdout",
          "output_type": "stream",
          "text": [
            "Requirement already satisfied: nbformat in c:\\users\\aman raghuvanshi\\appdata\\local\\programs\\python\\python311\\lib\\site-packages (5.9.2)\n",
            "Requirement already satisfied: fastjsonschema in c:\\users\\aman raghuvanshi\\appdata\\local\\programs\\python\\python311\\lib\\site-packages (from nbformat) (2.19.1)\n",
            "Requirement already satisfied: jsonschema>=2.6 in c:\\users\\aman raghuvanshi\\appdata\\local\\programs\\python\\python311\\lib\\site-packages (from nbformat) (4.19.2)\n",
            "Requirement already satisfied: jupyter-core in c:\\users\\aman raghuvanshi\\appdata\\roaming\\python\\python311\\site-packages (from nbformat) (5.7.0)\n",
            "Requirement already satisfied: traitlets>=5.1 in c:\\users\\aman raghuvanshi\\appdata\\roaming\\python\\python311\\site-packages (from nbformat) (5.14.1)\n",
            "Requirement already satisfied: attrs>=22.2.0 in c:\\users\\aman raghuvanshi\\appdata\\local\\programs\\python\\python311\\lib\\site-packages (from jsonschema>=2.6->nbformat) (23.1.0)\n",
            "Requirement already satisfied: jsonschema-specifications>=2023.03.6 in c:\\users\\aman raghuvanshi\\appdata\\local\\programs\\python\\python311\\lib\\site-packages (from jsonschema>=2.6->nbformat) (2023.11.1)\n",
            "Requirement already satisfied: referencing>=0.28.4 in c:\\users\\aman raghuvanshi\\appdata\\local\\programs\\python\\python311\\lib\\site-packages (from jsonschema>=2.6->nbformat) (0.31.0)\n",
            "Requirement already satisfied: rpds-py>=0.7.1 in c:\\users\\aman raghuvanshi\\appdata\\local\\programs\\python\\python311\\lib\\site-packages (from jsonschema>=2.6->nbformat) (0.12.0)\n",
            "Requirement already satisfied: platformdirs>=2.5 in c:\\users\\aman raghuvanshi\\appdata\\roaming\\python\\python311\\site-packages (from jupyter-core->nbformat) (4.1.0)\n",
            "Requirement already satisfied: pywin32>=300 in c:\\users\\aman raghuvanshi\\appdata\\roaming\\python\\python311\\site-packages (from jupyter-core->nbformat) (306)\n"
          ]
        },
        {
          "name": "stderr",
          "output_type": "stream",
          "text": [
            "\n",
            "[notice] A new release of pip is available: 23.3.2 -> 24.0\n",
            "[notice] To update, run: python.exe -m pip install --upgrade pip\n"
          ]
        },
        {
          "name": "stdout",
          "output_type": "stream",
          "text": [
            "Requirement already satisfied: plotly in c:\\users\\aman raghuvanshi\\appdata\\local\\programs\\python\\python311\\lib\\site-packages (5.18.0)\n",
            "Requirement already satisfied: tenacity>=6.2.0 in c:\\users\\aman raghuvanshi\\appdata\\local\\programs\\python\\python311\\lib\\site-packages (from plotly) (8.2.3)\n",
            "Requirement already satisfied: packaging in c:\\users\\aman raghuvanshi\\appdata\\local\\programs\\python\\python311\\lib\\site-packages (from plotly) (23.2)\n"
          ]
        },
        {
          "name": "stderr",
          "output_type": "stream",
          "text": [
            "\n",
            "[notice] A new release of pip is available: 23.3.2 -> 24.0\n",
            "[notice] To update, run: python.exe -m pip install --upgrade pip\n"
          ]
        }
      ],
      "source": [
        "!pip install --upgrade nbformat\n",
        "!pip install --upgrade plotly\n",
        "\n"
      ]
    },
    {
      "cell_type": "markdown",
      "metadata": {
        "id": "yOfH6fy26Yla"
      },
      "source": [
        "**Using the choropleth Map trying to plot Sales by each state, product and sales Method in US**"
      ]
    },
    {
      "cell_type": "code",
      "execution_count": 39,
      "metadata": {
        "colab": {
          "base_uri": "https://localhost:8080/",
          "height": 542
        },
        "id": "w5QYZqsK6N7I",
        "outputId": "7c7e3fdd-c799-4f5d-89a4-8e16e9ee142e"
      },
      "outputs": [
        {
          "data": {
            "application/vnd.plotly.v1+json": {
              "config": {
                "plotlyServerURL": "https://plot.ly"
              },
              "data": [
                {
                  "colorscale": [
                    [
                      0,
                      "rgb(0, 147, 146)"
                    ],
                    [
                      0.16666666666666666,
                      "rgb(114, 170, 161)"
                    ],
                    [
                      0.3333333333333333,
                      "rgb(177, 199, 179)"
                    ],
                    [
                      0.5,
                      "rgb(241, 234, 200)"
                    ],
                    [
                      0.6666666666666666,
                      "rgb(229, 185, 173)"
                    ],
                    [
                      0.8333333333333334,
                      "rgb(217, 137, 148)"
                    ],
                    [
                      1,
                      "rgb(208, 88, 126)"
                    ]
                  ],
                  "locationmode": "USA-states",
                  "locations": [
                    "CO",
                    "CT",
                    "DE",
                    "FL",
                    "IA",
                    "IN",
                    "LA",
                    "MA",
                    "MD",
                    "MI",
                    "MN",
                    "MO",
                    "ND",
                    "NH",
                    "NJ",
                    "NV",
                    "NY",
                    "OR",
                    "RI",
                    "UT",
                    "VA",
                    "VT",
                    "WA",
                    "WI",
                    "WV",
                    "WY"
                  ],
                  "name": "Men's Street Footwear - In-store",
                  "showscale": true,
                  "type": "choropleth",
                  "visible": true,
                  "z": [
                    4083750,
                    3262750,
                    3434000,
                    10617500,
                    2348500,
                    2642000,
                    746250,
                    3202750,
                    2640750,
                    4412000,
                    735500,
                    2667500,
                    2209500,
                    1840500,
                    2973250,
                    2022500,
                    6851250,
                    3996250,
                    2685750,
                    2413000,
                    4223750,
                    3929750,
                    5286250,
                    2423500,
                    2939250,
                    4264250
                  ]
                },
                {
                  "colorscale": [
                    [
                      0,
                      "rgb(0, 147, 146)"
                    ],
                    [
                      0.16666666666666666,
                      "rgb(114, 170, 161)"
                    ],
                    [
                      0.3333333333333333,
                      "rgb(177, 199, 179)"
                    ],
                    [
                      0.5,
                      "rgb(241, 234, 200)"
                    ],
                    [
                      0.6666666666666666,
                      "rgb(229, 185, 173)"
                    ],
                    [
                      0.8333333333333334,
                      "rgb(217, 137, 148)"
                    ],
                    [
                      1,
                      "rgb(208, 88, 126)"
                    ]
                  ],
                  "locationmode": "USA-states",
                  "locations": [
                    "AK",
                    "AL",
                    "AR",
                    "AZ",
                    "CA",
                    "CT",
                    "FL",
                    "GA",
                    "HI",
                    "ID",
                    "IL",
                    "LA",
                    "MA",
                    "ME",
                    "MN",
                    "MS",
                    "MT",
                    "NE",
                    "NH",
                    "NM",
                    "NV",
                    "NY",
                    "OK",
                    "OR",
                    "PA",
                    "RI",
                    "TN",
                    "TX",
                    "UT",
                    "VA",
                    "VT"
                  ],
                  "name": "Men's Street Footwear - Outlet",
                  "showscale": true,
                  "type": "choropleth",
                  "visible": false,
                  "z": [
                    4281500,
                    2886238,
                    74597,
                    75179,
                    10592715,
                    77949,
                    1642508,
                    89696,
                    4411250,
                    72753,
                    3008250,
                    101067,
                    75832,
                    2891500,
                    1702500,
                    85864,
                    2938750,
                    2075750,
                    2629531,
                    87080,
                    2057105,
                    6862621,
                    67688,
                    97229,
                    3315757,
                    62431,
                    2987784,
                    7629708,
                    58983,
                    99032,
                    91089
                  ]
                },
                {
                  "colorscale": [
                    [
                      0,
                      "rgb(0, 147, 146)"
                    ],
                    [
                      0.16666666666666666,
                      "rgb(114, 170, 161)"
                    ],
                    [
                      0.3333333333333333,
                      "rgb(177, 199, 179)"
                    ],
                    [
                      0.5,
                      "rgb(241, 234, 200)"
                    ],
                    [
                      0.6666666666666666,
                      "rgb(229, 185, 173)"
                    ],
                    [
                      0.8333333333333334,
                      "rgb(217, 137, 148)"
                    ],
                    [
                      1,
                      "rgb(208, 88, 126)"
                    ]
                  ],
                  "locationmode": "USA-states",
                  "locations": [
                    "AK",
                    "AL",
                    "AR",
                    "AZ",
                    "CA",
                    "CO",
                    "CT",
                    "DE",
                    "FL",
                    "GA",
                    "HI",
                    "IA",
                    "ID",
                    "IL",
                    "IN",
                    "KS",
                    "KY",
                    "LA",
                    "MA",
                    "MD",
                    "ME",
                    "MI",
                    "MN",
                    "MO",
                    "MS",
                    "MT",
                    "NC",
                    "ND",
                    "NE",
                    "NH",
                    "NJ",
                    "NM",
                    "NV",
                    "NY",
                    "OH",
                    "OK",
                    "OR",
                    "PA",
                    "RI",
                    "SC",
                    "SD",
                    "TN",
                    "TX",
                    "UT",
                    "VA",
                    "VT",
                    "WA",
                    "WI",
                    "WV",
                    "WY"
                  ],
                  "name": "Men's Street Footwear - Online",
                  "showscale": true,
                  "type": "choropleth",
                  "visible": false,
                  "z": [
                    110434,
                    73443,
                    3208460,
                    3125262,
                    269248,
                    100068,
                    82040,
                    88197,
                    308309,
                    3923152,
                    113618,
                    60407,
                    3172241,
                    79701,
                    67332,
                    2883508,
                    3098870,
                    3699590,
                    84000,
                    67534,
                    76382,
                    114962,
                    60746,
                    70257,
                    3747041,
                    78545,
                    5438257,
                    348300,
                    55324,
                    114017,
                    76825,
                    3805073,
                    106555,
                    342775,
                    4464402,
                    2872549,
                    102456,
                    85454,
                    66370,
                    6465330,
                    2812070,
                    74840,
                    189442,
                    62760,
                    112832,
                    99798,
                    135307,
                    63506,
                    74922,
                    111797
                  ]
                },
                {
                  "colorscale": [
                    [
                      0,
                      "rgb(0, 147, 146)"
                    ],
                    [
                      0.16666666666666666,
                      "rgb(114, 170, 161)"
                    ],
                    [
                      0.3333333333333333,
                      "rgb(177, 199, 179)"
                    ],
                    [
                      0.5,
                      "rgb(241, 234, 200)"
                    ],
                    [
                      0.6666666666666666,
                      "rgb(229, 185, 173)"
                    ],
                    [
                      0.8333333333333334,
                      "rgb(217, 137, 148)"
                    ],
                    [
                      1,
                      "rgb(208, 88, 126)"
                    ]
                  ],
                  "locationmode": "USA-states",
                  "locations": [
                    "CO",
                    "CT",
                    "DE",
                    "FL",
                    "IA",
                    "IN",
                    "LA",
                    "MA",
                    "MD",
                    "MI",
                    "MN",
                    "MO",
                    "ND",
                    "NH",
                    "NJ",
                    "NV",
                    "NY",
                    "OR",
                    "RI",
                    "UT",
                    "VA",
                    "VT",
                    "WA",
                    "WI",
                    "WV",
                    "WY"
                  ],
                  "name": "Men's Athletic Footwear - In-store",
                  "showscale": true,
                  "type": "choropleth",
                  "visible": false,
                  "z": [
                    3937500,
                    1677500,
                    1836250,
                    9010000,
                    1061250,
                    1273750,
                    585000,
                    1610000,
                    1168750,
                    2825000,
                    210000,
                    1436250,
                    1013750,
                    697500,
                    1488750,
                    2185000,
                    4232500,
                    3976250,
                    1226250,
                    1450000,
                    3966250,
                    2133750,
                    4910000,
                    1113750,
                    1496250,
                    2827500
                  ]
                },
                {
                  "colorscale": [
                    [
                      0,
                      "rgb(0, 147, 146)"
                    ],
                    [
                      0.16666666666666666,
                      "rgb(114, 170, 161)"
                    ],
                    [
                      0.3333333333333333,
                      "rgb(177, 199, 179)"
                    ],
                    [
                      0.5,
                      "rgb(241, 234, 200)"
                    ],
                    [
                      0.6666666666666666,
                      "rgb(229, 185, 173)"
                    ],
                    [
                      0.8333333333333334,
                      "rgb(217, 137, 148)"
                    ],
                    [
                      1,
                      "rgb(208, 88, 126)"
                    ]
                  ],
                  "locationmode": "USA-states",
                  "locations": [
                    "AK",
                    "AL",
                    "AR",
                    "AZ",
                    "CA",
                    "CT",
                    "FL",
                    "GA",
                    "HI",
                    "ID",
                    "IL",
                    "LA",
                    "MA",
                    "ME",
                    "MN",
                    "MS",
                    "MT",
                    "NE",
                    "NH",
                    "NM",
                    "NV",
                    "NY",
                    "OK",
                    "OR",
                    "PA",
                    "RI",
                    "TN",
                    "TX",
                    "UT",
                    "VA",
                    "VT"
                  ],
                  "name": "Men's Athletic Footwear - Outlet",
                  "showscale": true,
                  "type": "choropleth",
                  "visible": false,
                  "z": [
                    2466250,
                    3169247,
                    40632,
                    67460,
                    10643905,
                    39939,
                    878484,
                    79213,
                    4232500,
                    81825,
                    1521250,
                    100272,
                    37296,
                    1406250,
                    927500,
                    53418,
                    2973750,
                    918750,
                    1775928,
                    82725,
                    1741570,
                    5644948,
                    34435,
                    92591,
                    1596046,
                    30550,
                    3290647,
                    8502705,
                    36002,
                    89832,
                    53401
                  ]
                },
                {
                  "colorscale": [
                    [
                      0,
                      "rgb(0, 147, 146)"
                    ],
                    [
                      0.16666666666666666,
                      "rgb(114, 170, 161)"
                    ],
                    [
                      0.3333333333333333,
                      "rgb(177, 199, 179)"
                    ],
                    [
                      0.5,
                      "rgb(241, 234, 200)"
                    ],
                    [
                      0.6666666666666666,
                      "rgb(229, 185, 173)"
                    ],
                    [
                      0.8333333333333334,
                      "rgb(217, 137, 148)"
                    ],
                    [
                      1,
                      "rgb(208, 88, 126)"
                    ]
                  ],
                  "locationmode": "USA-states",
                  "locations": [
                    "AK",
                    "AL",
                    "AR",
                    "AZ",
                    "CA",
                    "CO",
                    "CT",
                    "DE",
                    "FL",
                    "GA",
                    "HI",
                    "IA",
                    "ID",
                    "IL",
                    "IN",
                    "KS",
                    "KY",
                    "LA",
                    "MA",
                    "MD",
                    "ME",
                    "MI",
                    "MN",
                    "MO",
                    "MS",
                    "MT",
                    "NC",
                    "ND",
                    "NE",
                    "NH",
                    "NJ",
                    "NM",
                    "NV",
                    "NY",
                    "OH",
                    "OK",
                    "OR",
                    "PA",
                    "RI",
                    "SC",
                    "SD",
                    "TN",
                    "TX",
                    "UT",
                    "VA",
                    "VT",
                    "WA",
                    "WI",
                    "WV",
                    "WY"
                  ],
                  "name": "Men's Athletic Footwear - Online",
                  "showscale": true,
                  "type": "choropleth",
                  "visible": false,
                  "z": [
                    62479,
                    81987,
                    1820218,
                    3037241,
                    274934,
                    102315,
                    42978,
                    47909,
                    247800,
                    3591537,
                    110455,
                    27587,
                    3519938,
                    39020,
                    33089,
                    1469278,
                    1576409,
                    3922059,
                    42620,
                    29970,
                    37483,
                    75751,
                    29762,
                    36182,
                    2287737,
                    77354,
                    3678426,
                    134012,
                    24233,
                    63860,
                    39323,
                    3720405,
                    102169,
                    253676,
                    2770609,
                    1528435,
                    105737,
                    40387,
                    31026,
                    4556660,
                    1284513,
                    83422,
                    210331,
                    38487,
                    102409,
                    53024,
                    127103,
                    29149,
                    40123,
                    73998
                  ]
                },
                {
                  "colorscale": [
                    [
                      0,
                      "rgb(0, 147, 146)"
                    ],
                    [
                      0.16666666666666666,
                      "rgb(114, 170, 161)"
                    ],
                    [
                      0.3333333333333333,
                      "rgb(177, 199, 179)"
                    ],
                    [
                      0.5,
                      "rgb(241, 234, 200)"
                    ],
                    [
                      0.6666666666666666,
                      "rgb(229, 185, 173)"
                    ],
                    [
                      0.8333333333333334,
                      "rgb(217, 137, 148)"
                    ],
                    [
                      1,
                      "rgb(208, 88, 126)"
                    ]
                  ],
                  "locationmode": "USA-states",
                  "locations": [
                    "CO",
                    "CT",
                    "DE",
                    "FL",
                    "IA",
                    "IN",
                    "LA",
                    "MA",
                    "MD",
                    "MI",
                    "MN",
                    "MO",
                    "ND",
                    "NH",
                    "NJ",
                    "NV",
                    "NY",
                    "OR",
                    "RI",
                    "UT",
                    "VA",
                    "VT",
                    "WA",
                    "WI",
                    "WV",
                    "WY"
                  ],
                  "name": "Women's Street Footwear - In-store",
                  "showscale": true,
                  "type": "choropleth",
                  "visible": false,
                  "z": [
                    3307500,
                    1327250,
                    1464750,
                    7522500,
                    740750,
                    932000,
                    646250,
                    1267250,
                    842500,
                    2266500,
                    182500,
                    1050000,
                    715500,
                    591250,
                    1157500,
                    1903750,
                    3518750,
                    3398750,
                    927500,
                    1134000,
                    3301250,
                    1737000,
                    4123750,
                    783250,
                    1145750,
                    2361500
                  ]
                },
                {
                  "colorscale": [
                    [
                      0,
                      "rgb(0, 147, 146)"
                    ],
                    [
                      0.16666666666666666,
                      "rgb(114, 170, 161)"
                    ],
                    [
                      0.3333333333333333,
                      "rgb(177, 199, 179)"
                    ],
                    [
                      0.5,
                      "rgb(241, 234, 200)"
                    ],
                    [
                      0.6666666666666666,
                      "rgb(229, 185, 173)"
                    ],
                    [
                      0.8333333333333334,
                      "rgb(217, 137, 148)"
                    ],
                    [
                      1,
                      "rgb(208, 88, 126)"
                    ]
                  ],
                  "locationmode": "USA-states",
                  "locations": [
                    "AK",
                    "AL",
                    "AR",
                    "AZ",
                    "CA",
                    "CT",
                    "FL",
                    "GA",
                    "HI",
                    "ID",
                    "IL",
                    "LA",
                    "MA",
                    "ME",
                    "MN",
                    "MS",
                    "MT",
                    "NE",
                    "NH",
                    "NM",
                    "NV",
                    "NY",
                    "OK",
                    "OR",
                    "PA",
                    "RI",
                    "TN",
                    "TX",
                    "UT",
                    "VA",
                    "VT"
                  ],
                  "name": "Women's Street Footwear - Outlet",
                  "showscale": true,
                  "type": "choropleth",
                  "visible": false,
                  "z": [
                    1860500,
                    3081969,
                    32285,
                    59659,
                    9303923,
                    31418,
                    937641,
                    65457,
                    3540000,
                    78307,
                    1131250,
                    80408,
                    28379,
                    1086000,
                    686750,
                    41319,
                    2426250,
                    639750,
                    1470688,
                    71013,
                    1363936,
                    4844991,
                    26976,
                    81061,
                    1254271,
                    22297,
                    3102651,
                    7933231,
                    26824,
                    76693,
                    40318
                  ]
                },
                {
                  "colorscale": [
                    [
                      0,
                      "rgb(0, 147, 146)"
                    ],
                    [
                      0.16666666666666666,
                      "rgb(114, 170, 161)"
                    ],
                    [
                      0.3333333333333333,
                      "rgb(177, 199, 179)"
                    ],
                    [
                      0.5,
                      "rgb(241, 234, 200)"
                    ],
                    [
                      0.6666666666666666,
                      "rgb(229, 185, 173)"
                    ],
                    [
                      0.8333333333333334,
                      "rgb(217, 137, 148)"
                    ],
                    [
                      1,
                      "rgb(208, 88, 126)"
                    ]
                  ],
                  "locationmode": "USA-states",
                  "locations": [
                    "AK",
                    "AL",
                    "AR",
                    "AZ",
                    "CA",
                    "CO",
                    "CT",
                    "DE",
                    "FL",
                    "GA",
                    "HI",
                    "IA",
                    "ID",
                    "IL",
                    "IN",
                    "KS",
                    "KY",
                    "LA",
                    "MA",
                    "MD",
                    "ME",
                    "MI",
                    "MN",
                    "MO",
                    "MS",
                    "MT",
                    "NC",
                    "ND",
                    "NE",
                    "NH",
                    "NJ",
                    "NM",
                    "NV",
                    "NY",
                    "OH",
                    "OK",
                    "OR",
                    "PA",
                    "RI",
                    "SC",
                    "SD",
                    "TN",
                    "TX",
                    "UT",
                    "VA",
                    "VT",
                    "WA",
                    "WI",
                    "WV",
                    "WY"
                  ],
                  "name": "Women's Street Footwear - Online",
                  "showscale": true,
                  "type": "choropleth",
                  "visible": false,
                  "z": [
                    48403,
                    78130,
                    1392365,
                    2525246,
                    236523,
                    85453,
                    33706,
                    37547,
                    218342,
                    2891056,
                    90409,
                    19471,
                    3431862,
                    29532,
                    24198,
                    1116162,
                    1161721,
                    3148035,
                    31699,
                    22103,
                    28148,
                    59450,
                    21927,
                    28374,
                    1793316,
                    64025,
                    3039971,
                    95689,
                    16696,
                    54495,
                    29933,
                    3119064,
                    82879,
                    214248,
                    2262726,
                    1142110,
                    90225,
                    30698,
                    25101,
                    3817906,
                    931671,
                    78743,
                    199309,
                    29391,
                    86997,
                    45603,
                    105542,
                    20477,
                    30030,
                    60641
                  ]
                },
                {
                  "colorscale": [
                    [
                      0,
                      "rgb(0, 147, 146)"
                    ],
                    [
                      0.16666666666666666,
                      "rgb(114, 170, 161)"
                    ],
                    [
                      0.3333333333333333,
                      "rgb(177, 199, 179)"
                    ],
                    [
                      0.5,
                      "rgb(241, 234, 200)"
                    ],
                    [
                      0.6666666666666666,
                      "rgb(229, 185, 173)"
                    ],
                    [
                      0.8333333333333334,
                      "rgb(217, 137, 148)"
                    ],
                    [
                      1,
                      "rgb(208, 88, 126)"
                    ]
                  ],
                  "locationmode": "USA-states",
                  "locations": [
                    "CO",
                    "CT",
                    "DE",
                    "FL",
                    "IA",
                    "IN",
                    "LA",
                    "MA",
                    "MD",
                    "MI",
                    "MN",
                    "MO",
                    "ND",
                    "NH",
                    "NJ",
                    "NV",
                    "NY",
                    "OR",
                    "RI",
                    "UT",
                    "VA",
                    "VT",
                    "WA",
                    "WI",
                    "WV",
                    "WY"
                  ],
                  "name": "Women's Athletic Footwear - In-store",
                  "showscale": true,
                  "type": "choropleth",
                  "visible": false,
                  "z": [
                    2730000,
                    1072500,
                    1211250,
                    6582500,
                    575000,
                    741250,
                    533750,
                    1093750,
                    558750,
                    2110000,
                    60000,
                    887500,
                    532500,
                    566250,
                    880000,
                    1663750,
                    3282500,
                    2620000,
                    642500,
                    865000,
                    2627500,
                    1378750,
                    3497500,
                    611250,
                    1025000,
                    2171250
                  ]
                },
                {
                  "colorscale": [
                    [
                      0,
                      "rgb(0, 147, 146)"
                    ],
                    [
                      0.16666666666666666,
                      "rgb(114, 170, 161)"
                    ],
                    [
                      0.3333333333333333,
                      "rgb(177, 199, 179)"
                    ],
                    [
                      0.5,
                      "rgb(241, 234, 200)"
                    ],
                    [
                      0.6666666666666666,
                      "rgb(229, 185, 173)"
                    ],
                    [
                      0.8333333333333334,
                      "rgb(217, 137, 148)"
                    ],
                    [
                      1,
                      "rgb(208, 88, 126)"
                    ]
                  ],
                  "locationmode": "USA-states",
                  "locations": [
                    "AK",
                    "AL",
                    "AR",
                    "AZ",
                    "CA",
                    "CT",
                    "FL",
                    "GA",
                    "HI",
                    "ID",
                    "IL",
                    "LA",
                    "MA",
                    "ME",
                    "MN",
                    "MS",
                    "MT",
                    "NE",
                    "NH",
                    "NM",
                    "NV",
                    "NY",
                    "OK",
                    "OR",
                    "PA",
                    "RI",
                    "TN",
                    "TX",
                    "UT",
                    "VA",
                    "VT"
                  ],
                  "name": "Women's Athletic Footwear - Outlet",
                  "showscale": true,
                  "type": "choropleth",
                  "visible": false,
                  "z": [
                    1333750,
                    2216720,
                    30833,
                    42627,
                    8014099,
                    24899,
                    775007,
                    52659,
                    2812500,
                    56635,
                    901250,
                    70522,
                    25919,
                    781250,
                    526250,
                    39814,
                    1980000,
                    453750,
                    1120133,
                    56370,
                    963548,
                    4692374,
                    25991,
                    61632,
                    903469,
                    15005,
                    2249858,
                    6174511,
                    20215,
                    62925,
                    33914
                  ]
                },
                {
                  "colorscale": [
                    [
                      0,
                      "rgb(0, 147, 146)"
                    ],
                    [
                      0.16666666666666666,
                      "rgb(114, 170, 161)"
                    ],
                    [
                      0.3333333333333333,
                      "rgb(177, 199, 179)"
                    ],
                    [
                      0.5,
                      "rgb(241, 234, 200)"
                    ],
                    [
                      0.6666666666666666,
                      "rgb(229, 185, 173)"
                    ],
                    [
                      0.8333333333333334,
                      "rgb(217, 137, 148)"
                    ],
                    [
                      1,
                      "rgb(208, 88, 126)"
                    ]
                  ],
                  "locationmode": "USA-states",
                  "locations": [
                    "AK",
                    "AL",
                    "AR",
                    "AZ",
                    "CA",
                    "CO",
                    "CT",
                    "DE",
                    "FL",
                    "GA",
                    "HI",
                    "IA",
                    "ID",
                    "IL",
                    "IN",
                    "KS",
                    "KY",
                    "LA",
                    "MA",
                    "MD",
                    "ME",
                    "MI",
                    "MN",
                    "MO",
                    "MS",
                    "MT",
                    "NC",
                    "ND",
                    "NE",
                    "NH",
                    "NJ",
                    "NM",
                    "NV",
                    "NY",
                    "OH",
                    "OK",
                    "OR",
                    "PA",
                    "RI",
                    "SC",
                    "SD",
                    "TN",
                    "TX",
                    "UT",
                    "VA",
                    "VT",
                    "WA",
                    "WI",
                    "WV",
                    "WY"
                  ],
                  "name": "Women's Athletic Footwear - Online",
                  "showscale": true,
                  "type": "choropleth",
                  "visible": false,
                  "z": [
                    34764,
                    57838,
                    1359919,
                    1908576,
                    207325,
                    69988,
                    28521,
                    31330,
                    194379,
                    2288173,
                    72258,
                    14654,
                    2482491,
                    23549,
                    20133,
                    980045,
                    905788,
                    2592894,
                    28259,
                    14489,
                    19656,
                    56103,
                    15979,
                    22598,
                    1784091,
                    50648,
                    3002325,
                    83334,
                    11927,
                    42022,
                    22362,
                    2526422,
                    66351,
                    199185,
                    2235911,
                    1068832,
                    70573,
                    23307,
                    17553,
                    3744447,
                    685516,
                    55613,
                    159536,
                    22545,
                    67095,
                    34773,
                    89806,
                    16021,
                    26468,
                    57095
                  ]
                },
                {
                  "colorscale": [
                    [
                      0,
                      "rgb(0, 147, 146)"
                    ],
                    [
                      0.16666666666666666,
                      "rgb(114, 170, 161)"
                    ],
                    [
                      0.3333333333333333,
                      "rgb(177, 199, 179)"
                    ],
                    [
                      0.5,
                      "rgb(241, 234, 200)"
                    ],
                    [
                      0.6666666666666666,
                      "rgb(229, 185, 173)"
                    ],
                    [
                      0.8333333333333334,
                      "rgb(217, 137, 148)"
                    ],
                    [
                      1,
                      "rgb(208, 88, 126)"
                    ]
                  ],
                  "locationmode": "USA-states",
                  "locations": [
                    "CO",
                    "CT",
                    "DE",
                    "FL",
                    "IA",
                    "IN",
                    "LA",
                    "MA",
                    "MD",
                    "MI",
                    "MN",
                    "MO",
                    "ND",
                    "NH",
                    "NJ",
                    "NV",
                    "NY",
                    "OR",
                    "RI",
                    "UT",
                    "VA",
                    "VT",
                    "WA",
                    "WI",
                    "WV",
                    "WY"
                  ],
                  "name": "Men's Apparel - In-store",
                  "showscale": true,
                  "type": "choropleth",
                  "visible": false,
                  "z": [
                    2573750,
                    1408750,
                    1586250,
                    8272500,
                    905000,
                    1146250,
                    346250,
                    1256250,
                    787500,
                    2846250,
                    238750,
                    1411250,
                    772500,
                    796250,
                    1192500,
                    1713750,
                    4316250,
                    2548750,
                    885000,
                    1376250,
                    2651250,
                    1775000,
                    3260000,
                    945000,
                    1511250,
                    2802500
                  ]
                },
                {
                  "colorscale": [
                    [
                      0,
                      "rgb(0, 147, 146)"
                    ],
                    [
                      0.16666666666666666,
                      "rgb(114, 170, 161)"
                    ],
                    [
                      0.3333333333333333,
                      "rgb(177, 199, 179)"
                    ],
                    [
                      0.5,
                      "rgb(241, 234, 200)"
                    ],
                    [
                      0.6666666666666666,
                      "rgb(229, 185, 173)"
                    ],
                    [
                      0.8333333333333334,
                      "rgb(217, 137, 148)"
                    ],
                    [
                      1,
                      "rgb(208, 88, 126)"
                    ]
                  ],
                  "locationmode": "USA-states",
                  "locations": [
                    "AK",
                    "AL",
                    "AR",
                    "AZ",
                    "CA",
                    "CT",
                    "FL",
                    "GA",
                    "HI",
                    "ID",
                    "IL",
                    "LA",
                    "MA",
                    "ME",
                    "MN",
                    "MS",
                    "MT",
                    "NE",
                    "NH",
                    "NM",
                    "NV",
                    "NY",
                    "OK",
                    "OR",
                    "PA",
                    "RI",
                    "TN",
                    "TX",
                    "UT",
                    "VA",
                    "VT"
                  ],
                  "name": "Men's Apparel - Outlet",
                  "showscale": true,
                  "type": "choropleth",
                  "visible": false,
                  "z": [
                    1633750,
                    2156781,
                    43796,
                    44046,
                    8646005,
                    33287,
                    551467,
                    54757,
                    2720000,
                    56553,
                    1075000,
                    70014,
                    29525,
                    970000,
                    485000,
                    57332,
                    1962500,
                    517500,
                    1334701,
                    56032,
                    842585,
                    6124663,
                    37227,
                    61424,
                    1029213,
                    20670,
                    2246841,
                    5874520,
                    32368,
                    64917,
                    42163
                  ]
                },
                {
                  "colorscale": [
                    [
                      0,
                      "rgb(0, 147, 146)"
                    ],
                    [
                      0.16666666666666666,
                      "rgb(114, 170, 161)"
                    ],
                    [
                      0.3333333333333333,
                      "rgb(177, 199, 179)"
                    ],
                    [
                      0.5,
                      "rgb(241, 234, 200)"
                    ],
                    [
                      0.6666666666666666,
                      "rgb(229, 185, 173)"
                    ],
                    [
                      0.8333333333333334,
                      "rgb(217, 137, 148)"
                    ],
                    [
                      1,
                      "rgb(208, 88, 126)"
                    ]
                  ],
                  "locationmode": "USA-states",
                  "locations": [
                    "AK",
                    "AL",
                    "AR",
                    "AZ",
                    "CA",
                    "CO",
                    "CT",
                    "DE",
                    "FL",
                    "GA",
                    "HI",
                    "IA",
                    "ID",
                    "IL",
                    "IN",
                    "KS",
                    "KY",
                    "LA",
                    "MA",
                    "MD",
                    "ME",
                    "MI",
                    "MN",
                    "MO",
                    "MS",
                    "MT",
                    "NC",
                    "ND",
                    "NE",
                    "NH",
                    "NJ",
                    "NM",
                    "NV",
                    "NY",
                    "OH",
                    "OK",
                    "OR",
                    "PA",
                    "RI",
                    "SC",
                    "SD",
                    "TN",
                    "TX",
                    "UT",
                    "VA",
                    "VT",
                    "WA",
                    "WI",
                    "WV",
                    "WY"
                  ],
                  "name": "Men's Apparel - Online",
                  "showscale": true,
                  "type": "choropleth",
                  "visible": false,
                  "z": [
                    43774,
                    54881,
                    1948184,
                    1846262,
                    216097,
                    66257,
                    36239,
                    40524,
                    230253,
                    2381897,
                    72521,
                    23928,
                    2289168,
                    27791,
                    29851,
                    1405053,
                    1282324,
                    2664137,
                    33028,
                    20727,
                    25810,
                    72857,
                    18854,
                    36307,
                    2458086,
                    50506,
                    3990466,
                    152294,
                    12697,
                    56189,
                    31312,
                    2472312,
                    63609,
                    267806,
                    2970467,
                    1539696,
                    64283,
                    26286,
                    23011,
                    4914897,
                    995364,
                    57231,
                    148093,
                    35994,
                    66759,
                    45533,
                    82563,
                    24692,
                    38725,
                    73400
                  ]
                },
                {
                  "colorscale": [
                    [
                      0,
                      "rgb(0, 147, 146)"
                    ],
                    [
                      0.16666666666666666,
                      "rgb(114, 170, 161)"
                    ],
                    [
                      0.3333333333333333,
                      "rgb(177, 199, 179)"
                    ],
                    [
                      0.5,
                      "rgb(241, 234, 200)"
                    ],
                    [
                      0.6666666666666666,
                      "rgb(229, 185, 173)"
                    ],
                    [
                      0.8333333333333334,
                      "rgb(217, 137, 148)"
                    ],
                    [
                      1,
                      "rgb(208, 88, 126)"
                    ]
                  ],
                  "locationmode": "USA-states",
                  "locations": [
                    "CO",
                    "CT",
                    "DE",
                    "FL",
                    "IA",
                    "IN",
                    "LA",
                    "MA",
                    "MD",
                    "MI",
                    "MN",
                    "MO",
                    "ND",
                    "NH",
                    "NJ",
                    "NV",
                    "NY",
                    "OR",
                    "RI",
                    "UT",
                    "VA",
                    "VT",
                    "WA",
                    "WI",
                    "WV",
                    "WY"
                  ],
                  "name": "Women's Apparel - In-store",
                  "showscale": true,
                  "type": "choropleth",
                  "visible": false,
                  "z": [
                    3842500,
                    2281250,
                    2456250,
                    9800000,
                    1607500,
                    1877500,
                    536250,
                    2123750,
                    1565000,
                    3693750,
                    411250,
                    1985000,
                    1498750,
                    1130000,
                    1990000,
                    2070000,
                    5161250,
                    3796250,
                    1682500,
                    1993750,
                    3786250,
                    2725000,
                    4598750,
                    1655000,
                    2302500,
                    3678750
                  ]
                },
                {
                  "colorscale": [
                    [
                      0,
                      "rgb(0, 147, 146)"
                    ],
                    [
                      0.16666666666666666,
                      "rgb(114, 170, 161)"
                    ],
                    [
                      0.3333333333333333,
                      "rgb(177, 199, 179)"
                    ],
                    [
                      0.5,
                      "rgb(241, 234, 200)"
                    ],
                    [
                      0.6666666666666666,
                      "rgb(229, 185, 173)"
                    ],
                    [
                      0.8333333333333334,
                      "rgb(217, 137, 148)"
                    ],
                    [
                      1,
                      "rgb(208, 88, 126)"
                    ]
                  ],
                  "locationmode": "USA-states",
                  "locations": [
                    "AK",
                    "AL",
                    "AR",
                    "AZ",
                    "CA",
                    "CT",
                    "FL",
                    "GA",
                    "HI",
                    "ID",
                    "IL",
                    "LA",
                    "MA",
                    "ME",
                    "MN",
                    "MS",
                    "MT",
                    "NE",
                    "NH",
                    "NM",
                    "NV",
                    "NY",
                    "OK",
                    "OR",
                    "PA",
                    "RI",
                    "TN",
                    "TX",
                    "UT",
                    "VA",
                    "VT"
                  ],
                  "name": "Women's Apparel - Outlet",
                  "showscale": true,
                  "type": "choropleth",
                  "visible": false,
                  "z": [
                    2805000,
                    3680913,
                    62222,
                    67738,
                    11484741,
                    51960,
                    1217793,
                    79865,
                    4003750,
                    90094,
                    1911250,
                    96925,
                    49953,
                    1827500,
                    1027500,
                    73438,
                    3030000,
                    1172500,
                    2049413,
                    87773,
                    1809410,
                    7107767,
                    50307,
                    89045,
                    2003313,
                    39733,
                    3747298,
                    9101592,
                    50046,
                    91830,
                    66286
                  ]
                },
                {
                  "colorscale": [
                    [
                      0,
                      "rgb(0, 147, 146)"
                    ],
                    [
                      0.16666666666666666,
                      "rgb(114, 170, 161)"
                    ],
                    [
                      0.3333333333333333,
                      "rgb(177, 199, 179)"
                    ],
                    [
                      0.5,
                      "rgb(241, 234, 200)"
                    ],
                    [
                      0.6666666666666666,
                      "rgb(229, 185, 173)"
                    ],
                    [
                      0.8333333333333334,
                      "rgb(217, 137, 148)"
                    ],
                    [
                      1,
                      "rgb(208, 88, 126)"
                    ]
                  ],
                  "locationmode": "USA-states",
                  "locations": [
                    "AK",
                    "AL",
                    "AR",
                    "AZ",
                    "CA",
                    "CO",
                    "CT",
                    "DE",
                    "FL",
                    "GA",
                    "HI",
                    "IA",
                    "ID",
                    "IL",
                    "IN",
                    "KS",
                    "KY",
                    "LA",
                    "MA",
                    "MD",
                    "ME",
                    "MI",
                    "MN",
                    "MO",
                    "MS",
                    "MT",
                    "NC",
                    "ND",
                    "NE",
                    "NH",
                    "NJ",
                    "NM",
                    "NV",
                    "NY",
                    "OH",
                    "OK",
                    "OR",
                    "PA",
                    "RI",
                    "SC",
                    "SD",
                    "TN",
                    "TX",
                    "UT",
                    "VA",
                    "VT",
                    "WA",
                    "WI",
                    "WV",
                    "WY"
                  ],
                  "name": "Women's Apparel - Online",
                  "showscale": true,
                  "type": "choropleth",
                  "visible": false,
                  "z": [
                    72499,
                    95277,
                    2625836,
                    2982925,
                    284618,
                    97455,
                    60512,
                    64155,
                    276731,
                    3500004,
                    103196,
                    39964,
                    3945011,
                    49645,
                    48845,
                    2118818,
                    2047736,
                    3811108,
                    56550,
                    39986,
                    45999,
                    92810,
                    37300,
                    52047,
                    3170253,
                    78558,
                    4807086,
                    179451,
                    30161,
                    78940,
                    52491,
                    3780747,
                    100042,
                    311485,
                    3780468,
                    2226488,
                    97168,
                    49318,
                    43559,
                    5786397,
                    1786442,
                    92512,
                    236768,
                    50805,
                    97469,
                    67771,
                    114147,
                    41874,
                    58892,
                    94836
                  ]
                }
              ],
              "layout": {
                "geo": {
                  "scope": "usa"
                },
                "template": {
                  "data": {
                    "bar": [
                      {
                        "error_x": {
                          "color": "#2a3f5f"
                        },
                        "error_y": {
                          "color": "#2a3f5f"
                        },
                        "marker": {
                          "line": {
                            "color": "#E5ECF6",
                            "width": 0.5
                          },
                          "pattern": {
                            "fillmode": "overlay",
                            "size": 10,
                            "solidity": 0.2
                          }
                        },
                        "type": "bar"
                      }
                    ],
                    "barpolar": [
                      {
                        "marker": {
                          "line": {
                            "color": "#E5ECF6",
                            "width": 0.5
                          },
                          "pattern": {
                            "fillmode": "overlay",
                            "size": 10,
                            "solidity": 0.2
                          }
                        },
                        "type": "barpolar"
                      }
                    ],
                    "carpet": [
                      {
                        "aaxis": {
                          "endlinecolor": "#2a3f5f",
                          "gridcolor": "white",
                          "linecolor": "white",
                          "minorgridcolor": "white",
                          "startlinecolor": "#2a3f5f"
                        },
                        "baxis": {
                          "endlinecolor": "#2a3f5f",
                          "gridcolor": "white",
                          "linecolor": "white",
                          "minorgridcolor": "white",
                          "startlinecolor": "#2a3f5f"
                        },
                        "type": "carpet"
                      }
                    ],
                    "choropleth": [
                      {
                        "colorbar": {
                          "outlinewidth": 0,
                          "ticks": ""
                        },
                        "type": "choropleth"
                      }
                    ],
                    "contour": [
                      {
                        "colorbar": {
                          "outlinewidth": 0,
                          "ticks": ""
                        },
                        "colorscale": [
                          [
                            0,
                            "#0d0887"
                          ],
                          [
                            0.1111111111111111,
                            "#46039f"
                          ],
                          [
                            0.2222222222222222,
                            "#7201a8"
                          ],
                          [
                            0.3333333333333333,
                            "#9c179e"
                          ],
                          [
                            0.4444444444444444,
                            "#bd3786"
                          ],
                          [
                            0.5555555555555556,
                            "#d8576b"
                          ],
                          [
                            0.6666666666666666,
                            "#ed7953"
                          ],
                          [
                            0.7777777777777778,
                            "#fb9f3a"
                          ],
                          [
                            0.8888888888888888,
                            "#fdca26"
                          ],
                          [
                            1,
                            "#f0f921"
                          ]
                        ],
                        "type": "contour"
                      }
                    ],
                    "contourcarpet": [
                      {
                        "colorbar": {
                          "outlinewidth": 0,
                          "ticks": ""
                        },
                        "type": "contourcarpet"
                      }
                    ],
                    "heatmap": [
                      {
                        "colorbar": {
                          "outlinewidth": 0,
                          "ticks": ""
                        },
                        "colorscale": [
                          [
                            0,
                            "#0d0887"
                          ],
                          [
                            0.1111111111111111,
                            "#46039f"
                          ],
                          [
                            0.2222222222222222,
                            "#7201a8"
                          ],
                          [
                            0.3333333333333333,
                            "#9c179e"
                          ],
                          [
                            0.4444444444444444,
                            "#bd3786"
                          ],
                          [
                            0.5555555555555556,
                            "#d8576b"
                          ],
                          [
                            0.6666666666666666,
                            "#ed7953"
                          ],
                          [
                            0.7777777777777778,
                            "#fb9f3a"
                          ],
                          [
                            0.8888888888888888,
                            "#fdca26"
                          ],
                          [
                            1,
                            "#f0f921"
                          ]
                        ],
                        "type": "heatmap"
                      }
                    ],
                    "heatmapgl": [
                      {
                        "colorbar": {
                          "outlinewidth": 0,
                          "ticks": ""
                        },
                        "colorscale": [
                          [
                            0,
                            "#0d0887"
                          ],
                          [
                            0.1111111111111111,
                            "#46039f"
                          ],
                          [
                            0.2222222222222222,
                            "#7201a8"
                          ],
                          [
                            0.3333333333333333,
                            "#9c179e"
                          ],
                          [
                            0.4444444444444444,
                            "#bd3786"
                          ],
                          [
                            0.5555555555555556,
                            "#d8576b"
                          ],
                          [
                            0.6666666666666666,
                            "#ed7953"
                          ],
                          [
                            0.7777777777777778,
                            "#fb9f3a"
                          ],
                          [
                            0.8888888888888888,
                            "#fdca26"
                          ],
                          [
                            1,
                            "#f0f921"
                          ]
                        ],
                        "type": "heatmapgl"
                      }
                    ],
                    "histogram": [
                      {
                        "marker": {
                          "pattern": {
                            "fillmode": "overlay",
                            "size": 10,
                            "solidity": 0.2
                          }
                        },
                        "type": "histogram"
                      }
                    ],
                    "histogram2d": [
                      {
                        "colorbar": {
                          "outlinewidth": 0,
                          "ticks": ""
                        },
                        "colorscale": [
                          [
                            0,
                            "#0d0887"
                          ],
                          [
                            0.1111111111111111,
                            "#46039f"
                          ],
                          [
                            0.2222222222222222,
                            "#7201a8"
                          ],
                          [
                            0.3333333333333333,
                            "#9c179e"
                          ],
                          [
                            0.4444444444444444,
                            "#bd3786"
                          ],
                          [
                            0.5555555555555556,
                            "#d8576b"
                          ],
                          [
                            0.6666666666666666,
                            "#ed7953"
                          ],
                          [
                            0.7777777777777778,
                            "#fb9f3a"
                          ],
                          [
                            0.8888888888888888,
                            "#fdca26"
                          ],
                          [
                            1,
                            "#f0f921"
                          ]
                        ],
                        "type": "histogram2d"
                      }
                    ],
                    "histogram2dcontour": [
                      {
                        "colorbar": {
                          "outlinewidth": 0,
                          "ticks": ""
                        },
                        "colorscale": [
                          [
                            0,
                            "#0d0887"
                          ],
                          [
                            0.1111111111111111,
                            "#46039f"
                          ],
                          [
                            0.2222222222222222,
                            "#7201a8"
                          ],
                          [
                            0.3333333333333333,
                            "#9c179e"
                          ],
                          [
                            0.4444444444444444,
                            "#bd3786"
                          ],
                          [
                            0.5555555555555556,
                            "#d8576b"
                          ],
                          [
                            0.6666666666666666,
                            "#ed7953"
                          ],
                          [
                            0.7777777777777778,
                            "#fb9f3a"
                          ],
                          [
                            0.8888888888888888,
                            "#fdca26"
                          ],
                          [
                            1,
                            "#f0f921"
                          ]
                        ],
                        "type": "histogram2dcontour"
                      }
                    ],
                    "mesh3d": [
                      {
                        "colorbar": {
                          "outlinewidth": 0,
                          "ticks": ""
                        },
                        "type": "mesh3d"
                      }
                    ],
                    "parcoords": [
                      {
                        "line": {
                          "colorbar": {
                            "outlinewidth": 0,
                            "ticks": ""
                          }
                        },
                        "type": "parcoords"
                      }
                    ],
                    "pie": [
                      {
                        "automargin": true,
                        "type": "pie"
                      }
                    ],
                    "scatter": [
                      {
                        "fillpattern": {
                          "fillmode": "overlay",
                          "size": 10,
                          "solidity": 0.2
                        },
                        "type": "scatter"
                      }
                    ],
                    "scatter3d": [
                      {
                        "line": {
                          "colorbar": {
                            "outlinewidth": 0,
                            "ticks": ""
                          }
                        },
                        "marker": {
                          "colorbar": {
                            "outlinewidth": 0,
                            "ticks": ""
                          }
                        },
                        "type": "scatter3d"
                      }
                    ],
                    "scattercarpet": [
                      {
                        "marker": {
                          "colorbar": {
                            "outlinewidth": 0,
                            "ticks": ""
                          }
                        },
                        "type": "scattercarpet"
                      }
                    ],
                    "scattergeo": [
                      {
                        "marker": {
                          "colorbar": {
                            "outlinewidth": 0,
                            "ticks": ""
                          }
                        },
                        "type": "scattergeo"
                      }
                    ],
                    "scattergl": [
                      {
                        "marker": {
                          "colorbar": {
                            "outlinewidth": 0,
                            "ticks": ""
                          }
                        },
                        "type": "scattergl"
                      }
                    ],
                    "scattermapbox": [
                      {
                        "marker": {
                          "colorbar": {
                            "outlinewidth": 0,
                            "ticks": ""
                          }
                        },
                        "type": "scattermapbox"
                      }
                    ],
                    "scatterpolar": [
                      {
                        "marker": {
                          "colorbar": {
                            "outlinewidth": 0,
                            "ticks": ""
                          }
                        },
                        "type": "scatterpolar"
                      }
                    ],
                    "scatterpolargl": [
                      {
                        "marker": {
                          "colorbar": {
                            "outlinewidth": 0,
                            "ticks": ""
                          }
                        },
                        "type": "scatterpolargl"
                      }
                    ],
                    "scatterternary": [
                      {
                        "marker": {
                          "colorbar": {
                            "outlinewidth": 0,
                            "ticks": ""
                          }
                        },
                        "type": "scatterternary"
                      }
                    ],
                    "surface": [
                      {
                        "colorbar": {
                          "outlinewidth": 0,
                          "ticks": ""
                        },
                        "colorscale": [
                          [
                            0,
                            "#0d0887"
                          ],
                          [
                            0.1111111111111111,
                            "#46039f"
                          ],
                          [
                            0.2222222222222222,
                            "#7201a8"
                          ],
                          [
                            0.3333333333333333,
                            "#9c179e"
                          ],
                          [
                            0.4444444444444444,
                            "#bd3786"
                          ],
                          [
                            0.5555555555555556,
                            "#d8576b"
                          ],
                          [
                            0.6666666666666666,
                            "#ed7953"
                          ],
                          [
                            0.7777777777777778,
                            "#fb9f3a"
                          ],
                          [
                            0.8888888888888888,
                            "#fdca26"
                          ],
                          [
                            1,
                            "#f0f921"
                          ]
                        ],
                        "type": "surface"
                      }
                    ],
                    "table": [
                      {
                        "cells": {
                          "fill": {
                            "color": "#EBF0F8"
                          },
                          "line": {
                            "color": "white"
                          }
                        },
                        "header": {
                          "fill": {
                            "color": "#C8D4E3"
                          },
                          "line": {
                            "color": "white"
                          }
                        },
                        "type": "table"
                      }
                    ]
                  },
                  "layout": {
                    "annotationdefaults": {
                      "arrowcolor": "#2a3f5f",
                      "arrowhead": 0,
                      "arrowwidth": 1
                    },
                    "autotypenumbers": "strict",
                    "coloraxis": {
                      "colorbar": {
                        "outlinewidth": 0,
                        "ticks": ""
                      }
                    },
                    "colorscale": {
                      "diverging": [
                        [
                          0,
                          "#8e0152"
                        ],
                        [
                          0.1,
                          "#c51b7d"
                        ],
                        [
                          0.2,
                          "#de77ae"
                        ],
                        [
                          0.3,
                          "#f1b6da"
                        ],
                        [
                          0.4,
                          "#fde0ef"
                        ],
                        [
                          0.5,
                          "#f7f7f7"
                        ],
                        [
                          0.6,
                          "#e6f5d0"
                        ],
                        [
                          0.7,
                          "#b8e186"
                        ],
                        [
                          0.8,
                          "#7fbc41"
                        ],
                        [
                          0.9,
                          "#4d9221"
                        ],
                        [
                          1,
                          "#276419"
                        ]
                      ],
                      "sequential": [
                        [
                          0,
                          "#0d0887"
                        ],
                        [
                          0.1111111111111111,
                          "#46039f"
                        ],
                        [
                          0.2222222222222222,
                          "#7201a8"
                        ],
                        [
                          0.3333333333333333,
                          "#9c179e"
                        ],
                        [
                          0.4444444444444444,
                          "#bd3786"
                        ],
                        [
                          0.5555555555555556,
                          "#d8576b"
                        ],
                        [
                          0.6666666666666666,
                          "#ed7953"
                        ],
                        [
                          0.7777777777777778,
                          "#fb9f3a"
                        ],
                        [
                          0.8888888888888888,
                          "#fdca26"
                        ],
                        [
                          1,
                          "#f0f921"
                        ]
                      ],
                      "sequentialminus": [
                        [
                          0,
                          "#0d0887"
                        ],
                        [
                          0.1111111111111111,
                          "#46039f"
                        ],
                        [
                          0.2222222222222222,
                          "#7201a8"
                        ],
                        [
                          0.3333333333333333,
                          "#9c179e"
                        ],
                        [
                          0.4444444444444444,
                          "#bd3786"
                        ],
                        [
                          0.5555555555555556,
                          "#d8576b"
                        ],
                        [
                          0.6666666666666666,
                          "#ed7953"
                        ],
                        [
                          0.7777777777777778,
                          "#fb9f3a"
                        ],
                        [
                          0.8888888888888888,
                          "#fdca26"
                        ],
                        [
                          1,
                          "#f0f921"
                        ]
                      ]
                    },
                    "colorway": [
                      "#636efa",
                      "#EF553B",
                      "#00cc96",
                      "#ab63fa",
                      "#FFA15A",
                      "#19d3f3",
                      "#FF6692",
                      "#B6E880",
                      "#FF97FF",
                      "#FECB52"
                    ],
                    "font": {
                      "color": "#2a3f5f"
                    },
                    "geo": {
                      "bgcolor": "white",
                      "lakecolor": "white",
                      "landcolor": "#E5ECF6",
                      "showlakes": true,
                      "showland": true,
                      "subunitcolor": "white"
                    },
                    "hoverlabel": {
                      "align": "left"
                    },
                    "hovermode": "closest",
                    "mapbox": {
                      "style": "light"
                    },
                    "paper_bgcolor": "white",
                    "plot_bgcolor": "#E5ECF6",
                    "polar": {
                      "angularaxis": {
                        "gridcolor": "white",
                        "linecolor": "white",
                        "ticks": ""
                      },
                      "bgcolor": "#E5ECF6",
                      "radialaxis": {
                        "gridcolor": "white",
                        "linecolor": "white",
                        "ticks": ""
                      }
                    },
                    "scene": {
                      "xaxis": {
                        "backgroundcolor": "#E5ECF6",
                        "gridcolor": "white",
                        "gridwidth": 2,
                        "linecolor": "white",
                        "showbackground": true,
                        "ticks": "",
                        "zerolinecolor": "white"
                      },
                      "yaxis": {
                        "backgroundcolor": "#E5ECF6",
                        "gridcolor": "white",
                        "gridwidth": 2,
                        "linecolor": "white",
                        "showbackground": true,
                        "ticks": "",
                        "zerolinecolor": "white"
                      },
                      "zaxis": {
                        "backgroundcolor": "#E5ECF6",
                        "gridcolor": "white",
                        "gridwidth": 2,
                        "linecolor": "white",
                        "showbackground": true,
                        "ticks": "",
                        "zerolinecolor": "white"
                      }
                    },
                    "shapedefaults": {
                      "line": {
                        "color": "#2a3f5f"
                      }
                    },
                    "ternary": {
                      "aaxis": {
                        "gridcolor": "white",
                        "linecolor": "white",
                        "ticks": ""
                      },
                      "baxis": {
                        "gridcolor": "white",
                        "linecolor": "white",
                        "ticks": ""
                      },
                      "bgcolor": "#E5ECF6",
                      "caxis": {
                        "gridcolor": "white",
                        "linecolor": "white",
                        "ticks": ""
                      }
                    },
                    "title": {
                      "x": 0.05
                    },
                    "xaxis": {
                      "automargin": true,
                      "gridcolor": "white",
                      "linecolor": "white",
                      "ticks": "",
                      "title": {
                        "standoff": 15
                      },
                      "zerolinecolor": "white",
                      "zerolinewidth": 2
                    },
                    "yaxis": {
                      "automargin": true,
                      "gridcolor": "white",
                      "linecolor": "white",
                      "ticks": "",
                      "title": {
                        "standoff": 15
                      },
                      "zerolinecolor": "white",
                      "zerolinewidth": 2
                    }
                  }
                },
                "title": {
                  "text": "Total Sales by State, Product and Sales Method available"
                },
                "updatemenus": [
                  {
                    "buttons": [
                      {
                        "args": [
                          {
                            "visible": [
                              true,
                              true,
                              true,
                              false,
                              false,
                              false,
                              false,
                              false,
                              false,
                              false,
                              false,
                              false,
                              false,
                              false,
                              false,
                              false,
                              false,
                              false
                            ]
                          }
                        ],
                        "label": "Men's Street Footwear",
                        "method": "update"
                      },
                      {
                        "args": [
                          {
                            "visible": [
                              false,
                              false,
                              false,
                              true,
                              true,
                              true,
                              false,
                              false,
                              false,
                              false,
                              false,
                              false,
                              false,
                              false,
                              false,
                              false,
                              false,
                              false
                            ]
                          }
                        ],
                        "label": "Men's Athletic Footwear",
                        "method": "update"
                      },
                      {
                        "args": [
                          {
                            "visible": [
                              false,
                              false,
                              false,
                              false,
                              false,
                              false,
                              true,
                              true,
                              true,
                              false,
                              false,
                              false,
                              false,
                              false,
                              false,
                              false,
                              false,
                              false
                            ]
                          }
                        ],
                        "label": "Women's Street Footwear",
                        "method": "update"
                      },
                      {
                        "args": [
                          {
                            "visible": [
                              false,
                              false,
                              false,
                              false,
                              false,
                              false,
                              false,
                              false,
                              false,
                              true,
                              true,
                              true,
                              false,
                              false,
                              false,
                              false,
                              false,
                              false
                            ]
                          }
                        ],
                        "label": "Women's Athletic Footwear",
                        "method": "update"
                      },
                      {
                        "args": [
                          {
                            "visible": [
                              false,
                              false,
                              false,
                              false,
                              false,
                              false,
                              false,
                              false,
                              false,
                              false,
                              false,
                              false,
                              true,
                              true,
                              true,
                              false,
                              false,
                              false
                            ]
                          }
                        ],
                        "label": "Men's Apparel",
                        "method": "update"
                      },
                      {
                        "args": [
                          {
                            "visible": [
                              false,
                              false,
                              false,
                              false,
                              false,
                              false,
                              false,
                              false,
                              false,
                              false,
                              false,
                              false,
                              false,
                              false,
                              false,
                              true,
                              true,
                              true
                            ]
                          }
                        ],
                        "label": "Women's Apparel",
                        "method": "update"
                      }
                    ],
                    "direction": "down",
                    "showactive": true,
                    "x": 0.25,
                    "xanchor": "left",
                    "y": 1.15,
                    "yanchor": "top"
                  },
                  {
                    "buttons": [
                      {
                        "args": [
                          {
                            "visible": [
                              true,
                              false,
                              false,
                              true,
                              false,
                              false,
                              true,
                              false,
                              false,
                              true,
                              false,
                              false,
                              true,
                              false,
                              false,
                              true,
                              false,
                              false
                            ]
                          }
                        ],
                        "label": "In-store",
                        "method": "update"
                      },
                      {
                        "args": [
                          {
                            "visible": [
                              false,
                              true,
                              false,
                              false,
                              true,
                              false,
                              false,
                              true,
                              false,
                              false,
                              true,
                              false,
                              false,
                              true,
                              false,
                              false,
                              true,
                              false
                            ]
                          }
                        ],
                        "label": "Outlet",
                        "method": "update"
                      },
                      {
                        "args": [
                          {
                            "visible": [
                              false,
                              false,
                              true,
                              false,
                              false,
                              true,
                              false,
                              false,
                              true,
                              false,
                              false,
                              true,
                              false,
                              false,
                              true,
                              false,
                              false,
                              true
                            ]
                          }
                        ],
                        "label": "Online",
                        "method": "update"
                      }
                    ],
                    "direction": "down",
                    "showactive": true,
                    "x": 0.75,
                    "xanchor": "left",
                    "y": 1.15,
                    "yanchor": "top"
                  }
                ]
              }
            }
          },
          "metadata": {},
          "output_type": "display_data"
        }
      ],
      "source": [
        "df['Total Sales'] = df['Total Sales'].replace('[$,]', \"\", regex = True).astype(float)\n",
        "\n",
        "# making canvas\n",
        "fig = go.Figure()\n",
        "#all the unique products and sales method\n",
        "prod = df['Product'].unique()\n",
        "salesMeth = df['Sales Method'].unique()\n",
        "\n",
        "# adding the traces for each combination of products and sales\n",
        "for x in prod:\n",
        "  for y in salesMeth:\n",
        "    filterDf = df[(df['Product']==x) & (df['Sales Method']==y)]\n",
        "    stateSales = filterDf.groupby('State_ShortForm')['Total Sales'].sum().reset_index()\n",
        "\n",
        "    fig.add_trace(\n",
        "        go.Choropleth(\n",
        "            locations = stateSales['State_ShortForm'],\n",
        "            z = stateSales['Total Sales'],\n",
        "            locationmode = 'USA-states',\n",
        "            colorscale = 'tealrose',\n",
        "            name = f'{x} - {y}',\n",
        "            showscale = True,\n",
        "            visible = False, # hidding all traces initially\n",
        "        )\n",
        "    )\n",
        "\n",
        "\n",
        "# updating the layout with dropdowns (this is for products)\n",
        "prod_button = [\n",
        "    {'label': x,\n",
        "     'method':'update',\n",
        "     'args':[{'visible':[traces.name.startswith(x) for traces in fig.data]}]}\n",
        "    for x in prod\n",
        "]\n",
        "\n",
        "# updating the same for sales\n",
        "sales_button = [\n",
        "    {'label': y,\n",
        "     'method':'update',\n",
        "     'args':[{'visible':[y in trace.name for trace in fig.data]}]}\n",
        "    for y in salesMeth\n",
        "]\n",
        "\n",
        "fig.update_layout(\n",
        "    updatemenus = [\n",
        "        {'buttons':prod_button,\n",
        "         'direction':'down',\n",
        "         'showactive': True,\n",
        "         'x':0.25,\n",
        "         'xanchor':'left',\n",
        "         'y':1.15,\n",
        "         'yanchor':'top'\n",
        "         },\n",
        "        {'buttons':sales_button,\n",
        "         'direction':'down',\n",
        "         'showactive': True,\n",
        "         'x':0.75,\n",
        "         'xanchor':'left',\n",
        "         'y':1.15,\n",
        "         'yanchor':'top'\n",
        "         }],\n",
        "    geo = dict(scope = 'usa'),\n",
        "    title = 'Total Sales by State, Product and Sales Method available'\n",
        ")\n",
        "\n",
        "# displaying the first product and first sales\n",
        "if fig.data:\n",
        "  fig.data[0].visible = True\n",
        "\n",
        "fig.show()\n"
      ]
    },
    {
      "cell_type": "markdown",
      "metadata": {
        "id": "nkt4U63z-hzm"
      },
      "source": [
        "'aggrnyl', 'agsunset', 'algae', 'amp', 'armyrose', 'balance',\n",
        "             'blackbody', 'bluered', 'blues', 'blugrn', 'bluyl', 'brbg',\n",
        "             'brwnyl', 'bugn', 'bupu', 'burg', 'burgyl', 'cividis', 'curl',\n",
        "             'darkmint', 'deep', 'delta', 'dense', 'earth', 'edge', 'electric',\n",
        "             'emrld', 'fall', 'geyser', 'gnbu', 'gray', 'greens', 'greys',\n",
        "             'haline', 'hot', 'hsv', 'ice', 'icefire', 'inferno', 'jet',\n",
        "             'magenta', 'magma', 'matter', 'mint', 'mrybm', 'mygbm', 'oranges',\n",
        "             'orrd', 'oryel', 'oxy', 'peach', 'phase', 'picnic', 'pinkyl',\n",
        "             'piyg', 'plasma', 'plotly3', 'portland', 'prgn', 'pubu', 'pubugn',\n",
        "             'puor', 'purd', 'purp', 'purples', 'purpor', 'rainbow', 'rdbu',\n",
        "             'rdgy', 'rdpu', 'rdylbu', 'rdylgn', 'redor', 'reds', 'solar',\n",
        "             'spectral', 'speed', 'sunset', 'sunsetdark', 'teal', 'tealgrn',\n",
        "             'tealrose', 'tempo', 'temps', 'thermal', 'tropic', 'turbid',\n",
        "             'turbo', 'twilight', 'viridis', 'ylgn', 'ylgnbu', 'ylorbr',\n",
        "             'ylorrd'"
      ]
    },
    {
      "cell_type": "code",
      "execution_count": 40,
      "metadata": {
        "colab": {
          "base_uri": "https://localhost:8080/"
        },
        "id": "_FUBjI_Y_QAl",
        "outputId": "e52c2916-a6ed-40d1-c65a-3263167bd2f7"
      },
      "outputs": [
        {
          "name": "stdout",
          "output_type": "stream",
          "text": [
            "<class 'pandas.core.frame.DataFrame'>\n",
            "RangeIndex: 9648 entries, 0 to 9647\n",
            "Data columns (total 14 columns):\n",
            " #   Column            Non-Null Count  Dtype         \n",
            "---  ------            --------------  -----         \n",
            " 0   Retailer          9648 non-null   object        \n",
            " 1   Retailer ID       9648 non-null   int32         \n",
            " 2   Invoice Date      9648 non-null   datetime64[ns]\n",
            " 3   Region            9648 non-null   object        \n",
            " 4   State             9648 non-null   object        \n",
            " 5   City              9648 non-null   object        \n",
            " 6   Product           9648 non-null   object        \n",
            " 7   Price per Unit    9648 non-null   object        \n",
            " 8   Units Sold        9648 non-null   float64       \n",
            " 9   Total Sales       9648 non-null   float64       \n",
            " 10  Operating Profit  9648 non-null   float64       \n",
            " 11  Operating Margin  9648 non-null   float64       \n",
            " 12  Sales Method      9648 non-null   object        \n",
            " 13  State_ShortForm   9648 non-null   object        \n",
            "dtypes: datetime64[ns](1), float64(4), int32(1), object(8)\n",
            "memory usage: 1017.7+ KB\n"
          ]
        }
      ],
      "source": [
        "df.info()"
      ]
    },
    {
      "cell_type": "code",
      "execution_count": 41,
      "metadata": {
        "colab": {
          "base_uri": "https://localhost:8080/",
          "height": 174
        },
        "id": "hkQxwArS7SFP",
        "outputId": "c6734886-97c7-4121-933e-5f20b5d3070c"
      },
      "outputs": [
        {
          "data": {
            "text/html": [
              "<div>\n",
              "<style scoped>\n",
              "    .dataframe tbody tr th:only-of-type {\n",
              "        vertical-align: middle;\n",
              "    }\n",
              "\n",
              "    .dataframe tbody tr th {\n",
              "        vertical-align: top;\n",
              "    }\n",
              "\n",
              "    .dataframe thead th {\n",
              "        text-align: right;\n",
              "    }\n",
              "</style>\n",
              "<table border=\"1\" class=\"dataframe\">\n",
              "  <thead>\n",
              "    <tr style=\"text-align: right;\">\n",
              "      <th></th>\n",
              "      <th>Total Sales</th>\n",
              "      <th>Operating Profit</th>\n",
              "      <th>Operating Margin</th>\n",
              "    </tr>\n",
              "    <tr>\n",
              "      <th>Sales Method</th>\n",
              "      <th></th>\n",
              "      <th></th>\n",
              "      <th></th>\n",
              "    </tr>\n",
              "  </thead>\n",
              "  <tbody>\n",
              "    <tr>\n",
              "      <th>In-store</th>\n",
              "      <td>356643750.0</td>\n",
              "      <td>127591382.0</td>\n",
              "      <td>0.357756</td>\n",
              "    </tr>\n",
              "    <tr>\n",
              "      <th>Online</th>\n",
              "      <td>247672882.0</td>\n",
              "      <td>96555337.0</td>\n",
              "      <td>0.389850</td>\n",
              "    </tr>\n",
              "    <tr>\n",
              "      <th>Outlet</th>\n",
              "      <td>295585493.0</td>\n",
              "      <td>107988403.0</td>\n",
              "      <td>0.365337</td>\n",
              "    </tr>\n",
              "  </tbody>\n",
              "</table>\n",
              "</div>"
            ],
            "text/plain": [
              "              Total Sales  Operating Profit  Operating Margin\n",
              "Sales Method                                                 \n",
              "In-store      356643750.0       127591382.0          0.357756\n",
              "Online        247672882.0        96555337.0          0.389850\n",
              "Outlet        295585493.0       107988403.0          0.365337"
            ]
          },
          "execution_count": 41,
          "metadata": {},
          "output_type": "execute_result"
        }
      ],
      "source": [
        "# working on the method to segment and aggregate data by Sales\n",
        "salesData = df.groupby('Sales Method').agg({'Total Sales': 'sum', 'Operating Profit': 'sum'})\n",
        "\n",
        "# Calculating the Operating Margin for each sales method\n",
        "salesData['Operating Margin'] = salesData['Operating Profit'] / salesData['Total Sales']\n",
        "\n",
        "salesData"
      ]
    },
    {
      "cell_type": "code",
      "execution_count": 42,
      "metadata": {
        "id": "gH6Sh5ax_Y3L"
      },
      "outputs": [
        {
          "data": {
            "text/html": [
              "<div>\n",
              "<style scoped>\n",
              "    .dataframe tbody tr th:only-of-type {\n",
              "        vertical-align: middle;\n",
              "    }\n",
              "\n",
              "    .dataframe tbody tr th {\n",
              "        vertical-align: top;\n",
              "    }\n",
              "\n",
              "    .dataframe thead th {\n",
              "        text-align: right;\n",
              "    }\n",
              "</style>\n",
              "<table border=\"1\" class=\"dataframe\">\n",
              "  <thead>\n",
              "    <tr style=\"text-align: right;\">\n",
              "      <th></th>\n",
              "      <th>Total Sales</th>\n",
              "      <th>Operating Profit</th>\n",
              "      <th>Operating Margin</th>\n",
              "    </tr>\n",
              "    <tr>\n",
              "      <th>Sales Method</th>\n",
              "      <th></th>\n",
              "      <th></th>\n",
              "      <th></th>\n",
              "    </tr>\n",
              "  </thead>\n",
              "  <tbody>\n",
              "    <tr>\n",
              "      <th>In-store</th>\n",
              "      <td>356643750.0</td>\n",
              "      <td>127591382.0</td>\n",
              "      <td>0.357756</td>\n",
              "    </tr>\n",
              "    <tr>\n",
              "      <th>Online</th>\n",
              "      <td>247672882.0</td>\n",
              "      <td>96555337.0</td>\n",
              "      <td>0.389850</td>\n",
              "    </tr>\n",
              "    <tr>\n",
              "      <th>Outlet</th>\n",
              "      <td>295585493.0</td>\n",
              "      <td>107988403.0</td>\n",
              "      <td>0.365337</td>\n",
              "    </tr>\n",
              "  </tbody>\n",
              "</table>\n",
              "</div>"
            ],
            "text/plain": [
              "              Total Sales  Operating Profit  Operating Margin\n",
              "Sales Method                                                 \n",
              "In-store      356643750.0       127591382.0          0.357756\n",
              "Online        247672882.0        96555337.0          0.389850\n",
              "Outlet        295585493.0       107988403.0          0.365337"
            ]
          },
          "execution_count": 42,
          "metadata": {},
          "output_type": "execute_result"
        }
      ],
      "source": [
        "#Which method is best\n",
        "# Segmenting and aggregating data by 'Sales Method'\n",
        "salesData = df.groupby('Sales Method').agg({'Total Sales': 'sum', 'Operating Profit': 'sum'})\n",
        "\n",
        "# Calculating the Operating Margin for each sales method\n",
        "salesData['Operating Margin'] = salesData['Operating Profit'] / salesData['Total Sales']\n",
        "\n",
        "salesData"
      ]
    },
    {
      "cell_type": "markdown",
      "metadata": {},
      "source": [
        "What are the information that we are getting from here:\n",
        "\n",
        "1. **Total Sales**\n",
        "  * In-store: 35,66,43,750\n",
        "  * Online: 24,76,72,882\n",
        "  * Outlet: 29,55,85,493\n",
        "\n",
        "  Hence, it could be concluded from here that the highest sales was done by In-store purchases, followed by Online and then outlets\n",
        "\n",
        "2. **Operating Profit**\n",
        "  * In-store: 12, 75, 91, 300 \n",
        "  * Online: 9,65,55,180\n",
        "  * Outlet: 10, 79, 88, 300\n",
        "\n",
        "  Similar to as of the total sales, in store sales lead in operating profit, followed by the outler and then online\n",
        "\n",
        "3. **Operating Margin** \n",
        "  * In-store: 0.3577 (or 35.7%)\n",
        "  * Online: 0.3898 (or 38.98%)\n",
        "  * Outlet: 0.3653 (or 36.53%)\n",
        "\n",
        "While in-stores generate the most overall sales and profit, but online stores are actually more efficient in terms of profit per sale. Here's the breakdown:\n",
        "\n",
        "* In-store:\n",
        "\n",
        "  * Wins in total sales and profit: brings in the most money overall.\n",
        "\n",
        "* Online:\n",
        "\n",
        "  * Shines in operating margin: makes more profit compared to its sales volume.\n",
        "\n",
        "* The Verdict:\n",
        "\n",
        "  * It depends on your priorities:\n",
        "\n",
        "    * Maximize total sales and profit? Go in-store.\n",
        "    * Prioritize efficiency and profit per sale? Choose online.\n",
        "Bonus: Many businesses use both channels (omnichannel approach) to leverage the strengths of each!\n",
        "\n",
        "<hr>"
      ]
    },
    {
      "cell_type": "markdown",
      "metadata": {},
      "source": [
        "<hr>\n",
        "\n",
        "# **Price Optimization**\n",
        "\n",
        "**Is there any specific price range that has better sales than others**"
      ]
    },
    {
      "cell_type": "code",
      "execution_count": 43,
      "metadata": {},
      "outputs": [
        {
          "data": {
            "text/plain": [
              "[0, 10, 20, 30, 40, 50, 60, 70, 80, 90, 100, 110, 120, 130]"
            ]
          },
          "execution_count": 43,
          "metadata": {},
          "output_type": "execute_result"
        }
      ],
      "source": [
        "# determining the price ranges\n",
        "bins = [a for a in range(0, 131, 10)]\n",
        "bins"
      ]
    },
    {
      "cell_type": "code",
      "execution_count": 44,
      "metadata": {},
      "outputs": [],
      "source": [
        "# replacing the $ infront of the Price segment\n",
        "df['Price per Unit'] = df['Price per Unit'].astype(str).str.replace(r'[$, ]', '', regex=True).astype(float)"
      ]
    },
    {
      "cell_type": "code",
      "execution_count": 45,
      "metadata": {},
      "outputs": [
        {
          "name": "stderr",
          "output_type": "stream",
          "text": [
            "C:\\Users\\Aman Raghuvanshi\\AppData\\Local\\Temp\\ipykernel_13140\\3945029061.py:5: FutureWarning:\n",
            "\n",
            "The default of observed=False is deprecated and will be changed to True in a future version of pandas. Pass observed=False to retain current behavior or observed=True to adopt the future default and silence this warning.\n",
            "\n"
          ]
        },
        {
          "data": {
            "text/html": [
              "<div>\n",
              "<style scoped>\n",
              "    .dataframe tbody tr th:only-of-type {\n",
              "        vertical-align: middle;\n",
              "    }\n",
              "\n",
              "    .dataframe tbody tr th {\n",
              "        vertical-align: top;\n",
              "    }\n",
              "\n",
              "    .dataframe thead th {\n",
              "        text-align: right;\n",
              "    }\n",
              "</style>\n",
              "<table border=\"1\" class=\"dataframe\">\n",
              "  <thead>\n",
              "    <tr style=\"text-align: right;\">\n",
              "      <th></th>\n",
              "      <th>Price Range</th>\n",
              "      <th>Total Sales</th>\n",
              "    </tr>\n",
              "  </thead>\n",
              "  <tbody>\n",
              "    <tr>\n",
              "      <th>5</th>\n",
              "      <td>(50, 60]</td>\n",
              "      <td>242496502.0</td>\n",
              "    </tr>\n",
              "    <tr>\n",
              "      <th>4</th>\n",
              "      <td>(40, 50]</td>\n",
              "      <td>230280807.0</td>\n",
              "    </tr>\n",
              "    <tr>\n",
              "      <th>6</th>\n",
              "      <td>(60, 70]</td>\n",
              "      <td>149990285.0</td>\n",
              "    </tr>\n",
              "    <tr>\n",
              "      <th>3</th>\n",
              "      <td>(30, 40]</td>\n",
              "      <td>122514187.0</td>\n",
              "    </tr>\n",
              "    <tr>\n",
              "      <th>7</th>\n",
              "      <td>(70, 80]</td>\n",
              "      <td>55722579.0</td>\n",
              "    </tr>\n",
              "    <tr>\n",
              "      <th>2</th>\n",
              "      <td>(20, 30]</td>\n",
              "      <td>42774023.0</td>\n",
              "    </tr>\n",
              "    <tr>\n",
              "      <th>8</th>\n",
              "      <td>(80, 90]</td>\n",
              "      <td>29104920.0</td>\n",
              "    </tr>\n",
              "    <tr>\n",
              "      <th>9</th>\n",
              "      <td>(90, 100]</td>\n",
              "      <td>11251185.0</td>\n",
              "    </tr>\n",
              "    <tr>\n",
              "      <th>1</th>\n",
              "      <td>(10, 20]</td>\n",
              "      <td>9583978.0</td>\n",
              "    </tr>\n",
              "    <tr>\n",
              "      <th>10</th>\n",
              "      <td>(100, 110]</td>\n",
              "      <td>5865706.0</td>\n",
              "    </tr>\n",
              "    <tr>\n",
              "      <th>0</th>\n",
              "      <td>(0, 10]</td>\n",
              "      <td>317953.0</td>\n",
              "    </tr>\n",
              "    <tr>\n",
              "      <th>11</th>\n",
              "      <td>(110, 120]</td>\n",
              "      <td>0.0</td>\n",
              "    </tr>\n",
              "    <tr>\n",
              "      <th>12</th>\n",
              "      <td>(120, 130]</td>\n",
              "      <td>0.0</td>\n",
              "    </tr>\n",
              "  </tbody>\n",
              "</table>\n",
              "</div>"
            ],
            "text/plain": [
              "   Price Range  Total Sales\n",
              "5     (50, 60]  242496502.0\n",
              "4     (40, 50]  230280807.0\n",
              "6     (60, 70]  149990285.0\n",
              "3     (30, 40]  122514187.0\n",
              "7     (70, 80]   55722579.0\n",
              "2     (20, 30]   42774023.0\n",
              "8     (80, 90]   29104920.0\n",
              "9    (90, 100]   11251185.0\n",
              "1     (10, 20]    9583978.0\n",
              "10  (100, 110]    5865706.0\n",
              "0      (0, 10]     317953.0\n",
              "11  (110, 120]          0.0\n",
              "12  (120, 130]          0.0"
            ]
          },
          "execution_count": 45,
          "metadata": {},
          "output_type": "execute_result"
        }
      ],
      "source": [
        "# Create a new column for the price range\n",
        "df['Price Range'] = pd.cut(df['Price per Unit'], bins)\n",
        "\n",
        "# Group by the price range and sum the total sales\n",
        "salesPrice = df.groupby('Price Range')['Total Sales'].sum().reset_index()\n",
        "\n",
        "# Sorting the results to see which price range has the highest sales\n",
        "salesPrice = salesPrice.sort_values(by='Total Sales', ascending=False)\n",
        "\n",
        "# Results are sorted based on Total Sales \n",
        "salesPrice"
      ]
    },
    {
      "cell_type": "markdown",
      "metadata": {},
      "source": [
        "**Insights**\n",
        "1. The highest sales is in the price range of [50, 60] ($24,24,96,502), resembling the fact that products priced withing this range are very popular.\n",
        "\n",
        "2. The next is [40, 50] range and then [60,70] range. These are also the significant one to be in trend\n",
        "\n",
        "3. The least sales are for the most expensive ones\n",
        "\n",
        "**Conclusion**\n",
        "\n",
        "    * Products in mid-range are more popular and seems to make good profit. This indicates a that customers are more inclined towards the mid-range\n",
        "\n",
        "    * This could be due to a numerous reasons, such as promotions, or competitions\n",
        "\n",
        "<hr>"
      ]
    },
    {
      "cell_type": "markdown",
      "metadata": {},
      "source": [
        "<hr>\n",
        "\n",
        "# **Product Portfolio Optimization**\n",
        "\n",
        "**Determine which products are more profitable as per the location**"
      ]
    },
    {
      "cell_type": "code",
      "execution_count": 46,
      "metadata": {},
      "outputs": [],
      "source": [
        "# need to group the data by products and location\n",
        "data = df.groupby(['City', 'Product']).agg({\n",
        "    'Operating Profit':'sum',\n",
        "    'Total Sales':'sum'\n",
        "}).reset_index()\n",
        "\n",
        "# calculation of profit margin\n",
        "data['Profit Margin'] = data['Operating Profit']/data['Total Sales']\n",
        "\n",
        "# sorting to find the most profitable product\n",
        "data.sort_values(by = ['City', 'Profit Margin'], ascending = [True, False], inplace= True)\n",
        "\n",
        "# res\n",
        "topRes = data.groupby('City').head()"
      ]
    },
    {
      "cell_type": "code",
      "execution_count": 47,
      "metadata": {},
      "outputs": [
        {
          "data": {
            "text/html": [
              "<div>\n",
              "<style scoped>\n",
              "    .dataframe tbody tr th:only-of-type {\n",
              "        vertical-align: middle;\n",
              "    }\n",
              "\n",
              "    .dataframe tbody tr th {\n",
              "        vertical-align: top;\n",
              "    }\n",
              "\n",
              "    .dataframe thead th {\n",
              "        text-align: right;\n",
              "    }\n",
              "</style>\n",
              "<table border=\"1\" class=\"dataframe\">\n",
              "  <thead>\n",
              "    <tr style=\"text-align: right;\">\n",
              "      <th></th>\n",
              "      <th>City</th>\n",
              "      <th>Product</th>\n",
              "      <th>Operating Profit</th>\n",
              "      <th>Total Sales</th>\n",
              "      <th>Profit Margin</th>\n",
              "    </tr>\n",
              "  </thead>\n",
              "  <tbody>\n",
              "    <tr>\n",
              "      <th>3</th>\n",
              "      <td>Albany</td>\n",
              "      <td>Women's Apparel</td>\n",
              "      <td>2343150.0</td>\n",
              "      <td>4779109.0</td>\n",
              "      <td>0.490290</td>\n",
              "    </tr>\n",
              "    <tr>\n",
              "      <th>2</th>\n",
              "      <td>Albany</td>\n",
              "      <td>Men's Street Footwear</td>\n",
              "      <td>2649930.0</td>\n",
              "      <td>5773987.0</td>\n",
              "      <td>0.458943</td>\n",
              "    </tr>\n",
              "    <tr>\n",
              "      <th>0</th>\n",
              "      <td>Albany</td>\n",
              "      <td>Men's Apparel</td>\n",
              "      <td>1354935.0</td>\n",
              "      <td>3873553.0</td>\n",
              "      <td>0.349791</td>\n",
              "    </tr>\n",
              "    <tr>\n",
              "      <th>1</th>\n",
              "      <td>Albany</td>\n",
              "      <td>Men's Athletic Footwear</td>\n",
              "      <td>1329205.0</td>\n",
              "      <td>3829596.0</td>\n",
              "      <td>0.347088</td>\n",
              "    </tr>\n",
              "    <tr>\n",
              "      <th>4</th>\n",
              "      <td>Albany</td>\n",
              "      <td>Women's Athletic Footwear</td>\n",
              "      <td>908095.0</td>\n",
              "      <td>2973011.0</td>\n",
              "      <td>0.305446</td>\n",
              "    </tr>\n",
              "    <tr>\n",
              "      <th>...</th>\n",
              "      <td>...</td>\n",
              "      <td>...</td>\n",
              "      <td>...</td>\n",
              "      <td>...</td>\n",
              "      <td>...</td>\n",
              "    </tr>\n",
              "    <tr>\n",
              "      <th>309</th>\n",
              "      <td>Wilmington</td>\n",
              "      <td>Women's Apparel</td>\n",
              "      <td>1016331.0</td>\n",
              "      <td>2520405.0</td>\n",
              "      <td>0.403241</td>\n",
              "    </tr>\n",
              "    <tr>\n",
              "      <th>310</th>\n",
              "      <td>Wilmington</td>\n",
              "      <td>Women's Athletic Footwear</td>\n",
              "      <td>500969.0</td>\n",
              "      <td>1242580.0</td>\n",
              "      <td>0.403168</td>\n",
              "    </tr>\n",
              "    <tr>\n",
              "      <th>311</th>\n",
              "      <td>Wilmington</td>\n",
              "      <td>Women's Street Footwear</td>\n",
              "      <td>605628.0</td>\n",
              "      <td>1502297.0</td>\n",
              "      <td>0.403135</td>\n",
              "    </tr>\n",
              "    <tr>\n",
              "      <th>308</th>\n",
              "      <td>Wilmington</td>\n",
              "      <td>Men's Street Footwear</td>\n",
              "      <td>1244059.0</td>\n",
              "      <td>3522197.0</td>\n",
              "      <td>0.353205</td>\n",
              "    </tr>\n",
              "    <tr>\n",
              "      <th>307</th>\n",
              "      <td>Wilmington</td>\n",
              "      <td>Men's Athletic Footwear</td>\n",
              "      <td>664729.0</td>\n",
              "      <td>1884159.0</td>\n",
              "      <td>0.352799</td>\n",
              "    </tr>\n",
              "  </tbody>\n",
              "</table>\n",
              "<p>260 rows × 5 columns</p>\n",
              "</div>"
            ],
            "text/plain": [
              "           City                    Product  Operating Profit  Total Sales  \\\n",
              "3        Albany            Women's Apparel         2343150.0    4779109.0   \n",
              "2        Albany      Men's Street Footwear         2649930.0    5773987.0   \n",
              "0        Albany              Men's Apparel         1354935.0    3873553.0   \n",
              "1        Albany    Men's Athletic Footwear         1329205.0    3829596.0   \n",
              "4        Albany  Women's Athletic Footwear          908095.0    2973011.0   \n",
              "..          ...                        ...               ...          ...   \n",
              "309  Wilmington            Women's Apparel         1016331.0    2520405.0   \n",
              "310  Wilmington  Women's Athletic Footwear          500969.0    1242580.0   \n",
              "311  Wilmington    Women's Street Footwear          605628.0    1502297.0   \n",
              "308  Wilmington      Men's Street Footwear         1244059.0    3522197.0   \n",
              "307  Wilmington    Men's Athletic Footwear          664729.0    1884159.0   \n",
              "\n",
              "     Profit Margin  \n",
              "3         0.490290  \n",
              "2         0.458943  \n",
              "0         0.349791  \n",
              "1         0.347088  \n",
              "4         0.305446  \n",
              "..             ...  \n",
              "309       0.403241  \n",
              "310       0.403168  \n",
              "311       0.403135  \n",
              "308       0.353205  \n",
              "307       0.352799  \n",
              "\n",
              "[260 rows x 5 columns]"
            ]
          },
          "execution_count": 47,
          "metadata": {},
          "output_type": "execute_result"
        }
      ],
      "source": [
        "topRes"
      ]
    },
    {
      "cell_type": "code",
      "execution_count": 48,
      "metadata": {},
      "outputs": [
        {
          "name": "stdout",
          "output_type": "stream",
          "text": [
            "Best and Worst Performing Cities for Each Product:\n"
          ]
        },
        {
          "data": {
            "text/html": [
              "<div>\n",
              "<style scoped>\n",
              "    .dataframe tbody tr th:only-of-type {\n",
              "        vertical-align: middle;\n",
              "    }\n",
              "\n",
              "    .dataframe tbody tr th {\n",
              "        vertical-align: top;\n",
              "    }\n",
              "\n",
              "    .dataframe thead th {\n",
              "        text-align: right;\n",
              "    }\n",
              "</style>\n",
              "<table border=\"1\" class=\"dataframe\">\n",
              "  <thead>\n",
              "    <tr style=\"text-align: right;\">\n",
              "      <th></th>\n",
              "      <th>Product</th>\n",
              "      <th>City</th>\n",
              "      <th>Total Sales</th>\n",
              "    </tr>\n",
              "  </thead>\n",
              "  <tbody>\n",
              "    <tr>\n",
              "      <th>0</th>\n",
              "      <td>Men's Apparel</td>\n",
              "      <td>New York</td>\n",
              "      <td>6835166.0</td>\n",
              "    </tr>\n",
              "    <tr>\n",
              "      <th>1</th>\n",
              "      <td>Men's Apparel</td>\n",
              "      <td>Omaha</td>\n",
              "      <td>530197.0</td>\n",
              "    </tr>\n",
              "    <tr>\n",
              "      <th>2</th>\n",
              "      <td>Men's Athletic Footwear</td>\n",
              "      <td>New York</td>\n",
              "      <td>6301528.0</td>\n",
              "    </tr>\n",
              "    <tr>\n",
              "      <th>3</th>\n",
              "      <td>Men's Athletic Footwear</td>\n",
              "      <td>Omaha</td>\n",
              "      <td>942983.0</td>\n",
              "    </tr>\n",
              "    <tr>\n",
              "      <th>4</th>\n",
              "      <td>Men's Street Footwear</td>\n",
              "      <td>Charleston</td>\n",
              "      <td>9479502.0</td>\n",
              "    </tr>\n",
              "    <tr>\n",
              "      <th>5</th>\n",
              "      <td>Men's Street Footwear</td>\n",
              "      <td>Omaha</td>\n",
              "      <td>2131074.0</td>\n",
              "    </tr>\n",
              "    <tr>\n",
              "      <th>6</th>\n",
              "      <td>Women's Apparel</td>\n",
              "      <td>Charleston</td>\n",
              "      <td>8147789.0</td>\n",
              "    </tr>\n",
              "    <tr>\n",
              "      <th>7</th>\n",
              "      <td>Women's Apparel</td>\n",
              "      <td>Omaha</td>\n",
              "      <td>1202661.0</td>\n",
              "    </tr>\n",
              "    <tr>\n",
              "      <th>8</th>\n",
              "      <td>Women's Athletic Footwear</td>\n",
              "      <td>New York</td>\n",
              "      <td>5201048.0</td>\n",
              "    </tr>\n",
              "    <tr>\n",
              "      <th>9</th>\n",
              "      <td>Women's Athletic Footwear</td>\n",
              "      <td>Omaha</td>\n",
              "      <td>465677.0</td>\n",
              "    </tr>\n",
              "    <tr>\n",
              "      <th>10</th>\n",
              "      <td>Women's Street Footwear</td>\n",
              "      <td>San Francisco</td>\n",
              "      <td>5549840.0</td>\n",
              "    </tr>\n",
              "    <tr>\n",
              "      <th>11</th>\n",
              "      <td>Women's Street Footwear</td>\n",
              "      <td>Omaha</td>\n",
              "      <td>656446.0</td>\n",
              "    </tr>\n",
              "  </tbody>\n",
              "</table>\n",
              "</div>"
            ],
            "text/plain": [
              "                      Product           City  Total Sales\n",
              "0               Men's Apparel       New York    6835166.0\n",
              "1               Men's Apparel          Omaha     530197.0\n",
              "2     Men's Athletic Footwear       New York    6301528.0\n",
              "3     Men's Athletic Footwear          Omaha     942983.0\n",
              "4       Men's Street Footwear     Charleston    9479502.0\n",
              "5       Men's Street Footwear          Omaha    2131074.0\n",
              "6             Women's Apparel     Charleston    8147789.0\n",
              "7             Women's Apparel          Omaha    1202661.0\n",
              "8   Women's Athletic Footwear       New York    5201048.0\n",
              "9   Women's Athletic Footwear          Omaha     465677.0\n",
              "10    Women's Street Footwear  San Francisco    5549840.0\n",
              "11    Women's Street Footwear          Omaha     656446.0"
            ]
          },
          "execution_count": 48,
          "metadata": {},
          "output_type": "execute_result"
        }
      ],
      "source": [
        "# Grouping data by product and city and summing total sales\n",
        "grpData = df.groupby(['Product', 'City'])['Total Sales'].sum().reset_index()\n",
        "\n",
        "# For each product, find the city where it performs the best and the worst\n",
        "best_worst_performing_cities = []\n",
        "\n",
        "for product in grpData['Product'].unique():\n",
        "    product_data = grpData[grpData['Product'] == product]\n",
        "    best_city = product_data[product_data['Total Sales'] == product_data['Total Sales'].max()]\n",
        "    worst_city = product_data[product_data['Total Sales'] == product_data['Total Sales'].min()]\n",
        "    best_worst_performing_cities.extend([best_city, worst_city])\n",
        "\n",
        "# Concatenating the results into a single DataFrame\n",
        "best_worst_performing_cities_df = pd.concat(best_worst_performing_cities).reset_index(drop=True)\n",
        "\n",
        "# Display the results\n",
        "print(\"Best and Worst Performing Cities for Each Product:\")\n",
        "best_worst_performing_cities_df"
      ]
    },
    {
      "cell_type": "markdown",
      "metadata": {},
      "source": [
        "**Insights**\n",
        "\n",
        "1. **Profit Insights**\n",
        "    * Albany:\n",
        "        Women's apparel is the most profitable category, with a margin around 49%. Men's street footwear comes in second with a profit margin of around 46%.\n",
        "\n",
        "    * Wilmington:\n",
        "        Women's apparel is again profitable, but with a slightly lower margin of around 40%. Women's athletic footwear and women's street footwear are equally profitable, both with margins around 40%.\n",
        "\n",
        "2. **Sales Performance Insights**\n",
        "    * New York: dominates in athletic apparel for both men and women, suggesting a fitness-focused customer base.\n",
        "\n",
        "    * Charleston shines in men's street footwear, implying a fashion-conscious male population.\n",
        "\n",
        "    * San Francisco leads in women's street footwear, indicating a trendsetting female demographic.\n",
        "\n",
        "    * Omaha lags behind in all categories, possibly due to weaker market reach or lower product demand.\n",
        "\n",
        "3. **Conclusion: Tailoring Strategies for City-Specific Success**\n",
        "\n",
        "    The diverse sales performance and product preferences across cities like New York, Charleston, San Francisco, Omaha, Albany, and Wilmington paint a clear picture: one-size-fits-all marketing just won't cut it.\n",
        "\n",
        "* Embrace the differences:\n",
        "\n",
        "    * New York's fitness culture calls for amplifying athletic apparel offerings.\n",
        "\n",
        "    * Charleston's fashion-conscious men demand trend-driven footwear promotions.\n",
        "\n",
        "    * San Francisco's trendsetting women deserve targeted campaigns showcasing the latest street styles.\n",
        "\n",
        "    * Omaha's lower demand necessitates strategies to boost market penetration or cater to unique preferences.\n",
        "\n",
        "    * Remember: Albany and Wilmington showcase distinct preferences within women's fashion, highlighting the need for granular market analysis even within seemingly similar regions.\n",
        "\n",
        "    By adapting sales and marketing strategies to each city's unique character, businesses can unlock their full potential in diverse markets\n",
        "\n",
        "<hr>"
      ]
    },
    {
      "cell_type": "markdown",
      "metadata": {},
      "source": [
        "<hr>\n",
        "\n",
        "# **Market Expansion Oppurtunities**\n",
        "\n",
        "**Identifying the stores on their performance based on their location**"
      ]
    },
    {
      "cell_type": "code",
      "execution_count": 49,
      "metadata": {},
      "outputs": [
        {
          "name": "stdout",
          "output_type": "stream",
          "text": [
            "The Store Performance by City\n"
          ]
        },
        {
          "data": {
            "text/html": [
              "<div>\n",
              "<style scoped>\n",
              "    .dataframe tbody tr th:only-of-type {\n",
              "        vertical-align: middle;\n",
              "    }\n",
              "\n",
              "    .dataframe tbody tr th {\n",
              "        vertical-align: top;\n",
              "    }\n",
              "\n",
              "    .dataframe thead th {\n",
              "        text-align: right;\n",
              "    }\n",
              "</style>\n",
              "<table border=\"1\" class=\"dataframe\">\n",
              "  <thead>\n",
              "    <tr style=\"text-align: right;\">\n",
              "      <th></th>\n",
              "      <th>City</th>\n",
              "      <th>Retailer</th>\n",
              "      <th>Total Sales</th>\n",
              "      <th>Operating Profit</th>\n",
              "      <th>Profit Margin</th>\n",
              "    </tr>\n",
              "  </thead>\n",
              "  <tbody>\n",
              "    <tr>\n",
              "      <th>1</th>\n",
              "      <td>Albany</td>\n",
              "      <td>West Gear</td>\n",
              "      <td>20735165.0</td>\n",
              "      <td>8062411.0</td>\n",
              "      <td>0.388828</td>\n",
              "    </tr>\n",
              "    <tr>\n",
              "      <th>0</th>\n",
              "      <td>Albany</td>\n",
              "      <td>Kohl's</td>\n",
              "      <td>3692639.0</td>\n",
              "      <td>1367453.0</td>\n",
              "      <td>0.370319</td>\n",
              "    </tr>\n",
              "    <tr>\n",
              "      <th>2</th>\n",
              "      <td>Albuquerque</td>\n",
              "      <td>Kohl's</td>\n",
              "      <td>17065965.0</td>\n",
              "      <td>5783676.0</td>\n",
              "      <td>0.338901</td>\n",
              "    </tr>\n",
              "    <tr>\n",
              "      <th>3</th>\n",
              "      <td>Albuquerque</td>\n",
              "      <td>Sports Direct</td>\n",
              "      <td>2799051.0</td>\n",
              "      <td>954394.0</td>\n",
              "      <td>0.340971</td>\n",
              "    </tr>\n",
              "    <tr>\n",
              "      <th>4</th>\n",
              "      <td>Anchorage</td>\n",
              "      <td>Amazon</td>\n",
              "      <td>13365025.0</td>\n",
              "      <td>4143814.0</td>\n",
              "      <td>0.310049</td>\n",
              "    </tr>\n",
              "    <tr>\n",
              "      <th>...</th>\n",
              "      <td>...</td>\n",
              "      <td>...</td>\n",
              "      <td>...</td>\n",
              "      <td>...</td>\n",
              "      <td>...</td>\n",
              "    </tr>\n",
              "    <tr>\n",
              "      <th>103</th>\n",
              "      <td>St. Louis</td>\n",
              "      <td>West Gear</td>\n",
              "      <td>1701133.0</td>\n",
              "      <td>681461.0</td>\n",
              "      <td>0.400592</td>\n",
              "    </tr>\n",
              "    <tr>\n",
              "      <th>105</th>\n",
              "      <td>Wichita</td>\n",
              "      <td>Kohl's</td>\n",
              "      <td>6451914.0</td>\n",
              "      <td>2279782.0</td>\n",
              "      <td>0.353350</td>\n",
              "    </tr>\n",
              "    <tr>\n",
              "      <th>104</th>\n",
              "      <td>Wichita</td>\n",
              "      <td>Foot Locker</td>\n",
              "      <td>3520950.0</td>\n",
              "      <td>1230377.0</td>\n",
              "      <td>0.349445</td>\n",
              "    </tr>\n",
              "    <tr>\n",
              "      <th>106</th>\n",
              "      <td>Wilmington</td>\n",
              "      <td>Foot Locker</td>\n",
              "      <td>8387568.0</td>\n",
              "      <td>3077357.0</td>\n",
              "      <td>0.366895</td>\n",
              "    </tr>\n",
              "    <tr>\n",
              "      <th>107</th>\n",
              "      <td>Wilmington</td>\n",
              "      <td>Kohl's</td>\n",
              "      <td>3910844.0</td>\n",
              "      <td>1447001.0</td>\n",
              "      <td>0.369997</td>\n",
              "    </tr>\n",
              "  </tbody>\n",
              "</table>\n",
              "<p>108 rows × 5 columns</p>\n",
              "</div>"
            ],
            "text/plain": [
              "            City       Retailer  Total Sales  Operating Profit  Profit Margin\n",
              "1         Albany      West Gear   20735165.0         8062411.0       0.388828\n",
              "0         Albany         Kohl's    3692639.0         1367453.0       0.370319\n",
              "2    Albuquerque         Kohl's   17065965.0         5783676.0       0.338901\n",
              "3    Albuquerque  Sports Direct    2799051.0          954394.0       0.340971\n",
              "4      Anchorage         Amazon   13365025.0         4143814.0       0.310049\n",
              "..           ...            ...          ...               ...            ...\n",
              "103    St. Louis      West Gear    1701133.0          681461.0       0.400592\n",
              "105      Wichita         Kohl's    6451914.0         2279782.0       0.353350\n",
              "104      Wichita    Foot Locker    3520950.0         1230377.0       0.349445\n",
              "106   Wilmington    Foot Locker    8387568.0         3077357.0       0.366895\n",
              "107   Wilmington         Kohl's    3910844.0         1447001.0       0.369997\n",
              "\n",
              "[108 rows x 5 columns]"
            ]
          },
          "execution_count": 49,
          "metadata": {},
          "output_type": "execute_result"
        }
      ],
      "source": [
        "# group data by both city and store\n",
        "grpData = df.groupby(['City', 'Retailer']).agg({\n",
        "    'Total Sales':'sum',\n",
        "    'Operating Profit':'sum'\n",
        "}).reset_index()\n",
        "\n",
        "# calculating performance matrix\n",
        "grpData['Profit Margin'] = grpData['Operating Profit'] / grpData['Total Sales']\n",
        "\n",
        "# sort\n",
        "grpData = grpData.sort_values(by = ['City', 'Total Sales', 'Profit Margin'], ascending = [True, False, False])\n",
        "\n",
        "# res\n",
        "print(\"The Store Performance by City\")\n",
        "grpData"
      ]
    },
    {
      "cell_type": "markdown",
      "metadata": {},
      "source": [
        "**Summary:**\n",
        "The data has been combined to show the performance of different retail stores in various cities. The main component are Total Sales, Operating Profit and Profit Margin. Stored are combined by city and retailer, provide a efficient picture of each store's performance in a location\n",
        "\n",
        "**Top Performers**\n",
        "    In Albany, the retailer named 'West Gear' is the top performer. \n",
        "\n",
        "**Comparative Performance**\n",
        "    In cities with numerous different retailers there has been a significant difference in both sales and profit margin between stores. For eg: In Albuquerque, 'Kohl's' has the high sales but lower profit as compared to 'Sport Direct'\n",
        "\n",
        "**Sales vs Profit Margin**\n",
        "    There is not a direct correlation between sales and high profit margin always. For eg: 'Kohl's' in Wichita has higher sales than 'Foot Locker' in the same city, yet their profit margins are fairly close (35.3% for Kohl's vs. 34.9% for Foot Locker).\n",
        "\n",
        "**Conclusion**\n",
        "    This information can be used to identify the strong and weak performing areas, optimize operation and strategize for market expansion or improvement.\n",
        "    \n",
        "\n",
        "<hr>\n",
        "\n"
      ]
    },
    {
      "cell_type": "markdown",
      "metadata": {},
      "source": [
        "<hr>\n",
        "\n",
        "# **Time Series Analysis**\n",
        "\n",
        "**Find out whether there has been a constant sales trend over time or any monthly trend**"
      ]
    },
    {
      "cell_type": "code",
      "execution_count": 50,
      "metadata": {},
      "outputs": [
        {
          "data": {
            "text/plain": [
              "['Solarize_Light2',\n",
              " '_classic_test_patch',\n",
              " '_mpl-gallery',\n",
              " '_mpl-gallery-nogrid',\n",
              " 'bmh',\n",
              " 'classic',\n",
              " 'dark_background',\n",
              " 'fast',\n",
              " 'fivethirtyeight',\n",
              " 'ggplot',\n",
              " 'grayscale',\n",
              " 'seaborn-v0_8',\n",
              " 'seaborn-v0_8-bright',\n",
              " 'seaborn-v0_8-colorblind',\n",
              " 'seaborn-v0_8-dark',\n",
              " 'seaborn-v0_8-dark-palette',\n",
              " 'seaborn-v0_8-darkgrid',\n",
              " 'seaborn-v0_8-deep',\n",
              " 'seaborn-v0_8-muted',\n",
              " 'seaborn-v0_8-notebook',\n",
              " 'seaborn-v0_8-paper',\n",
              " 'seaborn-v0_8-pastel',\n",
              " 'seaborn-v0_8-poster',\n",
              " 'seaborn-v0_8-talk',\n",
              " 'seaborn-v0_8-ticks',\n",
              " 'seaborn-v0_8-white',\n",
              " 'seaborn-v0_8-whitegrid',\n",
              " 'tableau-colorblind10']"
            ]
          },
          "execution_count": 50,
          "metadata": {},
          "output_type": "execute_result"
        }
      ],
      "source": [
        "plt.style.available"
      ]
    },
    {
      "cell_type": "code",
      "execution_count": 51,
      "metadata": {},
      "outputs": [
        {
          "data": {
            "image/png": "[encoded data removed]",
            "text/plain": [
              "<Figure size 1200x700 with 1 Axes>"
            ]
          },
          "metadata": {},
          "output_type": "display_data"
        }
      ],
      "source": [
        "plt.style.use('dark_background')\n",
        "# group data by month and calculate the sales for each month\n",
        "monSales = df.groupby(df['Invoice Date'].dt.to_period('M'))['Total Sales'].sum()\n",
        "\n",
        "# converting index to Datetime\n",
        "monSales.index = monSales.index.to_timestamp()\n",
        "\n",
        "# setting style\n",
        "# sns.set(style = 'darkgrid')\n",
        "\n",
        "# plot\n",
        "plt.figure(figsize=(12, 7))\n",
        "plt.plot(monSales.index, monSales.values, marker = 'o', color = 'red', linestyle = 'solid')\n",
        "plt.xlabel('Month', fontsize = 12)\n",
        "plt.ylabel('Total Sales', fontsize = 12)\n",
        "plt.title('Monthly Sales Trend', fontsize = 14)\n",
        "plt.xticks(rotation = 90)\n",
        "plt.tick_params(axis = 'both', which = 'major', labelsize = 10)\n",
        "plt.tight_layout()\n",
        "plt.show()"
      ]
    },
    {
      "cell_type": "code",
      "execution_count": 52,
      "metadata": {},
      "outputs": [
        {
          "name": "stdout",
          "output_type": "stream",
          "text": [
            "The sales follows a seasonality\n",
            "There is no consistent trend!\n"
          ]
        }
      ],
      "source": [
        "# calculate the difference between consective monthts for trend\n",
        "diff = monSales.diff()\n",
        "\n",
        "# defining threshold for seasonality (significant changes)\n",
        "seasonal_threshold = 10000\n",
        "\n",
        "# check for seasonallity\n",
        "if (diff.abs() > seasonal_threshold).any():\n",
        "    print('The sales follows a seasonality')\n",
        "else:\n",
        "    print('The sales doesnt follows seasonality')\n",
        "    \n",
        "\n",
        "\n",
        "# check for trend\n",
        "if (diff > 0).all():\n",
        "    print('There is an increasing trend!')\n",
        "elif (diff < 0).all():\n",
        "    print('There is decreasing trend!')\n",
        "else:\n",
        "    print(\"There is no consistent trend!\")\n"
      ]
    },
    {
      "cell_type": "markdown",
      "metadata": {},
      "source": [
        "**Insights**\n",
        "\n",
        "    Monthly sales data from Jan 2020 to Jan 2022 shows variation with significant peak around April 2021 and then there is a constant increase in December and April of each year, might be due to holiday season or sales season. The data also shows a upper trend in sales over the two-year period, despite of some drops mostly in July 2020 and October 2021\n",
        "\n",
        "\n",
        "**Conclusion**\n",
        "\n",
        "    The observed seasonal pattern, with sales peak and drops, throws the light on the importance of understanding the consumer ideology and impact of seasonality on sales. By using these insights the businesses can aligh thier marketting effors, inventory and other resources with the periods of high demands, ensuring the maximum profit in the peak season.\n",
        "\n",
        "<hr>"
      ]
    },
    {
      "cell_type": "markdown",
      "metadata": {},
      "source": [
        "<hr>\n",
        "\n",
        "# **Predictive Sales Analysis**\n",
        "\n",
        "**Developing a forecasting for monthly sales**"
      ]
    },
    {
      "cell_type": "code",
      "execution_count": 53,
      "metadata": {},
      "outputs": [
        {
          "data": {
            "image/png": "[encoded data removed]",
            "text/plain": [
              "<Figure size 1300x700 with 1 Axes>"
            ]
          },
          "metadata": {},
          "output_type": "display_data"
        }
      ],
      "source": [
        "#using ARIMA\n",
        "model = ARIMA(monSales, order = (2, 1, 2)) \n",
        "finModel = model.fit()\n",
        "\n",
        "# prediction for three years\n",
        "forecstSteps1 = 12\n",
        "forecstSteps2 = 24\n",
        "forecstSteps3 = 36\n",
        "\n",
        "# model with three forecasting for 3 different time years\n",
        "forecst1 = finModel.forecast(steps = forecstSteps1)\n",
        "forecst2 = finModel.forecast(steps = forecstSteps2)\n",
        "forecst3 = finModel.forecast(steps = forecstSteps3)\n",
        "\n",
        "# visualize\n",
        "plt.figure(figsize=(13, 7))\n",
        "plt.plot(monSales.index, monSales.values, marker = 'o', label = 'Actual Sales', linestyle = 'solid',color = 'red')\n",
        "plt.plot(pd.date_range(start=monSales.index[-1], periods=forecstSteps1+1, freq='M')[1:], forecst1, marker='o', label='Forecasted Sales for 12 months', color= 'green')\n",
        "plt.xlabel('Date')\n",
        "plt.ylabel('Total Sales')\n",
        "plt.title('Monthly Sales Forecast for 12 months time period')\n",
        "plt.legend()\n",
        "plt.xticks(rotation=0)\n",
        "plt.grid(True)\n",
        "plt.show()"
      ]
    },
    {
      "cell_type": "code",
      "execution_count": 54,
      "metadata": {},
      "outputs": [
        {
          "data": {
            "image/png": "[encoded data removed]",
            "text/plain": [
              "<Figure size 1300x700 with 1 Axes>"
            ]
          },
          "metadata": {},
          "output_type": "display_data"
        }
      ],
      "source": [
        "# visualize\n",
        "plt.figure(figsize=(13, 7))\n",
        "plt.plot(monSales.index, monSales.values, marker = 'o', label = 'Actual Sales', linestyle = 'solid',color = 'red')\n",
        "plt.plot(pd.date_range(start=monSales.index[-1], periods=forecstSteps2+1, freq='M')[1:], forecst2, marker='o', label='Forecasted Sales for 24 months', color= 'blue')\n",
        "plt.xlabel('Date')\n",
        "plt.ylabel('Total Sales')\n",
        "plt.title('Monthly Sales Forecast for 24 months Time period')\n",
        "plt.legend()\n",
        "plt.xticks(rotation=0)\n",
        "plt.grid(True)\n",
        "plt.show()"
      ]
    },
    {
      "cell_type": "code",
      "execution_count": 55,
      "metadata": {},
      "outputs": [
        {
          "data": {
            "image/png": "[encoded data removed]",
            "text/plain": [
              "<Figure size 1300x700 with 1 Axes>"
            ]
          },
          "metadata": {},
          "output_type": "display_data"
        }
      ],
      "source": [
        "# visualize\n",
        "plt.figure(figsize=(13, 7))\n",
        "plt.plot(monSales.index, monSales.values, marker = 'o', label = 'Actual Sales', linestyle = 'solid',color = 'red')\n",
        "plt.plot(pd.date_range(start=monSales.index[-1], periods=forecstSteps3+1, freq='M')[1:], forecst3, marker='o', label='Forecasted Sales for 36 months', color= 'yellow')\n",
        "plt.xlabel('Date')\n",
        "plt.ylabel('Total Sales')\n",
        "plt.title('Monthly Sales Forecast for 36 months time period')\n",
        "plt.legend()\n",
        "plt.xticks(rotation=0)\n",
        "plt.grid(True)\n",
        "plt.show()"
      ]
    },
    {
      "cell_type": "markdown",
      "metadata": {},
      "source": [
        "\n",
        "# **Here are some general observations I can make about such a visualization**\n",
        "\n",
        "**Overall Trends:**\n",
        "\n",
        "    * Growth or Decline: Is there a general upward or downward trend in sales over the 12 months? Has the growth/decline been consistent or uneven?\n",
        "    * Seasonality: Are there any patterns in sales that repeat throughout the year (e.g., higher sales during holidays or specific months)?\n",
        "\n",
        "**Comparison of Forecast vs. Actual Sales:**\n",
        "\n",
        "Accuracy: How closely does the forecast line match the actual sales data? Are there any significant deviations?\n",
        "Overestimation or Underestimation: Does the forecast consistently overestimate or underestimate actual sales?\n",
        "Specific Points of Interest:\n",
        "\n",
        "Outliers: Are there any months with significantly higher or lower sales than expected? What might explain these outliers?\n",
        "Changes in Trend: Are there any points where the trend in sales changes abruptly? What might have caused these changes?\n",
        "Additional Notes:\n",
        "\n",
        "The specific insights I can provide will depend on the details of the visualization, such as the timeframe, scale, and any annotations present.\n",
        "It's important to remember that a single visualization might not tell the whole story. Consider other factors that might influence sales, such as marketing campaigns, economic conditions, or competitor activity."
      ]
    },
    {
      "cell_type": "code",
      "execution_count": null,
      "metadata": {},
      "outputs": [],
      "source": []
    }
  ],
  "metadata": {
    "colab": {
      "provenance": []
    },
    "kernelspec": {
      "display_name": "Python 3",
      "name": "python3"
    },
    "language_info": {
      "codemirror_mode": {
        "name": "ipython",
        "version": 3
      },
      "file_extension": ".py",
      "mimetype": "text/x-python",
      "name": "python",
      "nbconvert_exporter": "python",
      "pygments_lexer": "ipython3",
      "version": "3.11.3"
    }
  },
  "nbformat": 4,
  "nbformat_minor": 0
}
