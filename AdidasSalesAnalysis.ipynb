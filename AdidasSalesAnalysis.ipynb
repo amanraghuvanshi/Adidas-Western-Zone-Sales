{
  "cells": [
    {
      "cell_type": "markdown",
      "metadata": {
        "id": "UH6XCru8OWAP"
      },
      "source": [
        "#**Adidas Sales Analysis ⚽**\n",
        "\n",
        "**Requirements**\n",
        "1. **Plotly**"
      ]
    },
    {
      "cell_type": "markdown",
      "metadata": {
        "id": "tu1O_8ceVAPo"
      },
      "source": [
        "<hr>\n",
        "\n",
        "#**Business problems that can be solved using this dataset:**\n",
        "* **Sales Performance Analysis: Which products are excelling in sales, and which are underperforming?**\n",
        "* **Regional Market Analysis: Which stores are experiencing strong sales, and which ones are lagging?**\n",
        "* **Profit Margin Analysis: Does the profit margin significantly impact sales?**\n",
        "* **Efficiency of Sales Methods: Which sales method is more effective - in-store or online?**\n",
        "* **Price Optimization: Is there a specific price range that achieves better sales than others?**\n",
        "* **Product Portfolio Optimization I: Determine which products are most profitable, segmented by location.**\n",
        "* **Market Expansion Opportunities: Assess the best and worst performing stores based on their locations.**\n",
        "* **Time Series Analysis: Investigate whether there has been a consistent sales trend over time or any noticeable monthly trends.**\n",
        "* **Predictive Sales Analysis: Develop a forecast for monthly sales.**\n",
        "\n",
        "<hr>"
      ]
    },
    {
      "cell_type": "code",
      "execution_count": 1,
      "metadata": {
        "colab": {
          "base_uri": "https://localhost:8080/"
        },
        "id": "0Y95O10ySG2W",
        "outputId": "650e1837-6672-4677-f620-3b61bdc0b15a"
      },
      "outputs": [
        {
          "name": "stdout",
          "output_type": "stream",
          "text": [
            "Requirement already satisfied: xlrd in c:\\users\\aman raghuvanshi\\appdata\\local\\programs\\python\\python311\\lib\\site-packages (2.0.1)\n"
          ]
        },
        {
          "name": "stderr",
          "output_type": "stream",
          "text": [
            "\n",
            "[notice] A new release of pip is available: 23.3.2 -> 24.0\n",
            "[notice] To update, run: python.exe -m pip install --upgrade pip\n"
          ]
        }
      ],
      "source": [
        "!pip install xlrd"
      ]
    },
    {
      "cell_type": "code",
      "execution_count": 2,
      "metadata": {
        "colab": {
          "base_uri": "https://localhost:8080/"
        },
        "id": "jy17PJmWPPQU",
        "outputId": "84ce19b6-d0a4-4499-ca56-5a9ffeb4ef6f"
      },
      "outputs": [
        {
          "name": "stdout",
          "output_type": "stream",
          "text": [
            "Requirement already satisfied: datatable in c:\\users\\aman raghuvanshi\\appdata\\local\\programs\\python\\python311\\lib\\site-packages (1.1.0)\n"
          ]
        },
        {
          "name": "stderr",
          "output_type": "stream",
          "text": [
            "\n",
            "[notice] A new release of pip is available: 23.3.2 -> 24.0\n",
            "[notice] To update, run: python.exe -m pip install --upgrade pip\n"
          ]
        }
      ],
      "source": [
        "!pip install datatable"
      ]
    },
    {
      "cell_type": "code",
      "execution_count": 3,
      "metadata": {
        "colab": {
          "base_uri": "https://localhost:8080/"
        },
        "id": "uLWANizPPULb",
        "outputId": "a062bf21-757a-401d-c129-ef7719552d92"
      },
      "outputs": [
        {
          "name": "stdout",
          "output_type": "stream",
          "text": [
            "Requirement already satisfied: dask in c:\\users\\aman raghuvanshi\\appdata\\local\\programs\\python\\python311\\lib\\site-packages (2024.1.1)\n",
            "Requirement already satisfied: click>=8.1 in c:\\users\\aman raghuvanshi\\appdata\\local\\programs\\python\\python311\\lib\\site-packages (from dask) (8.1.7)\n",
            "Requirement already satisfied: cloudpickle>=1.5.0 in c:\\users\\aman raghuvanshi\\appdata\\local\\programs\\python\\python311\\lib\\site-packages (from dask) (3.0.0)\n",
            "Requirement already satisfied: fsspec>=2021.09.0 in c:\\users\\aman raghuvanshi\\appdata\\local\\programs\\python\\python311\\lib\\site-packages (from dask) (2024.2.0)\n",
            "Requirement already satisfied: packaging>=20.0 in c:\\users\\aman raghuvanshi\\appdata\\local\\programs\\python\\python311\\lib\\site-packages (from dask) (23.2)\n",
            "Requirement already satisfied: partd>=1.2.0 in c:\\users\\aman raghuvanshi\\appdata\\local\\programs\\python\\python311\\lib\\site-packages (from dask) (1.4.1)\n",
            "Requirement already satisfied: pyyaml>=5.3.1 in c:\\users\\aman raghuvanshi\\appdata\\local\\programs\\python\\python311\\lib\\site-packages (from dask) (6.0.1)\n",
            "Requirement already satisfied: toolz>=0.10.0 in c:\\users\\aman raghuvanshi\\appdata\\local\\programs\\python\\python311\\lib\\site-packages (from dask) (0.12.0)\n",
            "Requirement already satisfied: importlib-metadata>=4.13.0 in c:\\users\\aman raghuvanshi\\appdata\\local\\programs\\python\\python311\\lib\\site-packages (from dask) (6.8.0)\n",
            "Requirement already satisfied: colorama in c:\\users\\aman raghuvanshi\\appdata\\local\\programs\\python\\python311\\lib\\site-packages (from click>=8.1->dask) (0.4.6)\n",
            "Requirement already satisfied: zipp>=0.5 in c:\\users\\aman raghuvanshi\\appdata\\local\\programs\\python\\python311\\lib\\site-packages (from importlib-metadata>=4.13.0->dask) (3.17.0)\n",
            "Requirement already satisfied: locket in c:\\users\\aman raghuvanshi\\appdata\\local\\programs\\python\\python311\\lib\\site-packages (from partd>=1.2.0->dask) (1.0.0)\n"
          ]
        },
        {
          "name": "stderr",
          "output_type": "stream",
          "text": [
            "\n",
            "[notice] A new release of pip is available: 23.3.2 -> 24.0\n",
            "[notice] To update, run: python.exe -m pip install --upgrade pip\n"
          ]
        }
      ],
      "source": [
        "!pip install dask"
      ]
    },
    {
      "cell_type": "code",
      "execution_count": 4,
      "metadata": {},
      "outputs": [
        {
          "name": "stdout",
          "output_type": "stream",
          "text": [
            "Requirement already satisfied: seaborn in c:\\users\\aman raghuvanshi\\appdata\\local\\programs\\python\\python311\\lib\\site-packages (0.13.2)\n",
            "Requirement already satisfied: numpy!=1.24.0,>=1.20 in c:\\users\\aman raghuvanshi\\appdata\\local\\programs\\python\\python311\\lib\\site-packages (from seaborn) (1.26.2)\n",
            "Requirement already satisfied: pandas>=1.2 in c:\\users\\aman raghuvanshi\\appdata\\local\\programs\\python\\python311\\lib\\site-packages (from seaborn) (2.1.3)\n",
            "Requirement already satisfied: matplotlib!=3.6.1,>=3.4 in c:\\users\\aman raghuvanshi\\appdata\\local\\programs\\python\\python311\\lib\\site-packages (from seaborn) (3.8.2)\n",
            "Requirement already satisfied: contourpy>=1.0.1 in c:\\users\\aman raghuvanshi\\appdata\\local\\programs\\python\\python311\\lib\\site-packages (from matplotlib!=3.6.1,>=3.4->seaborn) (1.2.0)\n",
            "Requirement already satisfied: cycler>=0.10 in c:\\users\\aman raghuvanshi\\appdata\\local\\programs\\python\\python311\\lib\\site-packages (from matplotlib!=3.6.1,>=3.4->seaborn) (0.12.1)\n",
            "Requirement already satisfied: fonttools>=4.22.0 in c:\\users\\aman raghuvanshi\\appdata\\local\\programs\\python\\python311\\lib\\site-packages (from matplotlib!=3.6.1,>=3.4->seaborn) (4.47.0)\n",
            "Requirement already satisfied: kiwisolver>=1.3.1 in c:\\users\\aman raghuvanshi\\appdata\\local\\programs\\python\\python311\\lib\\site-packages (from matplotlib!=3.6.1,>=3.4->seaborn) (1.4.5)\n",
            "Requirement already satisfied: packaging>=20.0 in c:\\users\\aman raghuvanshi\\appdata\\local\\programs\\python\\python311\\lib\\site-packages (from matplotlib!=3.6.1,>=3.4->seaborn) (23.2)\n",
            "Requirement already satisfied: pillow>=8 in c:\\users\\aman raghuvanshi\\appdata\\local\\programs\\python\\python311\\lib\\site-packages (from matplotlib!=3.6.1,>=3.4->seaborn) (10.1.0)\n",
            "Requirement already satisfied: pyparsing>=2.3.1 in c:\\users\\aman raghuvanshi\\appdata\\local\\programs\\python\\python311\\lib\\site-packages (from matplotlib!=3.6.1,>=3.4->seaborn) (3.1.1)\n",
            "Requirement already satisfied: python-dateutil>=2.7 in c:\\users\\aman raghuvanshi\\appdata\\local\\programs\\python\\python311\\lib\\site-packages (from matplotlib!=3.6.1,>=3.4->seaborn) (2.8.2)\n",
            "Requirement already satisfied: pytz>=2020.1 in c:\\users\\aman raghuvanshi\\appdata\\local\\programs\\python\\python311\\lib\\site-packages (from pandas>=1.2->seaborn) (2023.3.post1)\n",
            "Requirement already satisfied: tzdata>=2022.1 in c:\\users\\aman raghuvanshi\\appdata\\local\\programs\\python\\python311\\lib\\site-packages (from pandas>=1.2->seaborn) (2023.3)\n",
            "Requirement already satisfied: six>=1.5 in c:\\users\\aman raghuvanshi\\appdata\\local\\programs\\python\\python311\\lib\\site-packages (from python-dateutil>=2.7->matplotlib!=3.6.1,>=3.4->seaborn) (1.16.0)\n"
          ]
        },
        {
          "name": "stderr",
          "output_type": "stream",
          "text": [
            "\n",
            "[notice] A new release of pip is available: 23.3.2 -> 24.0\n",
            "[notice] To update, run: python.exe -m pip install --upgrade pip\n"
          ]
        },
        {
          "name": "stdout",
          "output_type": "stream",
          "text": [
            "Requirement already satisfied: statsmodels in c:\\users\\aman raghuvanshi\\appdata\\local\\programs\\python\\python311\\lib\\site-packages (0.14.1)\n",
            "Requirement already satisfied: numpy<2,>=1.18 in c:\\users\\aman raghuvanshi\\appdata\\local\\programs\\python\\python311\\lib\\site-packages (from statsmodels) (1.26.2)\n",
            "Requirement already satisfied: scipy!=1.9.2,>=1.4 in c:\\users\\aman raghuvanshi\\appdata\\local\\programs\\python\\python311\\lib\\site-packages (from statsmodels) (1.11.4)\n",
            "Requirement already satisfied: pandas!=2.1.0,>=1.0 in c:\\users\\aman raghuvanshi\\appdata\\local\\programs\\python\\python311\\lib\\site-packages (from statsmodels) (2.1.3)\n",
            "Requirement already satisfied: patsy>=0.5.4 in c:\\users\\aman raghuvanshi\\appdata\\local\\programs\\python\\python311\\lib\\site-packages (from statsmodels) (0.5.6)\n",
            "Requirement already satisfied: packaging>=21.3 in c:\\users\\aman raghuvanshi\\appdata\\local\\programs\\python\\python311\\lib\\site-packages (from statsmodels) (23.2)\n",
            "Requirement already satisfied: python-dateutil>=2.8.2 in c:\\users\\aman raghuvanshi\\appdata\\local\\programs\\python\\python311\\lib\\site-packages (from pandas!=2.1.0,>=1.0->statsmodels) (2.8.2)\n",
            "Requirement already satisfied: pytz>=2020.1 in c:\\users\\aman raghuvanshi\\appdata\\local\\programs\\python\\python311\\lib\\site-packages (from pandas!=2.1.0,>=1.0->statsmodels) (2023.3.post1)\n",
            "Requirement already satisfied: tzdata>=2022.1 in c:\\users\\aman raghuvanshi\\appdata\\local\\programs\\python\\python311\\lib\\site-packages (from pandas!=2.1.0,>=1.0->statsmodels) (2023.3)\n",
            "Requirement already satisfied: six in c:\\users\\aman raghuvanshi\\appdata\\local\\programs\\python\\python311\\lib\\site-packages (from patsy>=0.5.4->statsmodels) (1.16.0)\n"
          ]
        },
        {
          "name": "stderr",
          "output_type": "stream",
          "text": [
            "\n",
            "[notice] A new release of pip is available: 23.3.2 -> 24.0\n",
            "[notice] To update, run: python.exe -m pip install --upgrade pip\n"
          ]
        }
      ],
      "source": [
        "!pip install seaborn\n",
        "!pip install statsmodels"
      ]
    },
    {
      "cell_type": "markdown",
      "metadata": {
        "id": "v-dG0IjIPe-l"
      },
      "source": [
        "<hr>\n",
        "\n",
        "#**Step 1: Importing Libraries**\n",
        "\n",
        "<hr>"
      ]
    },
    {
      "cell_type": "code",
      "execution_count": 5,
      "metadata": {
        "colab": {
          "base_uri": "https://localhost:8080/",
          "height": 17
        },
        "id": "-KZtdSBSOZvl",
        "outputId": "cc04382c-60b2-4c56-f90d-f231f2f5ded1"
      },
      "outputs": [
        {
          "data": {
            "text/html": [
              "<style type='text/css'>\n",
              ".datatable table.frame { margin-bottom: 0; }\n",
              ".datatable table.frame thead { border-bottom: none; }\n",
              ".datatable table.frame tr.coltypes td {  color: #FFFFFF;  line-height: 6px;  padding: 0 0.5em;}\n",
              ".datatable .bool    { background: #DDDD99; }\n",
              ".datatable .object  { background: #565656; }\n",
              ".datatable .int     { background: #5D9E5D; }\n",
              ".datatable .float   { background: #4040CC; }\n",
              ".datatable .str     { background: #CC4040; }\n",
              ".datatable .time    { background: #40CC40; }\n",
              ".datatable .row_index {  background: var(--jp-border-color3);  border-right: 1px solid var(--jp-border-color0);  color: var(--jp-ui-font-color3);  font-size: 9px;}\n",
              ".datatable .frame tbody td { text-align: left; }\n",
              ".datatable .frame tr.coltypes .row_index {  background: var(--jp-border-color0);}\n",
              ".datatable th:nth-child(2) { padding-left: 12px; }\n",
              ".datatable .hellipsis {  color: var(--jp-cell-editor-border-color);}\n",
              ".datatable .vellipsis {  background: var(--jp-layout-color0);  color: var(--jp-cell-editor-border-color);}\n",
              ".datatable .na {  color: var(--jp-cell-editor-border-color);  font-size: 80%;}\n",
              ".datatable .sp {  opacity: 0.25;}\n",
              ".datatable .footer { font-size: 9px; }\n",
              ".datatable .frame_dimensions {  background: var(--jp-border-color3);  border-top: 1px solid var(--jp-border-color0);  color: var(--jp-ui-font-color3);  display: inline-block;  opacity: 0.6;  padding: 1px 10px 1px 5px;}\n",
              "</style>\n"
            ],
            "text/plain": [
              "<IPython.core.display.HTML object>"
            ]
          },
          "metadata": {},
          "output_type": "display_data"
        }
      ],
      "source": [
        "import numpy as np\n",
        "import pandas as pd\n",
        "import seaborn as sns\n",
        "import datatable as dt  # for a better data uploading\n",
        "import plotly.express as px\n",
        "import matplotlib.pyplot as plt\n",
        "import plotly.graph_objects as go\n",
        "from dask import dataframe as dd  # for better data uploading\n",
        "from statsmodels.tsa.arima.model import ARIMA\n",
        "from statsmodels.tsa.seasonal import seasonal_decompose"
      ]
    },
    {
      "cell_type": "markdown",
      "metadata": {
        "id": "f7dWWKGjPjve"
      },
      "source": [
        "<hr>\n",
        "\n",
        "#**Step 2: Data Loading**\n",
        "\n",
        "<hr>"
      ]
    },
    {
      "cell_type": "markdown",
      "metadata": {
        "id": "jmyvQeRhRNhX"
      },
      "source": [
        "**Data Loading using datatable**"
      ]
    },
    {
      "cell_type": "code",
      "execution_count": 6,
      "metadata": {
        "colab": {
          "base_uri": "https://localhost:8080/"
        },
        "id": "Ye-N6Gl3R73c",
        "outputId": "b1174750-c82c-44b3-e6a5-e18c7443a67b"
      },
      "outputs": [],
      "source": [
        "import datatable as dt\n",
        "file_loc = '../AdidasAnalysis/Adidas_US_Sales.csv'\n",
        "dt_df = dt.fread(file_loc)"
      ]
    },
    {
      "cell_type": "code",
      "execution_count": 7,
      "metadata": {
        "colab": {
          "base_uri": "https://localhost:8080/",
          "height": 1000
        },
        "id": "KCN6NinNT5z3",
        "outputId": "70472b76-20e4-4559-8ab1-2960acfe178a"
      },
      "outputs": [
        {
          "data": {
            "text/html": [
              "<div class='datatable'>\n",
              "  <table class='frame'>\n",
              "  <thead>\n",
              "    <tr class='colnames'><td class='row_index'></td><th>Retailer</th><th>Retailer ID</th><th>Invoice Date</th><th>Region</th><th>State</th><th>City</th><th>Product</th><th>Price per Unit</th><th>Units Sold</th><th>Total Sales</th><th>Operating Profit</th><th>Operating Margin</th><th>Sales Method</th></tr>\n",
              "    <tr class='coltypes'><td class='row_index'></td><td class='str' title='str32'>&#x25AA;&#x25AA;&#x25AA;&#x25AA;</td><td class='int' title='int32'>&#x25AA;&#x25AA;&#x25AA;&#x25AA;</td><td class='str' title='str32'>&#x25AA;&#x25AA;&#x25AA;&#x25AA;</td><td class='str' title='str32'>&#x25AA;&#x25AA;&#x25AA;&#x25AA;</td><td class='str' title='str32'>&#x25AA;&#x25AA;&#x25AA;&#x25AA;</td><td class='str' title='str32'>&#x25AA;&#x25AA;&#x25AA;&#x25AA;</td><td class='str' title='str32'>&#x25AA;&#x25AA;&#x25AA;&#x25AA;</td><td class='str' title='str32'>&#x25AA;&#x25AA;&#x25AA;&#x25AA;</td><td class='int' title='int32'>&#x25AA;&#x25AA;&#x25AA;&#x25AA;</td><td class='str' title='str32'>&#x25AA;&#x25AA;&#x25AA;&#x25AA;</td><td class='str' title='str32'>&#x25AA;&#x25AA;&#x25AA;&#x25AA;</td><td class='str' title='str32'>&#x25AA;&#x25AA;&#x25AA;&#x25AA;</td><td class='str' title='str32'>&#x25AA;&#x25AA;&#x25AA;&#x25AA;</td></tr>\n",
              "  </thead>\n",
              "  <tbody>\n",
              "    <tr><td class='row_index'>0</td><td>Foot Locker</td><td>1185732</td><td>01-01-2020</td><td>Northeast</td><td>New York</td><td>New York</td><td>Men's Street Footwear</td><td>$50.00</td><td>1200</td><td>$6,00,000 </td><td>$3,00,000 </td><td>50%</td><td>In-store</td></tr>\n",
              "    <tr><td class='row_index'>1</td><td>Foot Locker</td><td>1185732</td><td>02-01-2020</td><td>Northeast</td><td>New York</td><td>New York</td><td>Men's Athletic Footwear</td><td>$50.00</td><td>1000</td><td>$5,00,000 </td><td>$1,50,000 </td><td>30%</td><td>In-store</td></tr>\n",
              "    <tr><td class='row_index'>2</td><td>Foot Locker</td><td>1185732</td><td>03-01-2020</td><td>Northeast</td><td>New York</td><td>New York</td><td>Women's Street Footwear</td><td>$40.00</td><td>1000</td><td>$4,00,000 </td><td>$1,40,000 </td><td>35%</td><td>In-store</td></tr>\n",
              "    <tr><td class='row_index'>3</td><td>Foot Locker</td><td>1185732</td><td>04-01-2020</td><td>Northeast</td><td>New York</td><td>New York</td><td>Women's Athletic Footwear</td><td>$45.00</td><td>850</td><td>$3,82,500 </td><td>$1,33,875 </td><td>35%</td><td>In-store</td></tr>\n",
              "    <tr><td class='row_index'>4</td><td>Foot Locker</td><td>1185732</td><td>05-01-2020</td><td>Northeast</td><td>New York</td><td>New York</td><td>Men's Apparel</td><td>$60.00</td><td>900</td><td>$5,40,000 </td><td>$1,62,000 </td><td>30%</td><td>In-store</td></tr>\n",
              "    <tr><td class='row_index'>5</td><td>Foot Locker</td><td>1185732</td><td>06-01-2020</td><td>Northeast</td><td>New York</td><td>New York</td><td>Women's Apparel</td><td>$50.00</td><td>1000</td><td>$5,00,000 </td><td>$1,25,000 </td><td>25%</td><td>In-store</td></tr>\n",
              "    <tr><td class='row_index'>6</td><td>Foot Locker</td><td>1185732</td><td>07-01-2020</td><td>Northeast</td><td>New York</td><td>New York</td><td>Men's Street Footwear</td><td>$50.00</td><td>1250</td><td>$6,25,000 </td><td>$3,12,500 </td><td>50%</td><td>In-store</td></tr>\n",
              "    <tr><td class='row_index'>7</td><td>Foot Locker</td><td>1185732</td><td>08-01-2020</td><td>Northeast</td><td>New York</td><td>New York</td><td>Men's Athletic Footwear</td><td>$50.00</td><td>900</td><td>$4,50,000 </td><td>$1,35,000 </td><td>30%</td><td>Outlet</td></tr>\n",
              "    <tr><td class='row_index'>8</td><td>Foot Locker</td><td>1185732</td><td>21-01-2020</td><td>Northeast</td><td>New York</td><td>New York</td><td>Women's Street Footwear</td><td>$40.00</td><td>950</td><td>$3,80,000 </td><td>$1,33,000 </td><td>35%</td><td>Outlet</td></tr>\n",
              "    <tr><td class='row_index'>9</td><td>Foot Locker</td><td>1185732</td><td>22-01-2020</td><td>Northeast</td><td>New York</td><td>New York</td><td>Women's Athletic Footwear</td><td>$45.00</td><td>825</td><td>$3,71,250 </td><td>$1,29,938 </td><td>35%</td><td>Outlet</td></tr>\n",
              "    <tr><td class='row_index'>10</td><td>Foot Locker</td><td>1185732</td><td>23-01-2020</td><td>Northeast</td><td>New York</td><td>New York</td><td>Men's Apparel</td><td>$60.00</td><td>900</td><td>$5,40,000 </td><td>$1,62,000 </td><td>30%</td><td>Outlet</td></tr>\n",
              "    <tr><td class='row_index'>11</td><td>Foot Locker</td><td>1185732</td><td>24-01-2020</td><td>Northeast</td><td>New York</td><td>New York</td><td>Women's Apparel</td><td>$50.00</td><td>1000</td><td>$5,00,000 </td><td>$1,25,000 </td><td>25%</td><td>Outlet</td></tr>\n",
              "    <tr><td class='row_index'>12</td><td>Foot Locker</td><td>1185732</td><td>25-01-2020</td><td>Northeast</td><td>New York</td><td>New York</td><td>Men's Street Footwear</td><td>$50.00</td><td>1220</td><td>$6,10,000 </td><td>$3,05,000 </td><td>50%</td><td>Outlet</td></tr>\n",
              "    <tr><td class='row_index'>13</td><td>Foot Locker</td><td>1185732</td><td>26-01-2020</td><td>Northeast</td><td>New York</td><td>New York</td><td>Men's Athletic Footwear</td><td>$50.00</td><td>925</td><td>$4,62,500 </td><td>$1,38,750 </td><td>30%</td><td>Outlet</td></tr>\n",
              "    <tr><td class='row_index'>14</td><td>Foot Locker</td><td>1185732</td><td>27-01-2020</td><td>Northeast</td><td>New York</td><td>New York</td><td>Women's Street Footwear</td><td>$40.00</td><td>950</td><td>$3,80,000 </td><td>$1,33,000 </td><td>35%</td><td>Outlet</td></tr>\n",
              "    <tr><td class='row_index'>&#x22EE;</td><td class='hellipsis'>&#x22EE;</td><td class='hellipsis'>&#x22EE;</td><td class='hellipsis'>&#x22EE;</td><td class='hellipsis'>&#x22EE;</td><td class='hellipsis'>&#x22EE;</td><td class='hellipsis'>&#x22EE;</td><td class='hellipsis'>&#x22EE;</td><td class='hellipsis'>&#x22EE;</td><td class='hellipsis'>&#x22EE;</td><td class='hellipsis'>&#x22EE;</td><td class='hellipsis'>&#x22EE;</td><td class='hellipsis'>&#x22EE;</td><td class='hellipsis'>&#x22EE;</td></tr>\n",
              "    <tr><td class='row_index'>9643</td><td>Foot Locker</td><td>1185732</td><td>24-01-2021</td><td>Northeast</td><td>New Hampshire</td><td>Manchester</td><td>Men's Apparel</td><td>$50.00</td><td>64</td><td>$3,200 </td><td>$896</td><td>28%</td><td>Outlet</td></tr>\n",
              "    <tr><td class='row_index'>9644</td><td>Foot Locker</td><td>1185732</td><td>24-01-2021</td><td>Northeast</td><td>New Hampshire</td><td>Manchester</td><td>Women's Apparel</td><td>$41.00</td><td>105</td><td>$4,305 </td><td>$1,378 </td><td>32%</td><td>Outlet</td></tr>\n",
              "    <tr><td class='row_index'>9645</td><td>Foot Locker</td><td>1185732</td><td>22-02-2021</td><td>Northeast</td><td>New Hampshire</td><td>Manchester</td><td>Men's Street Footwear</td><td>$41.00</td><td>184</td><td>$7,544 </td><td>$2,791 </td><td>37%</td><td>Outlet</td></tr>\n",
              "    <tr><td class='row_index'>9646</td><td>Foot Locker</td><td>1185732</td><td>22-02-2021</td><td>Northeast</td><td>New Hampshire</td><td>Manchester</td><td>Men's Athletic Footwear</td><td>$42.00</td><td>70</td><td>$2,940 </td><td>$1,235 </td><td>42%</td><td>Outlet</td></tr>\n",
              "    <tr><td class='row_index'>9647</td><td>Foot Locker</td><td>1185732</td><td>22-02-2021</td><td>Northeast</td><td>New Hampshire</td><td>Manchester</td><td>Women's Street Footwear</td><td>$29.00</td><td>83</td><td>$2,407 </td><td>$650</td><td>27%</td><td>Outlet</td></tr>\n",
              "  </tbody>\n",
              "  </table>\n",
              "  <div class='footer'>\n",
              "    <div class='frame_dimensions'>9648 rows &times; 13 columns</div>\n",
              "  </div>\n",
              "</div>\n"
            ],
            "text/plain": [
              "<Frame#1a1b3d410e0 9648x13>"
            ]
          },
          "execution_count": 7,
          "metadata": {},
          "output_type": "execute_result"
        }
      ],
      "source": [
        "dt_df"
      ]
    },
    {
      "cell_type": "markdown",
      "metadata": {
        "id": "yRKcmftvUsWa"
      },
      "source": [
        "Here we are using the datatable for the analysis, since it's faster than normal pandas"
      ]
    },
    {
      "cell_type": "code",
      "execution_count": 8,
      "metadata": {
        "colab": {
          "base_uri": "https://localhost:8080/",
          "height": 653
        },
        "id": "tEScdhPzUAde",
        "outputId": "2e4a80e2-9ff9-4189-cf7b-d04453dd2599"
      },
      "outputs": [
        {
          "data": {
            "text/html": [
              "<div class='datatable'>\n",
              "  <table class='frame'>\n",
              "  <thead>\n",
              "    <tr class='colnames'><td class='row_index'></td><th>Retailer</th><th>Retailer ID</th><th>Invoice Date</th><th>Region</th><th>State</th><th>City</th><th>Product</th><th>Price per Unit</th><th>Units Sold</th><th>Total Sales</th><th>Operating Profit</th><th>Operating Margin</th><th>Sales Method</th></tr>\n",
              "    <tr class='coltypes'><td class='row_index'></td><td class='str' title='str32'>&#x25AA;&#x25AA;&#x25AA;&#x25AA;</td><td class='int' title='int32'>&#x25AA;&#x25AA;&#x25AA;&#x25AA;</td><td class='str' title='str32'>&#x25AA;&#x25AA;&#x25AA;&#x25AA;</td><td class='str' title='str32'>&#x25AA;&#x25AA;&#x25AA;&#x25AA;</td><td class='str' title='str32'>&#x25AA;&#x25AA;&#x25AA;&#x25AA;</td><td class='str' title='str32'>&#x25AA;&#x25AA;&#x25AA;&#x25AA;</td><td class='str' title='str32'>&#x25AA;&#x25AA;&#x25AA;&#x25AA;</td><td class='str' title='str32'>&#x25AA;&#x25AA;&#x25AA;&#x25AA;</td><td class='int' title='int32'>&#x25AA;&#x25AA;&#x25AA;&#x25AA;</td><td class='str' title='str32'>&#x25AA;&#x25AA;&#x25AA;&#x25AA;</td><td class='str' title='str32'>&#x25AA;&#x25AA;&#x25AA;&#x25AA;</td><td class='str' title='str32'>&#x25AA;&#x25AA;&#x25AA;&#x25AA;</td><td class='str' title='str32'>&#x25AA;&#x25AA;&#x25AA;&#x25AA;</td></tr>\n",
              "  </thead>\n",
              "  <tbody>\n",
              "    <tr><td class='row_index'>0</td><td>Foot Locker</td><td>1185732</td><td>01-01-2020</td><td>Northeast</td><td>New York</td><td>New York</td><td>Men's Street Footwear</td><td>$50.00</td><td>1200</td><td>$6,00,000 </td><td>$3,00,000 </td><td>50%</td><td>In-store</td></tr>\n",
              "    <tr><td class='row_index'>1</td><td>Foot Locker</td><td>1185732</td><td>02-01-2020</td><td>Northeast</td><td>New York</td><td>New York</td><td>Men's Athletic Footwear</td><td>$50.00</td><td>1000</td><td>$5,00,000 </td><td>$1,50,000 </td><td>30%</td><td>In-store</td></tr>\n",
              "    <tr><td class='row_index'>2</td><td>Foot Locker</td><td>1185732</td><td>03-01-2020</td><td>Northeast</td><td>New York</td><td>New York</td><td>Women's Street Footwear</td><td>$40.00</td><td>1000</td><td>$4,00,000 </td><td>$1,40,000 </td><td>35%</td><td>In-store</td></tr>\n",
              "    <tr><td class='row_index'>3</td><td>Foot Locker</td><td>1185732</td><td>04-01-2020</td><td>Northeast</td><td>New York</td><td>New York</td><td>Women's Athletic Footwear</td><td>$45.00</td><td>850</td><td>$3,82,500 </td><td>$1,33,875 </td><td>35%</td><td>In-store</td></tr>\n",
              "    <tr><td class='row_index'>4</td><td>Foot Locker</td><td>1185732</td><td>05-01-2020</td><td>Northeast</td><td>New York</td><td>New York</td><td>Men's Apparel</td><td>$60.00</td><td>900</td><td>$5,40,000 </td><td>$1,62,000 </td><td>30%</td><td>In-store</td></tr>\n",
              "    <tr><td class='row_index'>5</td><td>Foot Locker</td><td>1185732</td><td>06-01-2020</td><td>Northeast</td><td>New York</td><td>New York</td><td>Women's Apparel</td><td>$50.00</td><td>1000</td><td>$5,00,000 </td><td>$1,25,000 </td><td>25%</td><td>In-store</td></tr>\n",
              "    <tr><td class='row_index'>6</td><td>Foot Locker</td><td>1185732</td><td>07-01-2020</td><td>Northeast</td><td>New York</td><td>New York</td><td>Men's Street Footwear</td><td>$50.00</td><td>1250</td><td>$6,25,000 </td><td>$3,12,500 </td><td>50%</td><td>In-store</td></tr>\n",
              "    <tr><td class='row_index'>7</td><td>Foot Locker</td><td>1185732</td><td>08-01-2020</td><td>Northeast</td><td>New York</td><td>New York</td><td>Men's Athletic Footwear</td><td>$50.00</td><td>900</td><td>$4,50,000 </td><td>$1,35,000 </td><td>30%</td><td>Outlet</td></tr>\n",
              "    <tr><td class='row_index'>8</td><td>Foot Locker</td><td>1185732</td><td>21-01-2020</td><td>Northeast</td><td>New York</td><td>New York</td><td>Women's Street Footwear</td><td>$40.00</td><td>950</td><td>$3,80,000 </td><td>$1,33,000 </td><td>35%</td><td>Outlet</td></tr>\n",
              "    <tr><td class='row_index'>9</td><td>Foot Locker</td><td>1185732</td><td>22-01-2020</td><td>Northeast</td><td>New York</td><td>New York</td><td>Women's Athletic Footwear</td><td>$45.00</td><td>825</td><td>$3,71,250 </td><td>$1,29,938 </td><td>35%</td><td>Outlet</td></tr>\n",
              "  </tbody>\n",
              "  </table>\n",
              "  <div class='footer'>\n",
              "    <div class='frame_dimensions'>10 rows &times; 13 columns</div>\n",
              "  </div>\n",
              "</div>\n"
            ],
            "text/plain": [
              "<Frame#1a1b3d41320 10x13>"
            ]
          },
          "execution_count": 8,
          "metadata": {},
          "output_type": "execute_result"
        }
      ],
      "source": [
        "dt_df.head()"
      ]
    },
    {
      "cell_type": "code",
      "execution_count": 9,
      "metadata": {
        "id": "AvZ3yEWnV1wJ"
      },
      "outputs": [],
      "source": [
        "# converting the datatable into pandas DataFrame\n",
        "df = dt_df.to_pandas()"
      ]
    },
    {
      "cell_type": "code",
      "execution_count": 10,
      "metadata": {
        "colab": {
          "base_uri": "https://localhost:8080/"
        },
        "id": "iybHriVnUzB2",
        "outputId": "256ae0af-4a8e-409e-8d76-cb1b95a264a8"
      },
      "outputs": [
        {
          "data": {
            "text/plain": [
              "(9648, 13)"
            ]
          },
          "execution_count": 10,
          "metadata": {},
          "output_type": "execute_result"
        }
      ],
      "source": [
        "df.shape"
      ]
    },
    {
      "cell_type": "markdown",
      "metadata": {
        "id": "aBaPMY3lVfc6"
      },
      "source": [
        "<hr>\n",
        "\n",
        "#**Step 3: Exploratory Data Analysis**\n",
        "\n",
        "<hr>"
      ]
    },
    {
      "cell_type": "code",
      "execution_count": 11,
      "metadata": {
        "colab": {
          "base_uri": "https://localhost:8080/"
        },
        "id": "7IyKWj0kU1eZ",
        "outputId": "2be2f3d8-097a-45d2-ac98-86424686dd62"
      },
      "outputs": [
        {
          "data": {
            "text/plain": [
              "(9648, 13)"
            ]
          },
          "execution_count": 11,
          "metadata": {},
          "output_type": "execute_result"
        }
      ],
      "source": [
        "df.shape"
      ]
    },
    {
      "cell_type": "markdown",
      "metadata": {
        "id": "wDu16_k_Vl-T"
      },
      "source": [
        "In total we are having 9648 sales records, with distribution across the 13 different columns"
      ]
    },
    {
      "cell_type": "markdown",
      "metadata": {
        "id": "23A5jkcBWfU8"
      },
      "source": [
        "<hr>\n",
        "\n",
        "**Data Description**"
      ]
    },
    {
      "cell_type": "code",
      "execution_count": 12,
      "metadata": {
        "colab": {
          "base_uri": "https://localhost:8080/"
        },
        "id": "Ku_p5SgjVlP5",
        "outputId": "2d8c99e2-f646-4df1-d6e7-cab2c7563ece"
      },
      "outputs": [
        {
          "name": "stdout",
          "output_type": "stream",
          "text": [
            "<class 'pandas.core.frame.DataFrame'>\n",
            "RangeIndex: 9648 entries, 0 to 9647\n",
            "Data columns (total 13 columns):\n",
            " #   Column            Non-Null Count  Dtype \n",
            "---  ------            --------------  ----- \n",
            " 0   Retailer          9648 non-null   object\n",
            " 1   Retailer ID       9648 non-null   int32 \n",
            " 2   Invoice Date      9648 non-null   object\n",
            " 3   Region            9648 non-null   object\n",
            " 4   State             9648 non-null   object\n",
            " 5   City              9648 non-null   object\n",
            " 6   Product           9648 non-null   object\n",
            " 7   Price per Unit    9648 non-null   object\n",
            " 8   Units Sold        9648 non-null   int32 \n",
            " 9   Total Sales       9648 non-null   object\n",
            " 10  Operating Profit  9648 non-null   object\n",
            " 11  Operating Margin  9648 non-null   object\n",
            " 12  Sales Method      9648 non-null   object\n",
            "dtypes: int32(2), object(11)\n",
            "memory usage: 904.6+ KB\n"
          ]
        }
      ],
      "source": [
        "df.info()"
      ]
    },
    {
      "cell_type": "markdown",
      "metadata": {
        "id": "C39HjqeoWP_T"
      },
      "source": [
        "Insights:\n",
        "1. Invoice Data is in the format of object, we can change it to the datetime object for better clarity\n",
        "\n",
        "<hr>"
      ]
    },
    {
      "cell_type": "markdown",
      "metadata": {
        "id": "KRC9fhu-WJRn"
      },
      "source": [
        "<hr>\n",
        "\n",
        "**A check for the null values**"
      ]
    },
    {
      "cell_type": "code",
      "execution_count": 13,
      "metadata": {
        "colab": {
          "base_uri": "https://localhost:8080/"
        },
        "id": "yuX0qQ-AVu0Y",
        "outputId": "4213e042-6c4d-4bc0-9dba-496831c633bf"
      },
      "outputs": [
        {
          "data": {
            "text/plain": [
              "Retailer            0\n",
              "Retailer ID         0\n",
              "Invoice Date        0\n",
              "Region              0\n",
              "State               0\n",
              "City                0\n",
              "Product             0\n",
              "Price per Unit      0\n",
              "Units Sold          0\n",
              "Total Sales         0\n",
              "Operating Profit    0\n",
              "Operating Margin    0\n",
              "Sales Method        0\n",
              "dtype: int64"
            ]
          },
          "execution_count": 13,
          "metadata": {},
          "output_type": "execute_result"
        }
      ],
      "source": [
        "df.isnull().sum()"
      ]
    },
    {
      "cell_type": "markdown",
      "metadata": {
        "id": "7iH_cLrtWYWF"
      },
      "source": [
        "No null values detected\n",
        "\n",
        "<hr>"
      ]
    },
    {
      "cell_type": "markdown",
      "metadata": {
        "id": "vOkudfDNWsDR"
      },
      "source": [
        "<hr>\n",
        "\n",
        "#**Step 4: Data Inspection Phase**\n"
      ]
    },
    {
      "cell_type": "code",
      "execution_count": 14,
      "metadata": {
        "colab": {
          "base_uri": "https://localhost:8080/",
          "height": 417
        },
        "id": "noq71VJaWMyi",
        "outputId": "00593774-877f-4bca-a9ac-7cf71a80a42b"
      },
      "outputs": [
        {
          "data": {
            "text/html": [
              "<div>\n",
              "<style scoped>\n",
              "    .dataframe tbody tr th:only-of-type {\n",
              "        vertical-align: middle;\n",
              "    }\n",
              "\n",
              "    .dataframe tbody tr th {\n",
              "        vertical-align: top;\n",
              "    }\n",
              "\n",
              "    .dataframe thead th {\n",
              "        text-align: right;\n",
              "    }\n",
              "</style>\n",
              "<table border=\"1\" class=\"dataframe\">\n",
              "  <thead>\n",
              "    <tr style=\"text-align: right;\">\n",
              "      <th></th>\n",
              "      <th>Retailer</th>\n",
              "      <th>Retailer ID</th>\n",
              "      <th>Invoice Date</th>\n",
              "      <th>Region</th>\n",
              "      <th>State</th>\n",
              "      <th>City</th>\n",
              "      <th>Product</th>\n",
              "      <th>Price per Unit</th>\n",
              "      <th>Units Sold</th>\n",
              "      <th>Total Sales</th>\n",
              "      <th>Operating Profit</th>\n",
              "      <th>Operating Margin</th>\n",
              "      <th>Sales Method</th>\n",
              "    </tr>\n",
              "  </thead>\n",
              "  <tbody>\n",
              "    <tr>\n",
              "      <th>0</th>\n",
              "      <td>Foot Locker</td>\n",
              "      <td>1185732</td>\n",
              "      <td>01-01-2020</td>\n",
              "      <td>Northeast</td>\n",
              "      <td>New York</td>\n",
              "      <td>New York</td>\n",
              "      <td>Men's Street Footwear</td>\n",
              "      <td>$50.00</td>\n",
              "      <td>1200</td>\n",
              "      <td>$6,00,000</td>\n",
              "      <td>$3,00,000</td>\n",
              "      <td>50%</td>\n",
              "      <td>In-store</td>\n",
              "    </tr>\n",
              "    <tr>\n",
              "      <th>1</th>\n",
              "      <td>Foot Locker</td>\n",
              "      <td>1185732</td>\n",
              "      <td>02-01-2020</td>\n",
              "      <td>Northeast</td>\n",
              "      <td>New York</td>\n",
              "      <td>New York</td>\n",
              "      <td>Men's Athletic Footwear</td>\n",
              "      <td>$50.00</td>\n",
              "      <td>1000</td>\n",
              "      <td>$5,00,000</td>\n",
              "      <td>$1,50,000</td>\n",
              "      <td>30%</td>\n",
              "      <td>In-store</td>\n",
              "    </tr>\n",
              "    <tr>\n",
              "      <th>2</th>\n",
              "      <td>Foot Locker</td>\n",
              "      <td>1185732</td>\n",
              "      <td>03-01-2020</td>\n",
              "      <td>Northeast</td>\n",
              "      <td>New York</td>\n",
              "      <td>New York</td>\n",
              "      <td>Women's Street Footwear</td>\n",
              "      <td>$40.00</td>\n",
              "      <td>1000</td>\n",
              "      <td>$4,00,000</td>\n",
              "      <td>$1,40,000</td>\n",
              "      <td>35%</td>\n",
              "      <td>In-store</td>\n",
              "    </tr>\n",
              "    <tr>\n",
              "      <th>3</th>\n",
              "      <td>Foot Locker</td>\n",
              "      <td>1185732</td>\n",
              "      <td>04-01-2020</td>\n",
              "      <td>Northeast</td>\n",
              "      <td>New York</td>\n",
              "      <td>New York</td>\n",
              "      <td>Women's Athletic Footwear</td>\n",
              "      <td>$45.00</td>\n",
              "      <td>850</td>\n",
              "      <td>$3,82,500</td>\n",
              "      <td>$1,33,875</td>\n",
              "      <td>35%</td>\n",
              "      <td>In-store</td>\n",
              "    </tr>\n",
              "    <tr>\n",
              "      <th>4</th>\n",
              "      <td>Foot Locker</td>\n",
              "      <td>1185732</td>\n",
              "      <td>05-01-2020</td>\n",
              "      <td>Northeast</td>\n",
              "      <td>New York</td>\n",
              "      <td>New York</td>\n",
              "      <td>Men's Apparel</td>\n",
              "      <td>$60.00</td>\n",
              "      <td>900</td>\n",
              "      <td>$5,40,000</td>\n",
              "      <td>$1,62,000</td>\n",
              "      <td>30%</td>\n",
              "      <td>In-store</td>\n",
              "    </tr>\n",
              "  </tbody>\n",
              "</table>\n",
              "</div>"
            ],
            "text/plain": [
              "      Retailer  Retailer ID Invoice Date     Region     State      City  \\\n",
              "0  Foot Locker      1185732   01-01-2020  Northeast  New York  New York   \n",
              "1  Foot Locker      1185732   02-01-2020  Northeast  New York  New York   \n",
              "2  Foot Locker      1185732   03-01-2020  Northeast  New York  New York   \n",
              "3  Foot Locker      1185732   04-01-2020  Northeast  New York  New York   \n",
              "4  Foot Locker      1185732   05-01-2020  Northeast  New York  New York   \n",
              "\n",
              "                     Product Price per Unit  Units Sold Total Sales  \\\n",
              "0      Men's Street Footwear         $50.00        1200  $6,00,000    \n",
              "1    Men's Athletic Footwear         $50.00        1000  $5,00,000    \n",
              "2    Women's Street Footwear         $40.00        1000  $4,00,000    \n",
              "3  Women's Athletic Footwear         $45.00         850  $3,82,500    \n",
              "4              Men's Apparel         $60.00         900  $5,40,000    \n",
              "\n",
              "  Operating Profit Operating Margin Sales Method  \n",
              "0       $3,00,000               50%     In-store  \n",
              "1       $1,50,000               30%     In-store  \n",
              "2       $1,40,000               35%     In-store  \n",
              "3       $1,33,875               35%     In-store  \n",
              "4       $1,62,000               30%     In-store  "
            ]
          },
          "execution_count": 14,
          "metadata": {},
          "output_type": "execute_result"
        }
      ],
      "source": [
        "df.head()"
      ]
    },
    {
      "cell_type": "code",
      "execution_count": 15,
      "metadata": {
        "colab": {
          "base_uri": "https://localhost:8080/",
          "height": 399
        },
        "id": "-_j7XUYVWzd7",
        "outputId": "7b04571d-8fa1-49c8-dec7-8121a671085f"
      },
      "outputs": [
        {
          "data": {
            "text/html": [
              "<div>\n",
              "<style scoped>\n",
              "    .dataframe tbody tr th:only-of-type {\n",
              "        vertical-align: middle;\n",
              "    }\n",
              "\n",
              "    .dataframe tbody tr th {\n",
              "        vertical-align: top;\n",
              "    }\n",
              "\n",
              "    .dataframe thead th {\n",
              "        text-align: right;\n",
              "    }\n",
              "</style>\n",
              "<table border=\"1\" class=\"dataframe\">\n",
              "  <thead>\n",
              "    <tr style=\"text-align: right;\">\n",
              "      <th></th>\n",
              "      <th>Retailer</th>\n",
              "      <th>Retailer ID</th>\n",
              "      <th>Invoice Date</th>\n",
              "      <th>Region</th>\n",
              "      <th>State</th>\n",
              "      <th>City</th>\n",
              "      <th>Product</th>\n",
              "      <th>Price per Unit</th>\n",
              "      <th>Units Sold</th>\n",
              "      <th>Total Sales</th>\n",
              "      <th>Operating Profit</th>\n",
              "      <th>Operating Margin</th>\n",
              "      <th>Sales Method</th>\n",
              "    </tr>\n",
              "  </thead>\n",
              "  <tbody>\n",
              "    <tr>\n",
              "      <th>9643</th>\n",
              "      <td>Foot Locker</td>\n",
              "      <td>1185732</td>\n",
              "      <td>24-01-2021</td>\n",
              "      <td>Northeast</td>\n",
              "      <td>New Hampshire</td>\n",
              "      <td>Manchester</td>\n",
              "      <td>Men's Apparel</td>\n",
              "      <td>$50.00</td>\n",
              "      <td>64</td>\n",
              "      <td>$3,200</td>\n",
              "      <td>$896</td>\n",
              "      <td>28%</td>\n",
              "      <td>Outlet</td>\n",
              "    </tr>\n",
              "    <tr>\n",
              "      <th>9644</th>\n",
              "      <td>Foot Locker</td>\n",
              "      <td>1185732</td>\n",
              "      <td>24-01-2021</td>\n",
              "      <td>Northeast</td>\n",
              "      <td>New Hampshire</td>\n",
              "      <td>Manchester</td>\n",
              "      <td>Women's Apparel</td>\n",
              "      <td>$41.00</td>\n",
              "      <td>105</td>\n",
              "      <td>$4,305</td>\n",
              "      <td>$1,378</td>\n",
              "      <td>32%</td>\n",
              "      <td>Outlet</td>\n",
              "    </tr>\n",
              "    <tr>\n",
              "      <th>9645</th>\n",
              "      <td>Foot Locker</td>\n",
              "      <td>1185732</td>\n",
              "      <td>22-02-2021</td>\n",
              "      <td>Northeast</td>\n",
              "      <td>New Hampshire</td>\n",
              "      <td>Manchester</td>\n",
              "      <td>Men's Street Footwear</td>\n",
              "      <td>$41.00</td>\n",
              "      <td>184</td>\n",
              "      <td>$7,544</td>\n",
              "      <td>$2,791</td>\n",
              "      <td>37%</td>\n",
              "      <td>Outlet</td>\n",
              "    </tr>\n",
              "    <tr>\n",
              "      <th>9646</th>\n",
              "      <td>Foot Locker</td>\n",
              "      <td>1185732</td>\n",
              "      <td>22-02-2021</td>\n",
              "      <td>Northeast</td>\n",
              "      <td>New Hampshire</td>\n",
              "      <td>Manchester</td>\n",
              "      <td>Men's Athletic Footwear</td>\n",
              "      <td>$42.00</td>\n",
              "      <td>70</td>\n",
              "      <td>$2,940</td>\n",
              "      <td>$1,235</td>\n",
              "      <td>42%</td>\n",
              "      <td>Outlet</td>\n",
              "    </tr>\n",
              "    <tr>\n",
              "      <th>9647</th>\n",
              "      <td>Foot Locker</td>\n",
              "      <td>1185732</td>\n",
              "      <td>22-02-2021</td>\n",
              "      <td>Northeast</td>\n",
              "      <td>New Hampshire</td>\n",
              "      <td>Manchester</td>\n",
              "      <td>Women's Street Footwear</td>\n",
              "      <td>$29.00</td>\n",
              "      <td>83</td>\n",
              "      <td>$2,407</td>\n",
              "      <td>$650</td>\n",
              "      <td>27%</td>\n",
              "      <td>Outlet</td>\n",
              "    </tr>\n",
              "  </tbody>\n",
              "</table>\n",
              "</div>"
            ],
            "text/plain": [
              "         Retailer  Retailer ID Invoice Date     Region          State  \\\n",
              "9643  Foot Locker      1185732   24-01-2021  Northeast  New Hampshire   \n",
              "9644  Foot Locker      1185732   24-01-2021  Northeast  New Hampshire   \n",
              "9645  Foot Locker      1185732   22-02-2021  Northeast  New Hampshire   \n",
              "9646  Foot Locker      1185732   22-02-2021  Northeast  New Hampshire   \n",
              "9647  Foot Locker      1185732   22-02-2021  Northeast  New Hampshire   \n",
              "\n",
              "            City                  Product Price per Unit  Units Sold  \\\n",
              "9643  Manchester            Men's Apparel         $50.00          64   \n",
              "9644  Manchester          Women's Apparel         $41.00         105   \n",
              "9645  Manchester    Men's Street Footwear         $41.00         184   \n",
              "9646  Manchester  Men's Athletic Footwear         $42.00          70   \n",
              "9647  Manchester  Women's Street Footwear         $29.00          83   \n",
              "\n",
              "     Total Sales Operating Profit Operating Margin Sales Method  \n",
              "9643     $3,200              $896              28%       Outlet  \n",
              "9644     $4,305           $1,378               32%       Outlet  \n",
              "9645     $7,544           $2,791               37%       Outlet  \n",
              "9646     $2,940           $1,235               42%       Outlet  \n",
              "9647     $2,407              $650              27%       Outlet  "
            ]
          },
          "execution_count": 15,
          "metadata": {},
          "output_type": "execute_result"
        }
      ],
      "source": [
        "df.tail()"
      ]
    },
    {
      "cell_type": "markdown",
      "metadata": {
        "id": "3WB41b8NW4Nt"
      },
      "source": [
        "Insights:\n",
        "1. Retailer, Region, State, City, Product, Sales Method are having the ordinal category values\n",
        "\n",
        "2. Retailer ID can be the unique value column\n",
        "\n",
        "3. Operating Margin can be useful\n",
        "\n",
        "4. There are some characters in the numerical values, so we need to seperate them as well\n",
        "\n",
        "<hr>"
      ]
    },
    {
      "cell_type": "markdown",
      "metadata": {
        "id": "bfOvpUmXXbKB"
      },
      "source": [
        "<hr>\n",
        "\n",
        "**Working with the insights**"
      ]
    },
    {
      "cell_type": "code",
      "execution_count": 16,
      "metadata": {
        "id": "MPH7HpkNW3ng"
      },
      "outputs": [],
      "source": [
        "# seperating the extra characters from the numerical columns\n",
        "\n",
        "df['Total Sales'] = df['Total Sales'].astype(str).str.replace(r'[$, ]', '', regex=True).astype(float)\n",
        "df['Units Sold'] = df['Units Sold'].astype(str).str.replace(r'[$, ]', '', regex=True).astype(float)\n",
        "df['Operating Profit'] = df['Operating Profit'].astype(str).str.replace(r'[$, ]', '', regex=True).astype(float)\n",
        "df['Operating Margin'] = df['Operating Margin'].astype(str).str.replace(r'[%, ]', '', regex=True).astype(float)"
      ]
    },
    {
      "cell_type": "code",
      "execution_count": 17,
      "metadata": {
        "colab": {
          "base_uri": "https://localhost:8080/",
          "height": 417
        },
        "id": "t1mMJv9vYQct",
        "outputId": "515ff104-e661-4e44-fcd0-7b9ea3a15fd1"
      },
      "outputs": [
        {
          "data": {
            "text/html": [
              "<div>\n",
              "<style scoped>\n",
              "    .dataframe tbody tr th:only-of-type {\n",
              "        vertical-align: middle;\n",
              "    }\n",
              "\n",
              "    .dataframe tbody tr th {\n",
              "        vertical-align: top;\n",
              "    }\n",
              "\n",
              "    .dataframe thead th {\n",
              "        text-align: right;\n",
              "    }\n",
              "</style>\n",
              "<table border=\"1\" class=\"dataframe\">\n",
              "  <thead>\n",
              "    <tr style=\"text-align: right;\">\n",
              "      <th></th>\n",
              "      <th>Retailer</th>\n",
              "      <th>Retailer ID</th>\n",
              "      <th>Invoice Date</th>\n",
              "      <th>Region</th>\n",
              "      <th>State</th>\n",
              "      <th>City</th>\n",
              "      <th>Product</th>\n",
              "      <th>Price per Unit</th>\n",
              "      <th>Units Sold</th>\n",
              "      <th>Total Sales</th>\n",
              "      <th>Operating Profit</th>\n",
              "      <th>Operating Margin</th>\n",
              "      <th>Sales Method</th>\n",
              "    </tr>\n",
              "  </thead>\n",
              "  <tbody>\n",
              "    <tr>\n",
              "      <th>0</th>\n",
              "      <td>Foot Locker</td>\n",
              "      <td>1185732</td>\n",
              "      <td>01-01-2020</td>\n",
              "      <td>Northeast</td>\n",
              "      <td>New York</td>\n",
              "      <td>New York</td>\n",
              "      <td>Men's Street Footwear</td>\n",
              "      <td>$50.00</td>\n",
              "      <td>1200.0</td>\n",
              "      <td>600000.0</td>\n",
              "      <td>300000.0</td>\n",
              "      <td>50.0</td>\n",
              "      <td>In-store</td>\n",
              "    </tr>\n",
              "    <tr>\n",
              "      <th>1</th>\n",
              "      <td>Foot Locker</td>\n",
              "      <td>1185732</td>\n",
              "      <td>02-01-2020</td>\n",
              "      <td>Northeast</td>\n",
              "      <td>New York</td>\n",
              "      <td>New York</td>\n",
              "      <td>Men's Athletic Footwear</td>\n",
              "      <td>$50.00</td>\n",
              "      <td>1000.0</td>\n",
              "      <td>500000.0</td>\n",
              "      <td>150000.0</td>\n",
              "      <td>30.0</td>\n",
              "      <td>In-store</td>\n",
              "    </tr>\n",
              "    <tr>\n",
              "      <th>2</th>\n",
              "      <td>Foot Locker</td>\n",
              "      <td>1185732</td>\n",
              "      <td>03-01-2020</td>\n",
              "      <td>Northeast</td>\n",
              "      <td>New York</td>\n",
              "      <td>New York</td>\n",
              "      <td>Women's Street Footwear</td>\n",
              "      <td>$40.00</td>\n",
              "      <td>1000.0</td>\n",
              "      <td>400000.0</td>\n",
              "      <td>140000.0</td>\n",
              "      <td>35.0</td>\n",
              "      <td>In-store</td>\n",
              "    </tr>\n",
              "    <tr>\n",
              "      <th>3</th>\n",
              "      <td>Foot Locker</td>\n",
              "      <td>1185732</td>\n",
              "      <td>04-01-2020</td>\n",
              "      <td>Northeast</td>\n",
              "      <td>New York</td>\n",
              "      <td>New York</td>\n",
              "      <td>Women's Athletic Footwear</td>\n",
              "      <td>$45.00</td>\n",
              "      <td>850.0</td>\n",
              "      <td>382500.0</td>\n",
              "      <td>133875.0</td>\n",
              "      <td>35.0</td>\n",
              "      <td>In-store</td>\n",
              "    </tr>\n",
              "    <tr>\n",
              "      <th>4</th>\n",
              "      <td>Foot Locker</td>\n",
              "      <td>1185732</td>\n",
              "      <td>05-01-2020</td>\n",
              "      <td>Northeast</td>\n",
              "      <td>New York</td>\n",
              "      <td>New York</td>\n",
              "      <td>Men's Apparel</td>\n",
              "      <td>$60.00</td>\n",
              "      <td>900.0</td>\n",
              "      <td>540000.0</td>\n",
              "      <td>162000.0</td>\n",
              "      <td>30.0</td>\n",
              "      <td>In-store</td>\n",
              "    </tr>\n",
              "  </tbody>\n",
              "</table>\n",
              "</div>"
            ],
            "text/plain": [
              "      Retailer  Retailer ID Invoice Date     Region     State      City  \\\n",
              "0  Foot Locker      1185732   01-01-2020  Northeast  New York  New York   \n",
              "1  Foot Locker      1185732   02-01-2020  Northeast  New York  New York   \n",
              "2  Foot Locker      1185732   03-01-2020  Northeast  New York  New York   \n",
              "3  Foot Locker      1185732   04-01-2020  Northeast  New York  New York   \n",
              "4  Foot Locker      1185732   05-01-2020  Northeast  New York  New York   \n",
              "\n",
              "                     Product Price per Unit  Units Sold  Total Sales  \\\n",
              "0      Men's Street Footwear         $50.00      1200.0     600000.0   \n",
              "1    Men's Athletic Footwear         $50.00      1000.0     500000.0   \n",
              "2    Women's Street Footwear         $40.00      1000.0     400000.0   \n",
              "3  Women's Athletic Footwear         $45.00       850.0     382500.0   \n",
              "4              Men's Apparel         $60.00       900.0     540000.0   \n",
              "\n",
              "   Operating Profit  Operating Margin Sales Method  \n",
              "0          300000.0              50.0     In-store  \n",
              "1          150000.0              30.0     In-store  \n",
              "2          140000.0              35.0     In-store  \n",
              "3          133875.0              35.0     In-store  \n",
              "4          162000.0              30.0     In-store  "
            ]
          },
          "execution_count": 17,
          "metadata": {},
          "output_type": "execute_result"
        }
      ],
      "source": [
        "df.head()"
      ]
    },
    {
      "cell_type": "code",
      "execution_count": 18,
      "metadata": {
        "colab": {
          "base_uri": "https://localhost:8080/"
        },
        "id": "Yv2o2nFrYXvj",
        "outputId": "55812c5f-3271-424d-8b2a-448a1559dfd7"
      },
      "outputs": [],
      "source": [
        "# converting the date to datetime object\n",
        "df['Invoice Date'] = pd.to_datetime(df['Invoice Date'], format='%d-%m-%Y')\n",
        "\n"
      ]
    },
    {
      "cell_type": "code",
      "execution_count": 19,
      "metadata": {
        "colab": {
          "base_uri": "https://localhost:8080/",
          "height": 417
        },
        "id": "RMUGU2fyYwdW",
        "outputId": "27d40a06-0e93-4c3c-d396-1af0b7bbebf0"
      },
      "outputs": [
        {
          "data": {
            "text/html": [
              "<div>\n",
              "<style scoped>\n",
              "    .dataframe tbody tr th:only-of-type {\n",
              "        vertical-align: middle;\n",
              "    }\n",
              "\n",
              "    .dataframe tbody tr th {\n",
              "        vertical-align: top;\n",
              "    }\n",
              "\n",
              "    .dataframe thead th {\n",
              "        text-align: right;\n",
              "    }\n",
              "</style>\n",
              "<table border=\"1\" class=\"dataframe\">\n",
              "  <thead>\n",
              "    <tr style=\"text-align: right;\">\n",
              "      <th></th>\n",
              "      <th>Retailer</th>\n",
              "      <th>Retailer ID</th>\n",
              "      <th>Invoice Date</th>\n",
              "      <th>Region</th>\n",
              "      <th>State</th>\n",
              "      <th>City</th>\n",
              "      <th>Product</th>\n",
              "      <th>Price per Unit</th>\n",
              "      <th>Units Sold</th>\n",
              "      <th>Total Sales</th>\n",
              "      <th>Operating Profit</th>\n",
              "      <th>Operating Margin</th>\n",
              "      <th>Sales Method</th>\n",
              "    </tr>\n",
              "  </thead>\n",
              "  <tbody>\n",
              "    <tr>\n",
              "      <th>0</th>\n",
              "      <td>Foot Locker</td>\n",
              "      <td>1185732</td>\n",
              "      <td>2020-01-01</td>\n",
              "      <td>Northeast</td>\n",
              "      <td>New York</td>\n",
              "      <td>New York</td>\n",
              "      <td>Men's Street Footwear</td>\n",
              "      <td>$50.00</td>\n",
              "      <td>1200.0</td>\n",
              "      <td>600000.0</td>\n",
              "      <td>300000.0</td>\n",
              "      <td>50.0</td>\n",
              "      <td>In-store</td>\n",
              "    </tr>\n",
              "    <tr>\n",
              "      <th>1</th>\n",
              "      <td>Foot Locker</td>\n",
              "      <td>1185732</td>\n",
              "      <td>2020-01-02</td>\n",
              "      <td>Northeast</td>\n",
              "      <td>New York</td>\n",
              "      <td>New York</td>\n",
              "      <td>Men's Athletic Footwear</td>\n",
              "      <td>$50.00</td>\n",
              "      <td>1000.0</td>\n",
              "      <td>500000.0</td>\n",
              "      <td>150000.0</td>\n",
              "      <td>30.0</td>\n",
              "      <td>In-store</td>\n",
              "    </tr>\n",
              "    <tr>\n",
              "      <th>2</th>\n",
              "      <td>Foot Locker</td>\n",
              "      <td>1185732</td>\n",
              "      <td>2020-01-03</td>\n",
              "      <td>Northeast</td>\n",
              "      <td>New York</td>\n",
              "      <td>New York</td>\n",
              "      <td>Women's Street Footwear</td>\n",
              "      <td>$40.00</td>\n",
              "      <td>1000.0</td>\n",
              "      <td>400000.0</td>\n",
              "      <td>140000.0</td>\n",
              "      <td>35.0</td>\n",
              "      <td>In-store</td>\n",
              "    </tr>\n",
              "    <tr>\n",
              "      <th>3</th>\n",
              "      <td>Foot Locker</td>\n",
              "      <td>1185732</td>\n",
              "      <td>2020-01-04</td>\n",
              "      <td>Northeast</td>\n",
              "      <td>New York</td>\n",
              "      <td>New York</td>\n",
              "      <td>Women's Athletic Footwear</td>\n",
              "      <td>$45.00</td>\n",
              "      <td>850.0</td>\n",
              "      <td>382500.0</td>\n",
              "      <td>133875.0</td>\n",
              "      <td>35.0</td>\n",
              "      <td>In-store</td>\n",
              "    </tr>\n",
              "    <tr>\n",
              "      <th>4</th>\n",
              "      <td>Foot Locker</td>\n",
              "      <td>1185732</td>\n",
              "      <td>2020-01-05</td>\n",
              "      <td>Northeast</td>\n",
              "      <td>New York</td>\n",
              "      <td>New York</td>\n",
              "      <td>Men's Apparel</td>\n",
              "      <td>$60.00</td>\n",
              "      <td>900.0</td>\n",
              "      <td>540000.0</td>\n",
              "      <td>162000.0</td>\n",
              "      <td>30.0</td>\n",
              "      <td>In-store</td>\n",
              "    </tr>\n",
              "  </tbody>\n",
              "</table>\n",
              "</div>"
            ],
            "text/plain": [
              "      Retailer  Retailer ID Invoice Date     Region     State      City  \\\n",
              "0  Foot Locker      1185732   2020-01-01  Northeast  New York  New York   \n",
              "1  Foot Locker      1185732   2020-01-02  Northeast  New York  New York   \n",
              "2  Foot Locker      1185732   2020-01-03  Northeast  New York  New York   \n",
              "3  Foot Locker      1185732   2020-01-04  Northeast  New York  New York   \n",
              "4  Foot Locker      1185732   2020-01-05  Northeast  New York  New York   \n",
              "\n",
              "                     Product Price per Unit  Units Sold  Total Sales  \\\n",
              "0      Men's Street Footwear         $50.00      1200.0     600000.0   \n",
              "1    Men's Athletic Footwear         $50.00      1000.0     500000.0   \n",
              "2    Women's Street Footwear         $40.00      1000.0     400000.0   \n",
              "3  Women's Athletic Footwear         $45.00       850.0     382500.0   \n",
              "4              Men's Apparel         $60.00       900.0     540000.0   \n",
              "\n",
              "   Operating Profit  Operating Margin Sales Method  \n",
              "0          300000.0              50.0     In-store  \n",
              "1          150000.0              30.0     In-store  \n",
              "2          140000.0              35.0     In-store  \n",
              "3          133875.0              35.0     In-store  \n",
              "4          162000.0              30.0     In-store  "
            ]
          },
          "execution_count": 19,
          "metadata": {},
          "output_type": "execute_result"
        }
      ],
      "source": [
        "df.head()"
      ]
    },
    {
      "cell_type": "code",
      "execution_count": 20,
      "metadata": {
        "colab": {
          "base_uri": "https://localhost:8080/"
        },
        "id": "FzIfC-5KYyCn",
        "outputId": "a8468106-be69-499a-a6c1-762b54efc4a4"
      },
      "outputs": [
        {
          "name": "stdout",
          "output_type": "stream",
          "text": [
            "<class 'pandas.core.frame.DataFrame'>\n",
            "RangeIndex: 9648 entries, 0 to 9647\n",
            "Data columns (total 13 columns):\n",
            " #   Column            Non-Null Count  Dtype         \n",
            "---  ------            --------------  -----         \n",
            " 0   Retailer          9648 non-null   object        \n",
            " 1   Retailer ID       9648 non-null   int32         \n",
            " 2   Invoice Date      9648 non-null   datetime64[ns]\n",
            " 3   Region            9648 non-null   object        \n",
            " 4   State             9648 non-null   object        \n",
            " 5   City              9648 non-null   object        \n",
            " 6   Product           9648 non-null   object        \n",
            " 7   Price per Unit    9648 non-null   object        \n",
            " 8   Units Sold        9648 non-null   float64       \n",
            " 9   Total Sales       9648 non-null   float64       \n",
            " 10  Operating Profit  9648 non-null   float64       \n",
            " 11  Operating Margin  9648 non-null   float64       \n",
            " 12  Sales Method      9648 non-null   object        \n",
            "dtypes: datetime64[ns](1), float64(4), int32(1), object(7)\n",
            "memory usage: 942.3+ KB\n"
          ]
        }
      ],
      "source": [
        "df.info()"
      ]
    },
    {
      "cell_type": "markdown",
      "metadata": {
        "id": "8YszYfOKY2G1"
      },
      "source": [
        "<hr>\n",
        "\n",
        "#**BP1: Sales Performance Analysis**\n",
        "\n",
        "**Which product are excelling in sales, and which are underperforming?**"
      ]
    },
    {
      "cell_type": "code",
      "execution_count": 21,
      "metadata": {
        "colab": {
          "base_uri": "https://localhost:8080/"
        },
        "id": "wUuVcCDHYzkC",
        "outputId": "4a28cb78-e6b1-47db-f696-63c87bc5b94a"
      },
      "outputs": [
        {
          "name": "stdout",
          "output_type": "stream",
          "text": [
            "The total Revenue: 899902125.0\n"
          ]
        }
      ],
      "source": [
        "# finding the total revenue\n",
        "total_revenue = df['Total Sales'].sum()\n",
        "print(f'The total Revenue: {total_revenue}')"
      ]
    },
    {
      "cell_type": "code",
      "execution_count": 22,
      "metadata": {
        "colab": {
          "base_uri": "https://localhost:8080/",
          "height": 255
        },
        "id": "KyoMoZFFZJxI",
        "outputId": "756097ab-e750-427d-aac5-d985fc7d4c34"
      },
      "outputs": [
        {
          "name": "stdout",
          "output_type": "stream",
          "text": [
            "The top performing Products in the dataset\n"
          ]
        },
        {
          "data": {
            "text/html": [
              "<div>\n",
              "<style scoped>\n",
              "    .dataframe tbody tr th:only-of-type {\n",
              "        vertical-align: middle;\n",
              "    }\n",
              "\n",
              "    .dataframe tbody tr th {\n",
              "        vertical-align: top;\n",
              "    }\n",
              "\n",
              "    .dataframe thead th {\n",
              "        text-align: right;\n",
              "    }\n",
              "</style>\n",
              "<table border=\"1\" class=\"dataframe\">\n",
              "  <thead>\n",
              "    <tr style=\"text-align: right;\">\n",
              "      <th></th>\n",
              "      <th>Product</th>\n",
              "      <th>Total Sales</th>\n",
              "      <th>Units Sold</th>\n",
              "    </tr>\n",
              "  </thead>\n",
              "  <tbody>\n",
              "    <tr>\n",
              "      <th>2</th>\n",
              "      <td>Men's Street Footwear</td>\n",
              "      <td>208826244.0</td>\n",
              "      <td>593320.0</td>\n",
              "    </tr>\n",
              "    <tr>\n",
              "      <th>3</th>\n",
              "      <td>Women's Apparel</td>\n",
              "      <td>179038860.0</td>\n",
              "      <td>433827.0</td>\n",
              "    </tr>\n",
              "    <tr>\n",
              "      <th>1</th>\n",
              "      <td>Men's Athletic Footwear</td>\n",
              "      <td>153673680.0</td>\n",
              "      <td>435526.0</td>\n",
              "    </tr>\n",
              "    <tr>\n",
              "      <th>5</th>\n",
              "      <td>Women's Street Footwear</td>\n",
              "      <td>128002813.0</td>\n",
              "      <td>392269.0</td>\n",
              "    </tr>\n",
              "    <tr>\n",
              "      <th>0</th>\n",
              "      <td>Men's Apparel</td>\n",
              "      <td>123728632.0</td>\n",
              "      <td>306683.0</td>\n",
              "    </tr>\n",
              "    <tr>\n",
              "      <th>4</th>\n",
              "      <td>Women's Athletic Footwear</td>\n",
              "      <td>106631896.0</td>\n",
              "      <td>317236.0</td>\n",
              "    </tr>\n",
              "  </tbody>\n",
              "</table>\n",
              "</div>"
            ],
            "text/plain": [
              "                     Product  Total Sales  Units Sold\n",
              "2      Men's Street Footwear  208826244.0    593320.0\n",
              "3            Women's Apparel  179038860.0    433827.0\n",
              "1    Men's Athletic Footwear  153673680.0    435526.0\n",
              "5    Women's Street Footwear  128002813.0    392269.0\n",
              "0              Men's Apparel  123728632.0    306683.0\n",
              "4  Women's Athletic Footwear  106631896.0    317236.0"
            ]
          },
          "execution_count": 22,
          "metadata": {},
          "output_type": "execute_result"
        }
      ],
      "source": [
        "# Aggregating the total sales and units sold for each product\n",
        "prod_sales = df.groupby('Product').agg({'Total Sales':'sum', 'Units Sold':'sum'}).reset_index()\n",
        "# sorting product by the total values by decreasing to find the top prod\n",
        "top_prod = prod_sales.sort_values(by='Total Sales', ascending = False)\n",
        "# results\n",
        "print('The top performing Products in the dataset')\n",
        "top_prod"
      ]
    },
    {
      "cell_type": "markdown",
      "metadata": {
        "id": "AgbcIihVaRG0"
      },
      "source": [
        "Insights:\n",
        "\n",
        "* The **Men's Street Footwear** are the most selling item in the entire dataset, with total sales value of 208826244"
      ]
    },
    {
      "cell_type": "code",
      "execution_count": 23,
      "metadata": {
        "colab": {
          "base_uri": "https://localhost:8080/",
          "height": 255
        },
        "id": "3Nsh8HDEZ1jD",
        "outputId": "02b42f9b-f9e9-41e8-a972-e398c9260fb6"
      },
      "outputs": [
        {
          "name": "stdout",
          "output_type": "stream",
          "text": [
            "Least Performed\n"
          ]
        },
        {
          "data": {
            "text/html": [
              "<div>\n",
              "<style scoped>\n",
              "    .dataframe tbody tr th:only-of-type {\n",
              "        vertical-align: middle;\n",
              "    }\n",
              "\n",
              "    .dataframe tbody tr th {\n",
              "        vertical-align: top;\n",
              "    }\n",
              "\n",
              "    .dataframe thead th {\n",
              "        text-align: right;\n",
              "    }\n",
              "</style>\n",
              "<table border=\"1\" class=\"dataframe\">\n",
              "  <thead>\n",
              "    <tr style=\"text-align: right;\">\n",
              "      <th></th>\n",
              "      <th>Product</th>\n",
              "      <th>Total Sales</th>\n",
              "      <th>Units Sold</th>\n",
              "    </tr>\n",
              "  </thead>\n",
              "  <tbody>\n",
              "    <tr>\n",
              "      <th>4</th>\n",
              "      <td>Women's Athletic Footwear</td>\n",
              "      <td>106631896.0</td>\n",
              "      <td>317236.0</td>\n",
              "    </tr>\n",
              "    <tr>\n",
              "      <th>0</th>\n",
              "      <td>Men's Apparel</td>\n",
              "      <td>123728632.0</td>\n",
              "      <td>306683.0</td>\n",
              "    </tr>\n",
              "    <tr>\n",
              "      <th>5</th>\n",
              "      <td>Women's Street Footwear</td>\n",
              "      <td>128002813.0</td>\n",
              "      <td>392269.0</td>\n",
              "    </tr>\n",
              "    <tr>\n",
              "      <th>1</th>\n",
              "      <td>Men's Athletic Footwear</td>\n",
              "      <td>153673680.0</td>\n",
              "      <td>435526.0</td>\n",
              "    </tr>\n",
              "    <tr>\n",
              "      <th>3</th>\n",
              "      <td>Women's Apparel</td>\n",
              "      <td>179038860.0</td>\n",
              "      <td>433827.0</td>\n",
              "    </tr>\n",
              "    <tr>\n",
              "      <th>2</th>\n",
              "      <td>Men's Street Footwear</td>\n",
              "      <td>208826244.0</td>\n",
              "      <td>593320.0</td>\n",
              "    </tr>\n",
              "  </tbody>\n",
              "</table>\n",
              "</div>"
            ],
            "text/plain": [
              "                     Product  Total Sales  Units Sold\n",
              "4  Women's Athletic Footwear  106631896.0    317236.0\n",
              "0              Men's Apparel  123728632.0    306683.0\n",
              "5    Women's Street Footwear  128002813.0    392269.0\n",
              "1    Men's Athletic Footwear  153673680.0    435526.0\n",
              "3            Women's Apparel  179038860.0    433827.0\n",
              "2      Men's Street Footwear  208826244.0    593320.0"
            ]
          },
          "execution_count": 23,
          "metadata": {},
          "output_type": "execute_result"
        }
      ],
      "source": [
        "# reversing the list to find the least performing product\n",
        "least_prod = prod_sales.sort_values(by = 'Total Sales')\n",
        "print('Least Performed')\n",
        "least_prod"
      ]
    },
    {
      "cell_type": "markdown",
      "metadata": {
        "id": "UKqmT5HPatSh"
      },
      "source": [
        "Insights:\n",
        "\n",
        "* From here we can clearly see that the **Women's Athletic Footwear** is the one which having the lowest sales in all, with values of 106631896\n",
        "\n",
        "<hr>"
      ]
    },
    {
      "cell_type": "markdown",
      "metadata": {
        "id": "wTrEQ6MjrZui"
      },
      "source": [
        "<hr>\n",
        "\n",
        "#**BP2: Regional Market Analysis**\n",
        "\n",
        "**Which stores are experiencing strong sales, and which ones are lagging**"
      ]
    },
    {
      "cell_type": "code",
      "execution_count": 24,
      "metadata": {
        "colab": {
          "base_uri": "https://localhost:8080/",
          "height": 417
        },
        "id": "1-N1ftn2aqY0",
        "outputId": "0642393a-e696-444f-973f-ca7cdd99fe54"
      },
      "outputs": [
        {
          "data": {
            "text/html": [
              "<div>\n",
              "<style scoped>\n",
              "    .dataframe tbody tr th:only-of-type {\n",
              "        vertical-align: middle;\n",
              "    }\n",
              "\n",
              "    .dataframe tbody tr th {\n",
              "        vertical-align: top;\n",
              "    }\n",
              "\n",
              "    .dataframe thead th {\n",
              "        text-align: right;\n",
              "    }\n",
              "</style>\n",
              "<table border=\"1\" class=\"dataframe\">\n",
              "  <thead>\n",
              "    <tr style=\"text-align: right;\">\n",
              "      <th></th>\n",
              "      <th>Retailer</th>\n",
              "      <th>Retailer ID</th>\n",
              "      <th>Invoice Date</th>\n",
              "      <th>Region</th>\n",
              "      <th>State</th>\n",
              "      <th>City</th>\n",
              "      <th>Product</th>\n",
              "      <th>Price per Unit</th>\n",
              "      <th>Units Sold</th>\n",
              "      <th>Total Sales</th>\n",
              "      <th>Operating Profit</th>\n",
              "      <th>Operating Margin</th>\n",
              "      <th>Sales Method</th>\n",
              "    </tr>\n",
              "  </thead>\n",
              "  <tbody>\n",
              "    <tr>\n",
              "      <th>0</th>\n",
              "      <td>Foot Locker</td>\n",
              "      <td>1185732</td>\n",
              "      <td>2020-01-01</td>\n",
              "      <td>Northeast</td>\n",
              "      <td>New York</td>\n",
              "      <td>New York</td>\n",
              "      <td>Men's Street Footwear</td>\n",
              "      <td>$50.00</td>\n",
              "      <td>1200.0</td>\n",
              "      <td>600000.0</td>\n",
              "      <td>300000.0</td>\n",
              "      <td>50.0</td>\n",
              "      <td>In-store</td>\n",
              "    </tr>\n",
              "    <tr>\n",
              "      <th>1</th>\n",
              "      <td>Foot Locker</td>\n",
              "      <td>1185732</td>\n",
              "      <td>2020-01-02</td>\n",
              "      <td>Northeast</td>\n",
              "      <td>New York</td>\n",
              "      <td>New York</td>\n",
              "      <td>Men's Athletic Footwear</td>\n",
              "      <td>$50.00</td>\n",
              "      <td>1000.0</td>\n",
              "      <td>500000.0</td>\n",
              "      <td>150000.0</td>\n",
              "      <td>30.0</td>\n",
              "      <td>In-store</td>\n",
              "    </tr>\n",
              "    <tr>\n",
              "      <th>2</th>\n",
              "      <td>Foot Locker</td>\n",
              "      <td>1185732</td>\n",
              "      <td>2020-01-03</td>\n",
              "      <td>Northeast</td>\n",
              "      <td>New York</td>\n",
              "      <td>New York</td>\n",
              "      <td>Women's Street Footwear</td>\n",
              "      <td>$40.00</td>\n",
              "      <td>1000.0</td>\n",
              "      <td>400000.0</td>\n",
              "      <td>140000.0</td>\n",
              "      <td>35.0</td>\n",
              "      <td>In-store</td>\n",
              "    </tr>\n",
              "    <tr>\n",
              "      <th>3</th>\n",
              "      <td>Foot Locker</td>\n",
              "      <td>1185732</td>\n",
              "      <td>2020-01-04</td>\n",
              "      <td>Northeast</td>\n",
              "      <td>New York</td>\n",
              "      <td>New York</td>\n",
              "      <td>Women's Athletic Footwear</td>\n",
              "      <td>$45.00</td>\n",
              "      <td>850.0</td>\n",
              "      <td>382500.0</td>\n",
              "      <td>133875.0</td>\n",
              "      <td>35.0</td>\n",
              "      <td>In-store</td>\n",
              "    </tr>\n",
              "    <tr>\n",
              "      <th>4</th>\n",
              "      <td>Foot Locker</td>\n",
              "      <td>1185732</td>\n",
              "      <td>2020-01-05</td>\n",
              "      <td>Northeast</td>\n",
              "      <td>New York</td>\n",
              "      <td>New York</td>\n",
              "      <td>Men's Apparel</td>\n",
              "      <td>$60.00</td>\n",
              "      <td>900.0</td>\n",
              "      <td>540000.0</td>\n",
              "      <td>162000.0</td>\n",
              "      <td>30.0</td>\n",
              "      <td>In-store</td>\n",
              "    </tr>\n",
              "  </tbody>\n",
              "</table>\n",
              "</div>"
            ],
            "text/plain": [
              "      Retailer  Retailer ID Invoice Date     Region     State      City  \\\n",
              "0  Foot Locker      1185732   2020-01-01  Northeast  New York  New York   \n",
              "1  Foot Locker      1185732   2020-01-02  Northeast  New York  New York   \n",
              "2  Foot Locker      1185732   2020-01-03  Northeast  New York  New York   \n",
              "3  Foot Locker      1185732   2020-01-04  Northeast  New York  New York   \n",
              "4  Foot Locker      1185732   2020-01-05  Northeast  New York  New York   \n",
              "\n",
              "                     Product Price per Unit  Units Sold  Total Sales  \\\n",
              "0      Men's Street Footwear         $50.00      1200.0     600000.0   \n",
              "1    Men's Athletic Footwear         $50.00      1000.0     500000.0   \n",
              "2    Women's Street Footwear         $40.00      1000.0     400000.0   \n",
              "3  Women's Athletic Footwear         $45.00       850.0     382500.0   \n",
              "4              Men's Apparel         $60.00       900.0     540000.0   \n",
              "\n",
              "   Operating Profit  Operating Margin Sales Method  \n",
              "0          300000.0              50.0     In-store  \n",
              "1          150000.0              30.0     In-store  \n",
              "2          140000.0              35.0     In-store  \n",
              "3          133875.0              35.0     In-store  \n",
              "4          162000.0              30.0     In-store  "
            ]
          },
          "execution_count": 24,
          "metadata": {},
          "output_type": "execute_result"
        }
      ],
      "source": [
        "df.head()"
      ]
    },
    {
      "cell_type": "markdown",
      "metadata": {
        "id": "lYTa2LPLrzQr"
      },
      "source": [
        "For this we need to work with the cities to find out the best and the worst performing stores"
      ]
    },
    {
      "cell_type": "code",
      "execution_count": 25,
      "metadata": {
        "colab": {
          "base_uri": "https://localhost:8080/"
        },
        "id": "MPzp3FcyrjOW",
        "outputId": "e26603bf-a57b-46fa-b200-03b8c09a5abc"
      },
      "outputs": [
        {
          "name": "stdout",
          "output_type": "stream",
          "text": [
            "The unique cities: ['New York' 'Houston' 'San Francisco' 'Los Angeles' 'Chicago' 'Dallas'\n",
            " 'Philadelphia' 'Las Vegas' 'Denver' 'Seattle' 'Miami' 'Minneapolis'\n",
            " 'Billings' 'Knoxville' 'Omaha' 'Birmingham' 'Portland' 'Anchorage'\n",
            " 'Honolulu' 'Orlando' 'Albany' 'Cheyenne' 'Richmond' 'Detroit' 'St. Louis'\n",
            " 'Salt Lake City' 'New Orleans' 'Boise' 'Phoenix' 'Albuquerque' 'Atlanta'\n",
            " 'Charleston' 'Charlotte' 'Columbus' 'Louisville' 'Jackson' 'Little Rock'\n",
            " 'Oklahoma City' 'Wichita' 'Sioux Falls' 'Fargo' 'Des Moines' 'Milwaukee'\n",
            " 'Indianapolis' 'Baltimore' 'Wilmington' 'Newark' 'Hartford' 'Providence'\n",
            " 'Boston' 'Burlington' 'Manchester']\n"
          ]
        }
      ],
      "source": [
        "# cities that are unique\n",
        "unique_cities = df['City'].unique()\n",
        "print(f'The unique cities: {unique_cities}')"
      ]
    },
    {
      "cell_type": "code",
      "execution_count": 26,
      "metadata": {
        "colab": {
          "base_uri": "https://localhost:8080/"
        },
        "id": "8RO1zh0zr8m1",
        "outputId": "32bf0462-f6ce-4896-a3de-7aae5d703a26"
      },
      "outputs": [
        {
          "name": "stdout",
          "output_type": "stream",
          "text": [
            "The total number of unique cities: 52\n"
          ]
        }
      ],
      "source": [
        "# how many are there\n",
        "noOfCities = df['City'].nunique()\n",
        "print(f'The total number of unique cities: {noOfCities}')"
      ]
    },
    {
      "cell_type": "code",
      "execution_count": 27,
      "metadata": {
        "id": "ixDvgur9sTGD"
      },
      "outputs": [],
      "source": [
        "# grouping the cities and retailers and summing up the units sold\n",
        "unitsCities = df.groupby(['City', 'Retailer'])['Units Sold'].sum().reset_index()\n",
        "\n",
        "# sorting the results withing the city to find the top and worst store\n",
        "sortedDf = unitsCities.sort_values(by = ['City', 'Units Sold'], ascending = [True, False])\n",
        "\n",
        "# getting the performers\n",
        "topStore = sortedDf.groupby('City').head(1)\n",
        "\n",
        "# worst\n",
        "leastStore = sortedDf.groupby('City').tail(1)"
      ]
    },
    {
      "cell_type": "code",
      "execution_count": 28,
      "metadata": {
        "colab": {
          "base_uri": "https://localhost:8080/",
          "height": 223
        },
        "id": "En6uyENysn_R",
        "outputId": "9ec566c9-290f-44b7-e408-ef7e64e21a05"
      },
      "outputs": [
        {
          "name": "stdout",
          "output_type": "stream",
          "text": [
            "Top Performing Store in Each City\n"
          ]
        },
        {
          "data": {
            "text/html": [
              "<div>\n",
              "<style scoped>\n",
              "    .dataframe tbody tr th:only-of-type {\n",
              "        vertical-align: middle;\n",
              "    }\n",
              "\n",
              "    .dataframe tbody tr th {\n",
              "        vertical-align: top;\n",
              "    }\n",
              "\n",
              "    .dataframe thead th {\n",
              "        text-align: right;\n",
              "    }\n",
              "</style>\n",
              "<table border=\"1\" class=\"dataframe\">\n",
              "  <thead>\n",
              "    <tr style=\"text-align: right;\">\n",
              "      <th></th>\n",
              "      <th>City</th>\n",
              "      <th>Retailer</th>\n",
              "      <th>Units Sold</th>\n",
              "    </tr>\n",
              "  </thead>\n",
              "  <tbody>\n",
              "    <tr>\n",
              "      <th>1</th>\n",
              "      <td>Albany</td>\n",
              "      <td>West Gear</td>\n",
              "      <td>47133.0</td>\n",
              "    </tr>\n",
              "    <tr>\n",
              "      <th>2</th>\n",
              "      <td>Albuquerque</td>\n",
              "      <td>Kohl's</td>\n",
              "      <td>43752.0</td>\n",
              "    </tr>\n",
              "    <tr>\n",
              "      <th>4</th>\n",
              "      <td>Anchorage</td>\n",
              "      <td>Amazon</td>\n",
              "      <td>26749.0</td>\n",
              "    </tr>\n",
              "    <tr>\n",
              "      <th>7</th>\n",
              "      <td>Atlanta</td>\n",
              "      <td>Sports Direct</td>\n",
              "      <td>41414.0</td>\n",
              "    </tr>\n",
              "    <tr>\n",
              "      <th>8</th>\n",
              "      <td>Baltimore</td>\n",
              "      <td>Foot Locker</td>\n",
              "      <td>9322.0</td>\n",
              "    </tr>\n",
              "  </tbody>\n",
              "</table>\n",
              "</div>"
            ],
            "text/plain": [
              "          City       Retailer  Units Sold\n",
              "1       Albany      West Gear     47133.0\n",
              "2  Albuquerque         Kohl's     43752.0\n",
              "4    Anchorage         Amazon     26749.0\n",
              "7      Atlanta  Sports Direct     41414.0\n",
              "8    Baltimore    Foot Locker      9322.0"
            ]
          },
          "execution_count": 28,
          "metadata": {},
          "output_type": "execute_result"
        }
      ],
      "source": [
        "# results\n",
        "print('Top Performing Store in Each City')\n",
        "topStore.head()"
      ]
    },
    {
      "cell_type": "code",
      "execution_count": 29,
      "metadata": {
        "colab": {
          "base_uri": "https://localhost:8080/",
          "height": 223
        },
        "id": "aV36EYpZ2WIk",
        "outputId": "df2af091-5ce7-4f26-ddc7-70aae2ac7dff"
      },
      "outputs": [
        {
          "name": "stdout",
          "output_type": "stream",
          "text": [
            "Least Performing Store in city\n"
          ]
        },
        {
          "data": {
            "text/html": [
              "<div>\n",
              "<style scoped>\n",
              "    .dataframe tbody tr th:only-of-type {\n",
              "        vertical-align: middle;\n",
              "    }\n",
              "\n",
              "    .dataframe tbody tr th {\n",
              "        vertical-align: top;\n",
              "    }\n",
              "\n",
              "    .dataframe thead th {\n",
              "        text-align: right;\n",
              "    }\n",
              "</style>\n",
              "<table border=\"1\" class=\"dataframe\">\n",
              "  <thead>\n",
              "    <tr style=\"text-align: right;\">\n",
              "      <th></th>\n",
              "      <th>City</th>\n",
              "      <th>Retailer</th>\n",
              "      <th>Units Sold</th>\n",
              "    </tr>\n",
              "  </thead>\n",
              "  <tbody>\n",
              "    <tr>\n",
              "      <th>0</th>\n",
              "      <td>Albany</td>\n",
              "      <td>Kohl's</td>\n",
              "      <td>10053.0</td>\n",
              "    </tr>\n",
              "    <tr>\n",
              "      <th>3</th>\n",
              "      <td>Albuquerque</td>\n",
              "      <td>Sports Direct</td>\n",
              "      <td>8881.0</td>\n",
              "    </tr>\n",
              "    <tr>\n",
              "      <th>5</th>\n",
              "      <td>Anchorage</td>\n",
              "      <td>Foot Locker</td>\n",
              "      <td>4066.0</td>\n",
              "    </tr>\n",
              "    <tr>\n",
              "      <th>6</th>\n",
              "      <td>Atlanta</td>\n",
              "      <td>Foot Locker</td>\n",
              "      <td>14977.0</td>\n",
              "    </tr>\n",
              "    <tr>\n",
              "      <th>10</th>\n",
              "      <td>Baltimore</td>\n",
              "      <td>West Gear</td>\n",
              "      <td>5647.0</td>\n",
              "    </tr>\n",
              "  </tbody>\n",
              "</table>\n",
              "</div>"
            ],
            "text/plain": [
              "           City       Retailer  Units Sold\n",
              "0        Albany         Kohl's     10053.0\n",
              "3   Albuquerque  Sports Direct      8881.0\n",
              "5     Anchorage    Foot Locker      4066.0\n",
              "6       Atlanta    Foot Locker     14977.0\n",
              "10    Baltimore      West Gear      5647.0"
            ]
          },
          "execution_count": 29,
          "metadata": {},
          "output_type": "execute_result"
        }
      ],
      "source": [
        "# least performing cities\n",
        "print('Least Performing Store in city')\n",
        "leastStore.head()"
      ]
    },
    {
      "cell_type": "markdown",
      "metadata": {
        "id": "ey3XnxId2xaA"
      },
      "source": [
        "The list of all the store that are least performing in each city\n",
        "\n",
        "<hr>"
      ]
    },
    {
      "cell_type": "markdown",
      "metadata": {
        "id": "pzXwgWOM3AFn"
      },
      "source": [
        "<hr>\n",
        "\n",
        "#**Profit Margin Analysis**\n",
        "\n",
        "**Does the operating profit significantly impact sales**"
      ]
    },
    {
      "cell_type": "code",
      "execution_count": 30,
      "metadata": {
        "id": "OrPmlNKw3iCX"
      },
      "outputs": [],
      "source": [
        "def corrnFunc(val):\n",
        "  if val >=0.90:\n",
        "    return f'The value of correlation is {val}, that shows high correlation between both entities'\n",
        "  elif val >=0.70 and val<0.90:\n",
        "    return f'The values of correlation is {val}, that should a positive correlation that is not that bad'\n",
        "  else:\n",
        "    return 'Weak correlation'"
      ]
    },
    {
      "cell_type": "code",
      "execution_count": 31,
      "metadata": {
        "colab": {
          "base_uri": "https://localhost:8080/",
          "height": 53
        },
        "id": "Sr5pNuWj2gHU",
        "outputId": "add465ce-388f-41cc-afcc-37fdae27ee40"
      },
      "outputs": [
        {
          "data": {
            "text/plain": [
              "'The value of correlation is 0.9563074748281607, that shows high correlation between both entities'"
            ]
          },
          "execution_count": 31,
          "metadata": {},
          "output_type": "execute_result"
        }
      ],
      "source": [
        "# checking the correlation between Operating profit and total sales\n",
        "corrn = df['Operating Profit'].corr(df['Total Sales'])\n",
        "corrnFunc(corrn)"
      ]
    },
    {
      "cell_type": "code",
      "execution_count": 32,
      "metadata": {
        "colab": {
          "base_uri": "https://localhost:8080/",
          "height": 53
        },
        "id": "CdCfsrFX3Vk0",
        "outputId": "c2b7d3f0-1ece-42b3-ecb6-afb03e0f5a1b"
      },
      "outputs": [
        {
          "data": {
            "text/plain": [
              "'The values of correlation is 0.8923794236295572, that should a positive correlation that is not that bad'"
            ]
          },
          "execution_count": 32,
          "metadata": {},
          "output_type": "execute_result"
        }
      ],
      "source": [
        "# checking the correlation between Operating profit and Units Sold\n",
        "corrn = df['Operating Profit'].corr(df['Units Sold'])\n",
        "corrnFunc(corrn)"
      ]
    },
    {
      "cell_type": "markdown",
      "metadata": {
        "id": "u14K7hJC4Wc0"
      },
      "source": [
        "Insights:\n",
        "\n",
        "* The correlation for the both the comparison are high.\n",
        "\n",
        "* This indicates that if the total sales will go up then the Operating Profit will also go up.\n",
        "\n",
        "* **So the answer is Yes, the operating Profit does affect Units Sold in a positive way**\n",
        "\n",
        "<hr>"
      ]
    },
    {
      "cell_type": "markdown",
      "metadata": {
        "id": "7D2_aHxz4vbN"
      },
      "source": [
        "<hr>\n",
        "\n",
        "#**BP4: Efficiency of Sales Methods**\n",
        "\n",
        "**Which Sales method is more effective --> In-store or online**"
      ]
    },
    {
      "cell_type": "code",
      "execution_count": 33,
      "metadata": {
        "colab": {
          "base_uri": "https://localhost:8080/"
        },
        "id": "NmoADUD44O4B",
        "outputId": "dd50011d-8a25-4943-b0f5-9fa31646c306"
      },
      "outputs": [
        {
          "name": "stdout",
          "output_type": "stream",
          "text": [
            "The available sales methods: ['In-store' 'Outlet' 'Online']\n"
          ]
        }
      ],
      "source": [
        "# finding the unique cols in df\n",
        "salesMeth = df[\"Sales Method\"].unique()\n",
        "print(f'The available sales methods: {salesMeth}')"
      ]
    },
    {
      "cell_type": "code",
      "execution_count": 34,
      "metadata": {
        "colab": {
          "base_uri": "https://localhost:8080/"
        },
        "id": "Iysxmk-R5KwN",
        "outputId": "4ce70092-f211-45ee-f783-908c5a6602c8"
      },
      "outputs": [
        {
          "name": "stdout",
          "output_type": "stream",
          "text": [
            "Collecting us\n",
            "  Downloading us-3.1.1.tar.gz (14 kB)\n",
            "  Installing build dependencies: started\n",
            "  Installing build dependencies: finished with status 'done'\n",
            "  Getting requirements to build wheel: started\n",
            "  Getting requirements to build wheel: finished with status 'done'\n",
            "  Preparing metadata (pyproject.toml): started\n",
            "  Preparing metadata (pyproject.toml): finished with status 'done'\n",
            "Collecting jellyfish==0.11.2 (from us)\n",
            "  Downloading jellyfish-0.11.2-cp311-none-win_amd64.whl (208 kB)\n",
            "     ---------------------------------------- 0.0/208.0 kB ? eta -:--:--\n",
            "     -------------------------------------- 208.0/208.0 kB 6.4 MB/s eta 0:00:00\n",
            "Building wheels for collected packages: us\n",
            "  Building wheel for us (pyproject.toml): started\n",
            "  Building wheel for us (pyproject.toml): finished with status 'done'\n",
            "  Created wheel for us: filename=us-3.1.1-py3-none-any.whl size=12607 sha256=9006f08a56e147f6e80d5cd7ce3e911301f178766dc04419d1d61501b38b3bd7\n",
            "  Stored in directory: c:\\users\\aman raghuvanshi\\appdata\\local\\pip\\cache\\wheels\\88\\1d\\36\\4c39b41019d5c316628db111f85de00af4476af5b9c5ddccc3\n",
            "Successfully built us\n",
            "Installing collected packages: jellyfish, us\n",
            "Successfully installed jellyfish-0.11.2 us-3.1.1\n"
          ]
        },
        {
          "name": "stderr",
          "output_type": "stream",
          "text": [
            "\n",
            "[notice] A new release of pip is available: 23.3.2 -> 24.0\n",
            "[notice] To update, run: python.exe -m pip install --upgrade pip\n"
          ]
        }
      ],
      "source": [
        "# using plotly we will try to plot these all\n",
        "!pip install us"
      ]
    },
    {
      "cell_type": "code",
      "execution_count": 35,
      "metadata": {
        "id": "bmepglKF5Xds"
      },
      "outputs": [],
      "source": [
        "from us import states\n",
        "stateCol = df['State']\n",
        "\n",
        "# Getting the two letter short names of the state names\n",
        "stateName = []\n",
        "for x in stateCol:\n",
        "  try:\n",
        "    # finding the name for the states\n",
        "    name = states.lookup(x).abbr\n",
        "  except AttributeError:\n",
        "    # incase we are not able to find the same, we set the Name to Unknown / None\n",
        "    name = 'Unknown'\n",
        "  stateName.append(name)\n"
      ]
    },
    {
      "cell_type": "code",
      "execution_count": 36,
      "metadata": {
        "colab": {
          "base_uri": "https://localhost:8080/"
        },
        "id": "yIwX_NyN6AR_",
        "outputId": "b7589211-f7c0-4b6f-b209-16f8a6281c68"
      },
      "outputs": [
        {
          "data": {
            "text/plain": [
              "0    NY\n",
              "1    NY\n",
              "2    NY\n",
              "3    NY\n",
              "4    NY\n",
              "Name: State_ShortForm, dtype: object"
            ]
          },
          "execution_count": 36,
          "metadata": {},
          "output_type": "execute_result"
        }
      ],
      "source": [
        "# creating a new column having the shortforms\n",
        "df['State_ShortForm'] = stateName\n",
        "df['State_ShortForm'].head()"
      ]
    },
    {
      "cell_type": "code",
      "execution_count": 37,
      "metadata": {
        "colab": {
          "base_uri": "https://localhost:8080/"
        },
        "id": "kZSjAQ-P6KRn",
        "outputId": "225f8dbd-0a10-4b66-fc7e-abe3c3dc0e65"
      },
      "outputs": [
        {
          "data": {
            "text/plain": [
              "array(['NY', 'TX', 'CA', 'IL', 'PA', 'NV', 'CO', 'WA', 'FL', 'MN', 'MT',\n",
              "       'TN', 'NE', 'AL', 'ME', 'AK', 'HI', 'WY', 'VA', 'MI', 'MO', 'UT',\n",
              "       'OR', 'LA', 'ID', 'AZ', 'NM', 'GA', 'SC', 'NC', 'OH', 'KY', 'MS',\n",
              "       'AR', 'OK', 'KS', 'SD', 'ND', 'IA', 'WI', 'IN', 'WV', 'MD', 'DE',\n",
              "       'NJ', 'CT', 'RI', 'MA', 'VT', 'NH'], dtype=object)"
            ]
          },
          "execution_count": 37,
          "metadata": {},
          "output_type": "execute_result"
        }
      ],
      "source": [
        "df['State_ShortForm'].unique()"
      ]
    },
    {
      "cell_type": "code",
      "execution_count": 41,
      "metadata": {},
      "outputs": [
        {
          "name": "stdout",
          "output_type": "stream",
          "text": [
            "Requirement already satisfied: nbformat in c:\\users\\aman raghuvanshi\\appdata\\local\\programs\\python\\python311\\lib\\site-packages (5.9.2)\n",
            "Requirement already satisfied: fastjsonschema in c:\\users\\aman raghuvanshi\\appdata\\local\\programs\\python\\python311\\lib\\site-packages (from nbformat) (2.19.1)\n",
            "Requirement already satisfied: jsonschema>=2.6 in c:\\users\\aman raghuvanshi\\appdata\\local\\programs\\python\\python311\\lib\\site-packages (from nbformat) (4.19.2)\n",
            "Requirement already satisfied: jupyter-core in c:\\users\\aman raghuvanshi\\appdata\\roaming\\python\\python311\\site-packages (from nbformat) (5.7.0)\n",
            "Requirement already satisfied: traitlets>=5.1 in c:\\users\\aman raghuvanshi\\appdata\\roaming\\python\\python311\\site-packages (from nbformat) (5.14.1)\n",
            "Requirement already satisfied: attrs>=22.2.0 in c:\\users\\aman raghuvanshi\\appdata\\local\\programs\\python\\python311\\lib\\site-packages (from jsonschema>=2.6->nbformat) (23.1.0)\n",
            "Requirement already satisfied: jsonschema-specifications>=2023.03.6 in c:\\users\\aman raghuvanshi\\appdata\\local\\programs\\python\\python311\\lib\\site-packages (from jsonschema>=2.6->nbformat) (2023.11.1)\n",
            "Requirement already satisfied: referencing>=0.28.4 in c:\\users\\aman raghuvanshi\\appdata\\local\\programs\\python\\python311\\lib\\site-packages (from jsonschema>=2.6->nbformat) (0.31.0)\n",
            "Requirement already satisfied: rpds-py>=0.7.1 in c:\\users\\aman raghuvanshi\\appdata\\local\\programs\\python\\python311\\lib\\site-packages (from jsonschema>=2.6->nbformat) (0.12.0)\n",
            "Requirement already satisfied: platformdirs>=2.5 in c:\\users\\aman raghuvanshi\\appdata\\roaming\\python\\python311\\site-packages (from jupyter-core->nbformat) (4.1.0)\n",
            "Requirement already satisfied: pywin32>=300 in c:\\users\\aman raghuvanshi\\appdata\\roaming\\python\\python311\\site-packages (from jupyter-core->nbformat) (306)\n"
          ]
        },
        {
          "name": "stderr",
          "output_type": "stream",
          "text": [
            "\n",
            "[notice] A new release of pip is available: 23.3.2 -> 24.0\n",
            "[notice] To update, run: python.exe -m pip install --upgrade pip\n"
          ]
        },
        {
          "name": "stdout",
          "output_type": "stream",
          "text": [
            "Requirement already satisfied: plotly in c:\\users\\aman raghuvanshi\\appdata\\local\\programs\\python\\python311\\lib\\site-packages (5.18.0)\n",
            "Requirement already satisfied: tenacity>=6.2.0 in c:\\users\\aman raghuvanshi\\appdata\\local\\programs\\python\\python311\\lib\\site-packages (from plotly) (8.2.3)\n",
            "Requirement already satisfied: packaging in c:\\users\\aman raghuvanshi\\appdata\\local\\programs\\python\\python311\\lib\\site-packages (from plotly) (23.2)\n"
          ]
        },
        {
          "name": "stderr",
          "output_type": "stream",
          "text": [
            "\n",
            "[notice] A new release of pip is available: 23.3.2 -> 24.0\n",
            "[notice] To update, run: python.exe -m pip install --upgrade pip\n"
          ]
        }
      ],
      "source": [
        "!pip install --upgrade nbformat\n",
        "!pip install --upgrade plotly\n",
        "\n"
      ]
    },
    {
      "cell_type": "markdown",
      "metadata": {
        "id": "yOfH6fy26Yla"
      },
      "source": [
        "**Using the choropleth Map trying to plot Sales by each state, product and sales Method in US**"
      ]
    },
    {
      "cell_type": "code",
      "execution_count": 42,
      "metadata": {
        "colab": {
          "base_uri": "https://localhost:8080/",
          "height": 542
        },
        "id": "w5QYZqsK6N7I",
        "outputId": "7c7e3fdd-c799-4f5d-89a4-8e16e9ee142e"
      },
      "outputs": [
        {
          "ename": "ValueError",
          "evalue": "Mime type rendering requires nbformat>=4.2.0 but it is not installed",
          "output_type": "error",
          "traceback": [
            "\u001b[1;31m---------------------------------------------------------------------------\u001b[0m",
            "\u001b[1;31mValueError\u001b[0m                                Traceback (most recent call last)",
            "Cell \u001b[1;32mIn[42], line 70\u001b[0m\n\u001b[0;32m     67\u001b[0m \u001b[38;5;28;01mif\u001b[39;00m fig\u001b[38;5;241m.\u001b[39mdata:\n\u001b[0;32m     68\u001b[0m   fig\u001b[38;5;241m.\u001b[39mdata[\u001b[38;5;241m0\u001b[39m]\u001b[38;5;241m.\u001b[39mvisible \u001b[38;5;241m=\u001b[39m \u001b[38;5;28;01mTrue\u001b[39;00m\n\u001b[1;32m---> 70\u001b[0m \u001b[43mfig\u001b[49m\u001b[38;5;241;43m.\u001b[39;49m\u001b[43mshow\u001b[49m\u001b[43m(\u001b[49m\u001b[43m)\u001b[49m\n",
            "File \u001b[1;32mc:\\Users\\Aman Raghuvanshi\\AppData\\Local\\Programs\\Python\\Python311\\Lib\\site-packages\\plotly\\basedatatypes.py:3410\u001b[0m, in \u001b[0;36mBaseFigure.show\u001b[1;34m(self, *args, **kwargs)\u001b[0m\n\u001b[0;32m   3377\u001b[0m \u001b[38;5;250m\u001b[39m\u001b[38;5;124;03m\"\"\"\u001b[39;00m\n\u001b[0;32m   3378\u001b[0m \u001b[38;5;124;03mShow a figure using either the default renderer(s) or the renderer(s)\u001b[39;00m\n\u001b[0;32m   3379\u001b[0m \u001b[38;5;124;03mspecified by the renderer argument\u001b[39;00m\n\u001b[1;32m   (...)\u001b[0m\n\u001b[0;32m   3406\u001b[0m \u001b[38;5;124;03mNone\u001b[39;00m\n\u001b[0;32m   3407\u001b[0m \u001b[38;5;124;03m\"\"\"\u001b[39;00m\n\u001b[0;32m   3408\u001b[0m \u001b[38;5;28;01mimport\u001b[39;00m \u001b[38;5;21;01mplotly\u001b[39;00m\u001b[38;5;21;01m.\u001b[39;00m\u001b[38;5;21;01mio\u001b[39;00m \u001b[38;5;28;01mas\u001b[39;00m \u001b[38;5;21;01mpio\u001b[39;00m\n\u001b[1;32m-> 3410\u001b[0m \u001b[38;5;28;01mreturn\u001b[39;00m \u001b[43mpio\u001b[49m\u001b[38;5;241;43m.\u001b[39;49m\u001b[43mshow\u001b[49m\u001b[43m(\u001b[49m\u001b[38;5;28;43mself\u001b[39;49m\u001b[43m,\u001b[49m\u001b[43m \u001b[49m\u001b[38;5;241;43m*\u001b[39;49m\u001b[43margs\u001b[49m\u001b[43m,\u001b[49m\u001b[43m \u001b[49m\u001b[38;5;241;43m*\u001b[39;49m\u001b[38;5;241;43m*\u001b[39;49m\u001b[43mkwargs\u001b[49m\u001b[43m)\u001b[49m\n",
            "File \u001b[1;32mc:\\Users\\Aman Raghuvanshi\\AppData\\Local\\Programs\\Python\\Python311\\Lib\\site-packages\\plotly\\io\\_renderers.py:394\u001b[0m, in \u001b[0;36mshow\u001b[1;34m(fig, renderer, validate, **kwargs)\u001b[0m\n\u001b[0;32m    389\u001b[0m         \u001b[38;5;28;01mraise\u001b[39;00m \u001b[38;5;167;01mValueError\u001b[39;00m(\n\u001b[0;32m    390\u001b[0m             \u001b[38;5;124m\"\u001b[39m\u001b[38;5;124mMime type rendering requires ipython but it is not installed\u001b[39m\u001b[38;5;124m\"\u001b[39m\n\u001b[0;32m    391\u001b[0m         )\n\u001b[0;32m    393\u001b[0m     \u001b[38;5;28;01mif\u001b[39;00m \u001b[38;5;129;01mnot\u001b[39;00m nbformat \u001b[38;5;129;01mor\u001b[39;00m Version(nbformat\u001b[38;5;241m.\u001b[39m__version__) \u001b[38;5;241m<\u001b[39m Version(\u001b[38;5;124m\"\u001b[39m\u001b[38;5;124m4.2.0\u001b[39m\u001b[38;5;124m\"\u001b[39m):\n\u001b[1;32m--> 394\u001b[0m         \u001b[38;5;28;01mraise\u001b[39;00m \u001b[38;5;167;01mValueError\u001b[39;00m(\n\u001b[0;32m    395\u001b[0m             \u001b[38;5;124m\"\u001b[39m\u001b[38;5;124mMime type rendering requires nbformat>=4.2.0 but it is not installed\u001b[39m\u001b[38;5;124m\"\u001b[39m\n\u001b[0;32m    396\u001b[0m         )\n\u001b[0;32m    398\u001b[0m     ipython_display\u001b[38;5;241m.\u001b[39mdisplay(bundle, raw\u001b[38;5;241m=\u001b[39m\u001b[38;5;28;01mTrue\u001b[39;00m)\n\u001b[0;32m    400\u001b[0m \u001b[38;5;66;03m# external renderers\u001b[39;00m\n",
            "\u001b[1;31mValueError\u001b[0m: Mime type rendering requires nbformat>=4.2.0 but it is not installed"
          ]
        }
      ],
      "source": [
        "df['Total Sales'] = df['Total Sales'].replace('[$,]', \"\", regex = True).astype(float)\n",
        "\n",
        "# making canvas\n",
        "fig = go.Figure()\n",
        "#all the unique products and sales method\n",
        "prod = df['Product'].unique()\n",
        "salesMeth = df['Sales Method'].unique()\n",
        "\n",
        "# adding the traces for each combination of products and sales\n",
        "for x in prod:\n",
        "  for y in salesMeth:\n",
        "    filterDf = df[(df['Product']==x) & (df['Sales Method']==y)]\n",
        "    stateSales = filterDf.groupby('State_ShortForm')['Total Sales'].sum().reset_index()\n",
        "\n",
        "    fig.add_trace(\n",
        "        go.Choropleth(\n",
        "            locations = stateSales['State_ShortForm'],\n",
        "            z = stateSales['Total Sales'],\n",
        "            locationmode = 'USA-states',\n",
        "            colorscale = 'tealrose',\n",
        "            name = f'{x} - {y}',\n",
        "            showscale = True,\n",
        "            visible = False, # hidding all traces initially\n",
        "        )\n",
        "    )\n",
        "\n",
        "\n",
        "# updating the layout with dropdowns (this is for products)\n",
        "prod_button = [\n",
        "    {'label': x,\n",
        "     'method':'update',\n",
        "     'args':[{'visible':[traces.name.startswith(x) for traces in fig.data]}]}\n",
        "    for x in prod\n",
        "]\n",
        "\n",
        "# updating the same for sales\n",
        "sales_button = [\n",
        "    {'label': y,\n",
        "     'method':'update',\n",
        "     'args':[{'visible':[y in trace.name for trace in fig.data]}]}\n",
        "    for y in salesMeth\n",
        "]\n",
        "\n",
        "fig.update_layout(\n",
        "    updatemenus = [\n",
        "        {'buttons':prod_button,\n",
        "         'direction':'down',\n",
        "         'showactive': True,\n",
        "         'x':0.25,\n",
        "         'xanchor':'left',\n",
        "         'y':1.15,\n",
        "         'yanchor':'top'\n",
        "         },\n",
        "        {'buttons':sales_button,\n",
        "         'direction':'down',\n",
        "         'showactive': True,\n",
        "         'x':0.75,\n",
        "         'xanchor':'left',\n",
        "         'y':1.15,\n",
        "         'yanchor':'top'\n",
        "         }],\n",
        "    geo = dict(scope = 'usa'),\n",
        "    title = 'Total Sales by State, Product and Sales Method available'\n",
        ")\n",
        "\n",
        "# displaying the first product and first sales\n",
        "if fig.data:\n",
        "  fig.data[0].visible = True\n",
        "\n",
        "fig.show()\n"
      ]
    },
    {
      "cell_type": "markdown",
      "metadata": {
        "id": "nkt4U63z-hzm"
      },
      "source": [
        "'aggrnyl', 'agsunset', 'algae', 'amp', 'armyrose', 'balance',\n",
        "             'blackbody', 'bluered', 'blues', 'blugrn', 'bluyl', 'brbg',\n",
        "             'brwnyl', 'bugn', 'bupu', 'burg', 'burgyl', 'cividis', 'curl',\n",
        "             'darkmint', 'deep', 'delta', 'dense', 'earth', 'edge', 'electric',\n",
        "             'emrld', 'fall', 'geyser', 'gnbu', 'gray', 'greens', 'greys',\n",
        "             'haline', 'hot', 'hsv', 'ice', 'icefire', 'inferno', 'jet',\n",
        "             'magenta', 'magma', 'matter', 'mint', 'mrybm', 'mygbm', 'oranges',\n",
        "             'orrd', 'oryel', 'oxy', 'peach', 'phase', 'picnic', 'pinkyl',\n",
        "             'piyg', 'plasma', 'plotly3', 'portland', 'prgn', 'pubu', 'pubugn',\n",
        "             'puor', 'purd', 'purp', 'purples', 'purpor', 'rainbow', 'rdbu',\n",
        "             'rdgy', 'rdpu', 'rdylbu', 'rdylgn', 'redor', 'reds', 'solar',\n",
        "             'spectral', 'speed', 'sunset', 'sunsetdark', 'teal', 'tealgrn',\n",
        "             'tealrose', 'tempo', 'temps', 'thermal', 'tropic', 'turbid',\n",
        "             'turbo', 'twilight', 'viridis', 'ylgn', 'ylgnbu', 'ylorbr',\n",
        "             'ylorrd'"
      ]
    },
    {
      "cell_type": "code",
      "execution_count": null,
      "metadata": {
        "colab": {
          "base_uri": "https://localhost:8080/"
        },
        "id": "_FUBjI_Y_QAl",
        "outputId": "e52c2916-a6ed-40d1-c65a-3263167bd2f7"
      },
      "outputs": [
        {
          "name": "stdout",
          "output_type": "stream",
          "text": [
            "<class 'pandas.core.frame.DataFrame'>\n",
            "RangeIndex: 9648 entries, 0 to 9647\n",
            "Data columns (total 14 columns):\n",
            " #   Column            Non-Null Count  Dtype         \n",
            "---  ------            --------------  -----         \n",
            " 0   Retailer          9648 non-null   object        \n",
            " 1   Retailer ID       9648 non-null   int32         \n",
            " 2   Invoice Date      9648 non-null   datetime64[ns]\n",
            " 3   Region            9648 non-null   object        \n",
            " 4   State             9648 non-null   object        \n",
            " 5   City              9648 non-null   object        \n",
            " 6   Product           9648 non-null   object        \n",
            " 7   Price per Unit    9648 non-null   object        \n",
            " 8   Units Sold        9648 non-null   float64       \n",
            " 9   Total Sales       9648 non-null   float64       \n",
            " 10  Operating Profit  9648 non-null   float64       \n",
            " 11  Operating Margin  9648 non-null   float64       \n",
            " 12  Sales Method      9648 non-null   object        \n",
            " 13  State_ShortForm   9648 non-null   object        \n",
            "dtypes: datetime64[ns](1), float64(4), int32(1), object(8)\n",
            "memory usage: 1017.7+ KB\n"
          ]
        }
      ],
      "source": [
        "df.info()"
      ]
    },
    {
      "cell_type": "code",
      "execution_count": null,
      "metadata": {
        "colab": {
          "base_uri": "https://localhost:8080/",
          "height": 174
        },
        "id": "hkQxwArS7SFP",
        "outputId": "c6734886-97c7-4121-933e-5f20b5d3070c"
      },
      "outputs": [
        {
          "data": {
            "text/html": [
              "\n",
              "  <div id=\"df-ccdd8c6f-796a-4f27-8d50-5ccd8b24e038\" class=\"colab-df-container\">\n",
              "    <div>\n",
              "<style scoped>\n",
              "    .dataframe tbody tr th:only-of-type {\n",
              "        vertical-align: middle;\n",
              "    }\n",
              "\n",
              "    .dataframe tbody tr th {\n",
              "        vertical-align: top;\n",
              "    }\n",
              "\n",
              "    .dataframe thead th {\n",
              "        text-align: right;\n",
              "    }\n",
              "</style>\n",
              "<table border=\"1\" class=\"dataframe\">\n",
              "  <thead>\n",
              "    <tr style=\"text-align: right;\">\n",
              "      <th></th>\n",
              "      <th>Total Sales</th>\n",
              "      <th>Operating Profit</th>\n",
              "      <th>Operating Margin</th>\n",
              "    </tr>\n",
              "    <tr>\n",
              "      <th>Sales Method</th>\n",
              "      <th></th>\n",
              "      <th></th>\n",
              "      <th></th>\n",
              "    </tr>\n",
              "  </thead>\n",
              "  <tbody>\n",
              "    <tr>\n",
              "      <th>In-store</th>\n",
              "      <td>356643750.0</td>\n",
              "      <td>127591382.0</td>\n",
              "      <td>0.357756</td>\n",
              "    </tr>\n",
              "    <tr>\n",
              "      <th>Online</th>\n",
              "      <td>247672882.0</td>\n",
              "      <td>96555337.0</td>\n",
              "      <td>0.389850</td>\n",
              "    </tr>\n",
              "    <tr>\n",
              "      <th>Outlet</th>\n",
              "      <td>295585493.0</td>\n",
              "      <td>107988403.0</td>\n",
              "      <td>0.365337</td>\n",
              "    </tr>\n",
              "  </tbody>\n",
              "</table>\n",
              "</div>\n",
              "    <div class=\"colab-df-buttons\">\n",
              "\n",
              "  <div class=\"colab-df-container\">\n",
              "    <button class=\"colab-df-convert\" onclick=\"convertToInteractive('df-ccdd8c6f-796a-4f27-8d50-5ccd8b24e038')\"\n",
              "            title=\"Convert this dataframe to an interactive table.\"\n",
              "            style=\"display:none;\">\n",
              "\n",
              "  <svg xmlns=\"http://www.w3.org/2000/svg\" height=\"24px\" viewBox=\"0 -960 960 960\">\n",
              "    <path d=\"M120-120v-720h720v720H120Zm60-500h600v-160H180v160Zm220 220h160v-160H400v160Zm0 220h160v-160H400v160ZM180-400h160v-160H180v160Zm440 0h160v-160H620v160ZM180-180h160v-160H180v160Zm440 0h160v-160H620v160Z\"/>\n",
              "  </svg>\n",
              "    </button>\n",
              "\n",
              "  <style>\n",
              "    .colab-df-container {\n",
              "      display:flex;\n",
              "      gap: 12px;\n",
              "    }\n",
              "\n",
              "    .colab-df-convert {\n",
              "      background-color: #E8F0FE;\n",
              "      border: none;\n",
              "      border-radius: 50%;\n",
              "      cursor: pointer;\n",
              "      display: none;\n",
              "      fill: #1967D2;\n",
              "      height: 32px;\n",
              "      padding: 0 0 0 0;\n",
              "      width: 32px;\n",
              "    }\n",
              "\n",
              "    .colab-df-convert:hover {\n",
              "      background-color: #E2EBFA;\n",
              "      box-shadow: 0px 1px 2px rgba(60, 64, 67, 0.3), 0px 1px 3px 1px rgba(60, 64, 67, 0.15);\n",
              "      fill: #174EA6;\n",
              "    }\n",
              "\n",
              "    .colab-df-buttons div {\n",
              "      margin-bottom: 4px;\n",
              "    }\n",
              "\n",
              "    [theme=dark] .colab-df-convert {\n",
              "      background-color: #3B4455;\n",
              "      fill: #D2E3FC;\n",
              "    }\n",
              "\n",
              "    [theme=dark] .colab-df-convert:hover {\n",
              "      background-color: #434B5C;\n",
              "      box-shadow: 0px 1px 3px 1px rgba(0, 0, 0, 0.15);\n",
              "      filter: drop-shadow(0px 1px 2px rgba(0, 0, 0, 0.3));\n",
              "      fill: #FFFFFF;\n",
              "    }\n",
              "  </style>\n",
              "\n",
              "    <script>\n",
              "      const buttonEl =\n",
              "        document.querySelector('#df-ccdd8c6f-796a-4f27-8d50-5ccd8b24e038 button.colab-df-convert');\n",
              "      buttonEl.style.display =\n",
              "        google.colab.kernel.accessAllowed ? 'block' : 'none';\n",
              "\n",
              "      async function convertToInteractive(key) {\n",
              "        const element = document.querySelector('#df-ccdd8c6f-796a-4f27-8d50-5ccd8b24e038');\n",
              "        const dataTable =\n",
              "          await google.colab.kernel.invokeFunction('convertToInteractive',\n",
              "                                                    [key], {});\n",
              "        if (!dataTable) return;\n",
              "\n",
              "        const docLinkHtml = 'Like what you see? Visit the ' +\n",
              "          '<a target=\"_blank\" href=https://colab.research.google.com/notebooks/data_table.ipynb>data table notebook</a>'\n",
              "          + ' to learn more about interactive tables.';\n",
              "        element.innerHTML = '';\n",
              "        dataTable['output_type'] = 'display_data';\n",
              "        await google.colab.output.renderOutput(dataTable, element);\n",
              "        const docLink = document.createElement('div');\n",
              "        docLink.innerHTML = docLinkHtml;\n",
              "        element.appendChild(docLink);\n",
              "      }\n",
              "    </script>\n",
              "  </div>\n",
              "\n",
              "\n",
              "<div id=\"df-f2a5b160-1251-49ff-a510-cc2f37a4c6f8\">\n",
              "  <button class=\"colab-df-quickchart\" onclick=\"quickchart('df-f2a5b160-1251-49ff-a510-cc2f37a4c6f8')\"\n",
              "            title=\"Suggest charts\"\n",
              "            style=\"display:none;\">\n",
              "\n",
              "<svg xmlns=\"http://www.w3.org/2000/svg\" height=\"24px\"viewBox=\"0 0 24 24\"\n",
              "     width=\"24px\">\n",
              "    <g>\n",
              "        <path d=\"M19 3H5c-1.1 0-2 .9-2 2v14c0 1.1.9 2 2 2h14c1.1 0 2-.9 2-2V5c0-1.1-.9-2-2-2zM9 17H7v-7h2v7zm4 0h-2V7h2v10zm4 0h-2v-4h2v4z\"/>\n",
              "    </g>\n",
              "</svg>\n",
              "  </button>\n",
              "\n",
              "<style>\n",
              "  .colab-df-quickchart {\n",
              "      --bg-color: #E8F0FE;\n",
              "      --fill-color: #1967D2;\n",
              "      --hover-bg-color: #E2EBFA;\n",
              "      --hover-fill-color: #174EA6;\n",
              "      --disabled-fill-color: #AAA;\n",
              "      --disabled-bg-color: #DDD;\n",
              "  }\n",
              "\n",
              "  [theme=dark] .colab-df-quickchart {\n",
              "      --bg-color: #3B4455;\n",
              "      --fill-color: #D2E3FC;\n",
              "      --hover-bg-color: #434B5C;\n",
              "      --hover-fill-color: #FFFFFF;\n",
              "      --disabled-bg-color: #3B4455;\n",
              "      --disabled-fill-color: #666;\n",
              "  }\n",
              "\n",
              "  .colab-df-quickchart {\n",
              "    background-color: var(--bg-color);\n",
              "    border: none;\n",
              "    border-radius: 50%;\n",
              "    cursor: pointer;\n",
              "    display: none;\n",
              "    fill: var(--fill-color);\n",
              "    height: 32px;\n",
              "    padding: 0;\n",
              "    width: 32px;\n",
              "  }\n",
              "\n",
              "  .colab-df-quickchart:hover {\n",
              "    background-color: var(--hover-bg-color);\n",
              "    box-shadow: 0 1px 2px rgba(60, 64, 67, 0.3), 0 1px 3px 1px rgba(60, 64, 67, 0.15);\n",
              "    fill: var(--button-hover-fill-color);\n",
              "  }\n",
              "\n",
              "  .colab-df-quickchart-complete:disabled,\n",
              "  .colab-df-quickchart-complete:disabled:hover {\n",
              "    background-color: var(--disabled-bg-color);\n",
              "    fill: var(--disabled-fill-color);\n",
              "    box-shadow: none;\n",
              "  }\n",
              "\n",
              "  .colab-df-spinner {\n",
              "    border: 2px solid var(--fill-color);\n",
              "    border-color: transparent;\n",
              "    border-bottom-color: var(--fill-color);\n",
              "    animation:\n",
              "      spin 1s steps(1) infinite;\n",
              "  }\n",
              "\n",
              "  @keyframes spin {\n",
              "    0% {\n",
              "      border-color: transparent;\n",
              "      border-bottom-color: var(--fill-color);\n",
              "      border-left-color: var(--fill-color);\n",
              "    }\n",
              "    20% {\n",
              "      border-color: transparent;\n",
              "      border-left-color: var(--fill-color);\n",
              "      border-top-color: var(--fill-color);\n",
              "    }\n",
              "    30% {\n",
              "      border-color: transparent;\n",
              "      border-left-color: var(--fill-color);\n",
              "      border-top-color: var(--fill-color);\n",
              "      border-right-color: var(--fill-color);\n",
              "    }\n",
              "    40% {\n",
              "      border-color: transparent;\n",
              "      border-right-color: var(--fill-color);\n",
              "      border-top-color: var(--fill-color);\n",
              "    }\n",
              "    60% {\n",
              "      border-color: transparent;\n",
              "      border-right-color: var(--fill-color);\n",
              "    }\n",
              "    80% {\n",
              "      border-color: transparent;\n",
              "      border-right-color: var(--fill-color);\n",
              "      border-bottom-color: var(--fill-color);\n",
              "    }\n",
              "    90% {\n",
              "      border-color: transparent;\n",
              "      border-bottom-color: var(--fill-color);\n",
              "    }\n",
              "  }\n",
              "</style>\n",
              "\n",
              "  <script>\n",
              "    async function quickchart(key) {\n",
              "      const quickchartButtonEl =\n",
              "        document.querySelector('#' + key + ' button');\n",
              "      quickchartButtonEl.disabled = true;  // To prevent multiple clicks.\n",
              "      quickchartButtonEl.classList.add('colab-df-spinner');\n",
              "      try {\n",
              "        const charts = await google.colab.kernel.invokeFunction(\n",
              "            'suggestCharts', [key], {});\n",
              "      } catch (error) {\n",
              "        console.error('Error during call to suggestCharts:', error);\n",
              "      }\n",
              "      quickchartButtonEl.classList.remove('colab-df-spinner');\n",
              "      quickchartButtonEl.classList.add('colab-df-quickchart-complete');\n",
              "    }\n",
              "    (() => {\n",
              "      let quickchartButtonEl =\n",
              "        document.querySelector('#df-f2a5b160-1251-49ff-a510-cc2f37a4c6f8 button');\n",
              "      quickchartButtonEl.style.display =\n",
              "        google.colab.kernel.accessAllowed ? 'block' : 'none';\n",
              "    })();\n",
              "  </script>\n",
              "</div>\n",
              "\n",
              "  <div id=\"id_7acd3607-0cbd-4cbc-a705-e815179fc73a\">\n",
              "    <style>\n",
              "      .colab-df-generate {\n",
              "        background-color: #E8F0FE;\n",
              "        border: none;\n",
              "        border-radius: 50%;\n",
              "        cursor: pointer;\n",
              "        display: none;\n",
              "        fill: #1967D2;\n",
              "        height: 32px;\n",
              "        padding: 0 0 0 0;\n",
              "        width: 32px;\n",
              "      }\n",
              "\n",
              "      .colab-df-generate:hover {\n",
              "        background-color: #E2EBFA;\n",
              "        box-shadow: 0px 1px 2px rgba(60, 64, 67, 0.3), 0px 1px 3px 1px rgba(60, 64, 67, 0.15);\n",
              "        fill: #174EA6;\n",
              "      }\n",
              "\n",
              "      [theme=dark] .colab-df-generate {\n",
              "        background-color: #3B4455;\n",
              "        fill: #D2E3FC;\n",
              "      }\n",
              "\n",
              "      [theme=dark] .colab-df-generate:hover {\n",
              "        background-color: #434B5C;\n",
              "        box-shadow: 0px 1px 3px 1px rgba(0, 0, 0, 0.15);\n",
              "        filter: drop-shadow(0px 1px 2px rgba(0, 0, 0, 0.3));\n",
              "        fill: #FFFFFF;\n",
              "      }\n",
              "    </style>\n",
              "    <button class=\"colab-df-generate\" onclick=\"generateWithVariable('salesData')\"\n",
              "            title=\"Generate code using this dataframe.\"\n",
              "            style=\"display:none;\">\n",
              "\n",
              "  <svg xmlns=\"http://www.w3.org/2000/svg\" height=\"24px\"viewBox=\"0 0 24 24\"\n",
              "       width=\"24px\">\n",
              "    <path d=\"M7,19H8.4L18.45,9,17,7.55,7,17.6ZM5,21V16.75L18.45,3.32a2,2,0,0,1,2.83,0l1.4,1.43a1.91,1.91,0,0,1,.58,1.4,1.91,1.91,0,0,1-.58,1.4L9.25,21ZM18.45,9,17,7.55Zm-12,3A5.31,5.31,0,0,0,4.9,8.1,5.31,5.31,0,0,0,1,6.5,5.31,5.31,0,0,0,4.9,4.9,5.31,5.31,0,0,0,6.5,1,5.31,5.31,0,0,0,8.1,4.9,5.31,5.31,0,0,0,12,6.5,5.46,5.46,0,0,0,6.5,12Z\"/>\n",
              "  </svg>\n",
              "    </button>\n",
              "    <script>\n",
              "      (() => {\n",
              "      const buttonEl =\n",
              "        document.querySelector('#id_7acd3607-0cbd-4cbc-a705-e815179fc73a button.colab-df-generate');\n",
              "      buttonEl.style.display =\n",
              "        google.colab.kernel.accessAllowed ? 'block' : 'none';\n",
              "\n",
              "      buttonEl.onclick = () => {\n",
              "        google.colab.notebook.generateWithVariable('salesData');\n",
              "      }\n",
              "      })();\n",
              "    </script>\n",
              "  </div>\n",
              "\n",
              "    </div>\n",
              "  </div>\n"
            ],
            "text/plain": [
              "              Total Sales  Operating Profit  Operating Margin\n",
              "Sales Method                                                 \n",
              "In-store      356643750.0       127591382.0          0.357756\n",
              "Online        247672882.0        96555337.0          0.389850\n",
              "Outlet        295585493.0       107988403.0          0.365337"
            ]
          },
          "execution_count": 97,
          "metadata": {},
          "output_type": "execute_result"
        }
      ],
      "source": [
        "# working on the method to segment and aggregate data by Sales\n",
        "salesData = df.groupby('Sales Method').agg({'Total Sales': 'sum', 'Operating Profit': 'sum'})\n",
        "\n",
        "# Calculating the Operating Margin for each sales method\n",
        "salesData['Operating Margin'] = salesData['Operating Profit'] / salesData['Total Sales']\n",
        "\n",
        "salesData"
      ]
    },
    {
      "cell_type": "code",
      "execution_count": null,
      "metadata": {
        "id": "gH6Sh5ax_Y3L"
      },
      "outputs": [],
      "source": [
        "#Which method is best\n",
        "# Segmenting and aggregating data by 'Sales Method'\n",
        "sales_method_grouped = data.groupby('Sales Method').agg({'Total Sales': 'sum', 'Operating Profit': 'sum'})\n",
        "\n",
        "# Calculating the Operating Margin for each sales method\n",
        "sales_method_grouped['Operating Margin'] = sales_method_grouped['Operating Profit'] / sales_method_grouped['Total Sales']\n",
        "\n",
        "sales_method_grouped"
      ]
    }
  ],
  "metadata": {
    "colab": {
      "provenance": []
    },
    "kernelspec": {
      "display_name": "Python 3",
      "name": "python3"
    },
    "language_info": {
      "codemirror_mode": {
        "name": "ipython",
        "version": 3
      },
      "file_extension": ".py",
      "mimetype": "text/x-python",
      "name": "python",
      "nbconvert_exporter": "python",
      "pygments_lexer": "ipython3",
      "version": "3.11.3"
    }
  },
  "nbformat": 4,
  "nbformat_minor": 0
}
